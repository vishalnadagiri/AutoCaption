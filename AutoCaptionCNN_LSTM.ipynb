{
  "nbformat": 4,
  "nbformat_minor": 0,
  "metadata": {
    "colab": {
      "name": "AutoCaptionCNN_LSTM.ipynb",
      "provenance": [],
      "include_colab_link": true
    },
    "kernelspec": {
      "name": "python3",
      "display_name": "Python 3"
    },
    "accelerator": "GPU"
  },
  "cells": [
    {
      "cell_type": "markdown",
      "metadata": {
        "id": "view-in-github",
        "colab_type": "text"
      },
      "source": [
        "<a href=\"https://colab.research.google.com/github/vishalnadagiri/AutoCaption/blob/main/AutoCaptionCNN_LSTM.ipynb\" target=\"_parent\"><img src=\"https://colab.research.google.com/assets/colab-badge.svg\" alt=\"Open In Colab\"/></a>"
      ]
    },
    {
      "cell_type": "code",
      "metadata": {
        "id": "BSUZpkpp0FGR"
      },
      "source": [
        "from numpy import array\r\n",
        "from pickle import load\r\n",
        "from keras.preprocessing.text import Tokenizer\r\n",
        "from keras.preprocessing.sequence import pad_sequences\r\n",
        "from keras.utils import to_categorical, plot_model\r\n",
        "from keras.models import Model\r\n",
        "from keras.layers import Input, Dense, LSTM, Embedding, Dropout\r\n",
        "from keras.layers.merge import add\r\n",
        "from keras.callbacks import ModelCheckpoint\r\n",
        "from os import listdir\r\n",
        "from pickle import dump\r\n",
        "from keras.applications.vgg16 import VGG16, preprocess_input\r\n",
        "from keras.preprocessing.image import load_img, img_to_array\r\n",
        "import pandas as pd\r\n",
        "import numpy as np\r\n",
        "import glob\r\n",
        "import re"
      ],
      "execution_count": null,
      "outputs": []
    },
    {
      "cell_type": "markdown",
      "metadata": {
        "id": "JJwEQbY64V9W"
      },
      "source": [
        "# Image data preparation and Image feature extraction"
      ]
    },
    {
      "cell_type": "code",
      "metadata": {
        "id": "ZJ3rKcWM0f5u"
      },
      "source": [
        "def extract_features(img_files):\r\n",
        "    model = VGG16()\r\n",
        "    model = Model(inputs=model.inputs, outputs=model.layers[-2].output)\r\n",
        "\r\n",
        "    features = dict()\r\n",
        "    for name in img_files:\r\n",
        "        # filename = directory + '/' + name\r\n",
        "        image = load_img(name, target_size=(224, 224))\r\n",
        "        image = img_to_array(image)\r\n",
        "        image = image.reshape((1, image.shape[0], image.shape[1], image.shape[2]))\r\n",
        "        image = preprocess_input(image)\r\n",
        "        feature = model.predict(image, verbose=0)\r\n",
        "\r\n",
        "        image_id = name.split('/')[-1]\r\n",
        "\r\n",
        "        features[image_id] = feature\r\n",
        "    # print('>%s' % name)\r\n",
        "    return features"
      ],
      "execution_count": null,
      "outputs": []
    },
    {
      "cell_type": "code",
      "metadata": {
        "colab": {
          "base_uri": "https://localhost:8080/"
        },
        "id": "-DUEvGYF1u2C",
        "outputId": "f5c0babd-95d5-4516-a109-7d9130bbd1c8"
      },
      "source": [
        "from google.colab import drive\r\n",
        "drive.mount('/content/drive')"
      ],
      "execution_count": 3,
      "outputs": [
        {
          "output_type": "stream",
          "text": [
            "Mounted at /content/drive\n"
          ],
          "name": "stdout"
        }
      ]
    },
    {
      "cell_type": "code",
      "metadata": {
        "id": "dJnvblWI1Upf"
      },
      "source": [
        "csv_path = f\"/content/drive/MyDrive/AutoCaption/extracted/dataset.xlsx\"\r\n",
        "imag_path = f\"/content/drive/MyDrive/AutoCaption/extracted/images/images/\" \r\n",
        "df = pd.read_excel(csv_path)\r\n",
        "img_files = (glob.glob(imag_path+'*'))"
      ],
      "execution_count": 4,
      "outputs": []
    },
    {
      "cell_type": "code",
      "metadata": {
        "colab": {
          "base_uri": "https://localhost:8080/"
        },
        "id": "Ym0ltL9t1VmM",
        "outputId": "62949355-d967-4f52-9977-7b0f508bbd54"
      },
      "source": [
        "features = extract_features(img_files)\r\n",
        "print('Extracted Features: %d' % len(features))\r\n",
        "# save to file\r\n",
        "dump(features, open('features.pkl', 'wb'))"
      ],
      "execution_count": 7,
      "outputs": [
        {
          "output_type": "stream",
          "text": [
            "Downloading data from https://storage.googleapis.com/tensorflow/keras-applications/vgg16/vgg16_weights_tf_dim_ordering_tf_kernels.h5\n",
            "553467904/553467096 [==============================] - 4s 0us/step\n",
            "Extracted Features: 500\n"
          ],
          "name": "stdout"
        }
      ]
    },
    {
      "cell_type": "markdown",
      "metadata": {
        "id": "Lg1znc3d4O7a"
      },
      "source": [
        "# Tetxt Data prepparation"
      ]
    },
    {
      "cell_type": "code",
      "metadata": {
        "colab": {
          "base_uri": "https://localhost:8080/",
          "height": 53
        },
        "id": "KSJTSWzt2v_I",
        "outputId": "03cc08a3-0950-492d-9224-840c3e8f3c39"
      },
      "source": [
        "df.Description[0]"
      ],
      "execution_count": 8,
      "outputs": [
        {
          "output_type": "execute_result",
          "data": {
            "application/vnd.google.colaboratory.intrinsic+json": {
              "type": "string"
            },
            "text/plain": [
              "'This stylish foil print kurta from janasya is made of poly crepe and comes in an attractive peach color. It features 3/4 sleeve,round neck,a-line and it is calf length kurta that is suitable for casual occasions. Team it with matching leggings for a chic look.'"
            ]
          },
          "metadata": {
            "tags": []
          },
          "execution_count": 8
        }
      ]
    },
    {
      "cell_type": "code",
      "metadata": {
        "colab": {
          "base_uri": "https://localhost:8080/"
        },
        "id": "Tz7rifE47C3K",
        "outputId": "229e0306-19f9-4fab-cb2d-3b57560c3a71"
      },
      "source": [
        "features.keys()"
      ],
      "execution_count": 9,
      "outputs": [
        {
          "output_type": "execute_result",
          "data": {
            "text/plain": [
              "dict_keys(['pic_0.jpg', 'pic_1.jpg', 'pic_2.jpg', 'pic_3.jpg', 'pic_4.jpg', 'pic_5.jpg', 'pic_7.jpg', 'pic_6.jpg', 'pic_8.jpg', 'pic_10.jpg', 'pic_9.jpg', 'pic_12.jpg', 'pic_11.jpg', 'pic_13.jpg', 'pic_15.jpg', 'pic_14.jpg', 'pic_17.jpg', 'pic_16.jpg', 'pic_19.jpg', 'pic_20.jpg', 'pic_18.jpg', 'pic_21.jpg', 'pic_22.jpg', 'pic_23.jpg', 'pic_24.jpg', 'pic_25.jpg', 'pic_26.jpg', 'pic_27.jpg', 'pic_31.jpg', 'pic_29.jpg', 'pic_28.jpg', 'pic_30.jpg', 'pic_32.jpg', 'pic_33.jpg', 'pic_35.jpg', 'pic_34.jpg', 'pic_36.jpg', 'pic_37.jpg', 'pic_38.jpg', 'pic_39.jpg', 'pic_40.jpg', 'pic_41.jpg', 'pic_42.jpg', 'pic_43.jpg', 'pic_44.jpg', 'pic_46.jpg', 'pic_45.jpg', 'pic_47.jpg', 'pic_48.jpg', 'pic_50.jpg', 'pic_49.jpg', 'pic_51.jpg', 'pic_53.jpg', 'pic_52.jpg', 'pic_54.jpg', 'pic_56.jpg', 'pic_57.jpg', 'pic_55.jpg', 'pic_59.jpg', 'pic_58.jpg', 'pic_60.jpg', 'pic_61.jpg', 'pic_63.jpg', 'pic_62.jpg', 'pic_66.jpg', 'pic_64.jpg', 'pic_65.jpg', 'pic_68.jpg', 'pic_67.jpg', 'pic_71.jpg', 'pic_69.jpg', 'pic_70.jpg', 'pic_72.jpg', 'pic_73.jpg', 'pic_74.jpg', 'pic_75.jpg', 'pic_76.jpg', 'pic_77.jpg', 'pic_78.jpg', 'pic_79.jpg', 'pic_81.jpg', 'pic_80.jpg', 'pic_82.jpg', 'pic_83.jpg', 'pic_84.jpg', 'pic_85.jpg', 'pic_86.jpg', 'pic_87.jpg', 'pic_89.jpg', 'pic_88.jpg', 'pic_91.jpg', 'pic_90.jpg', 'pic_93.jpg', 'pic_92.jpg', 'pic_94.jpg', 'pic_95.jpg', 'pic_96.jpg', 'pic_97.jpg', 'pic_98.jpg', 'pic_99.jpg', 'pic_100.jpg', 'pic_102.jpg', 'pic_101.jpg', 'pic_105.jpg', 'pic_103.jpg', 'pic_104.jpg', 'pic_106.jpg', 'pic_107.jpg', 'pic_108.jpg', 'pic_111.jpg', 'pic_110.jpg', 'pic_109.jpg', 'pic_112.jpg', 'pic_113.jpg', 'pic_116.jpg', 'pic_115.jpg', 'pic_114.jpg', 'pic_117.jpg', 'pic_118.jpg', 'pic_119.jpg', 'pic_120.jpg', 'pic_121.jpg', 'pic_122.jpg', 'pic_124.jpg', 'pic_123.jpg', 'pic_126.jpg', 'pic_125.jpg', 'pic_128.jpg', 'pic_127.jpg', 'pic_129.jpg', 'pic_130.jpg', 'pic_131.jpg', 'pic_132.jpg', 'pic_133.jpg', 'pic_134.jpg', 'pic_137.jpg', 'pic_135.jpg', 'pic_136.jpg', 'pic_138.jpg', 'pic_139.jpg', 'pic_140.jpg', 'pic_141.jpg', 'pic_142.jpg', 'pic_143.jpg', 'pic_145.jpg', 'pic_144.jpg', 'pic_148.jpg', 'pic_146.jpg', 'pic_147.jpg', 'pic_151.jpg', 'pic_150.jpg', 'pic_149.jpg', 'pic_153.jpg', 'pic_152.jpg', 'pic_154.jpg', 'pic_155.jpg', 'pic_156.jpg', 'pic_157.jpg', 'pic_159.jpg', 'pic_158.jpg', 'pic_160.jpg', 'pic_162.jpg', 'pic_161.jpg', 'pic_163.jpg', 'pic_164.jpg', 'pic_165.jpg', 'pic_166.jpg', 'pic_167.jpg', 'pic_168.jpg', 'pic_169.jpg', 'pic_170.jpg', 'pic_171.jpg', 'pic_172.jpg', 'pic_174.jpg', 'pic_173.jpg', 'pic_177.jpg', 'pic_176.jpg', 'pic_175.jpg', 'pic_178.jpg', 'pic_179.jpg', 'pic_180.jpg', 'pic_182.jpg', 'pic_181.jpg', 'pic_183.jpg', 'pic_184.jpg', 'pic_185.jpg', 'pic_186.jpg', 'pic_188.jpg', 'pic_187.jpg', 'pic_189.jpg', 'pic_190.jpg', 'pic_191.jpg', 'pic_192.jpg', 'pic_193.jpg', 'pic_194.jpg', 'pic_195.jpg', 'pic_197.jpg', 'pic_196.jpg', 'pic_198.jpg', 'pic_200.jpg', 'pic_199.jpg', 'pic_201.jpg', 'pic_202.jpg', 'pic_204.jpg', 'pic_203.jpg', 'pic_205.jpg', 'pic_207.jpg', 'pic_206.jpg', 'pic_209.jpg', 'pic_208.jpg', 'pic_212.jpg', 'pic_210.jpg', 'pic_211.jpg', 'pic_215.jpg', 'pic_213.jpg', 'pic_214.jpg', 'pic_218.jpg', 'pic_217.jpg', 'pic_216.jpg', 'pic_220.jpg', 'pic_219.jpg', 'pic_222.jpg', 'pic_221.jpg', 'pic_224.jpg', 'pic_223.jpg', 'pic_226.jpg', 'pic_225.jpg', 'pic_227.jpg', 'pic_228.jpg', 'pic_229.jpg', 'pic_230.jpg', 'pic_231.jpg', 'pic_232.jpg', 'pic_233.jpg', 'pic_234.jpg', 'pic_235.jpg', 'pic_237.jpg', 'pic_236.jpg', 'pic_238.jpg', 'pic_240.jpg', 'pic_239.jpg', 'pic_242.jpg', 'pic_241.jpg', 'pic_243.jpg', 'pic_244.jpg', 'pic_245.jpg', 'pic_246.jpg', 'pic_247.jpg', 'pic_249.jpg', 'pic_248.jpg', 'pic_250.jpg', 'pic_251.jpg', 'pic_252.jpg', 'pic_253.jpg', 'pic_254.jpg', 'pic_256.jpg', 'pic_255.jpg', 'pic_257.jpg', 'pic_259.jpg', 'pic_258.jpg', 'pic_260.jpg', 'pic_261.jpg', 'pic_262.jpg', 'pic_264.jpg', 'pic_263.jpg', 'pic_265.jpg', 'pic_266.jpg', 'pic_268.jpg', 'pic_267.jpg', 'pic_269.jpg', 'pic_270.jpg', 'pic_272.jpg', 'pic_271.jpg', 'pic_273.jpg', 'pic_274.jpg', 'pic_276.jpg', 'pic_275.jpg', 'pic_278.jpg', 'pic_277.jpg', 'pic_280.jpg', 'pic_279.jpg', 'pic_282.jpg', 'pic_281.jpg', 'pic_283.jpg', 'pic_284.jpg', 'pic_286.jpg', 'pic_287.jpg', 'pic_285.jpg', 'pic_288.jpg', 'pic_289.jpg', 'pic_292.jpg', 'pic_290.jpg', 'pic_291.jpg', 'pic_294.jpg', 'pic_293.jpg', 'pic_295.jpg', 'pic_297.jpg', 'pic_296.jpg', 'pic_298.jpg', 'pic_299.jpg', 'pic_301.jpg', 'pic_300.jpg', 'pic_303.jpg', 'pic_302.jpg', 'pic_304.jpg', 'pic_305.jpg', 'pic_308.jpg', 'pic_307.jpg', 'pic_306.jpg', 'pic_309.jpg', 'pic_310.jpg', 'pic_311.jpg', 'pic_312.jpg', 'pic_314.jpg', 'pic_313.jpg', 'pic_316.jpg', 'pic_315.jpg', 'pic_317.jpg', 'pic_318.jpg', 'pic_319.jpg', 'pic_320.jpg', 'pic_321.jpg', 'pic_323.jpg', 'pic_322.jpg', 'pic_324.jpg', 'pic_325.jpg', 'pic_326.jpg', 'pic_327.jpg', 'pic_328.jpg', 'pic_329.jpg', 'pic_330.jpg', 'pic_331.jpg', 'pic_333.jpg', 'pic_332.jpg', 'pic_334.jpg', 'pic_335.jpg', 'pic_336.jpg', 'pic_337.jpg', 'pic_338.jpg', 'pic_339.jpg', 'pic_340.jpg', 'pic_341.jpg', 'pic_342.jpg', 'pic_343.jpg', 'pic_346.jpg', 'pic_344.jpg', 'pic_345.jpg', 'pic_348.jpg', 'pic_347.jpg', 'pic_351.jpg', 'pic_350.jpg', 'pic_349.jpg', 'pic_353.jpg', 'pic_352.jpg', 'pic_354.jpg', 'pic_355.jpg', 'pic_356.jpg', 'pic_358.jpg', 'pic_357.jpg', 'pic_359.jpg', 'pic_360.jpg', 'pic_361.jpg', 'pic_362.jpg', 'pic_363.jpg', 'pic_364.jpg', 'pic_365.jpg', 'pic_366.jpg', 'pic_367.jpg', 'pic_368.jpg', 'pic_369.jpg', 'pic_370.jpg', 'pic_371.jpg', 'pic_372.jpg', 'pic_373.jpg', 'pic_374.jpg', 'pic_375.jpg', 'pic_377.jpg', 'pic_376.jpg', 'pic_379.jpg', 'pic_378.jpg', 'pic_380.jpg', 'pic_382.jpg', 'pic_381.jpg', 'pic_384.jpg', 'pic_383.jpg', 'pic_385.jpg', 'pic_386.jpg', 'pic_388.jpg', 'pic_387.jpg', 'pic_390.jpg', 'pic_389.jpg', 'pic_391.jpg', 'pic_392.jpg', 'pic_393.jpg', 'pic_394.jpg', 'pic_395.jpg', 'pic_396.jpg', 'pic_397.jpg', 'pic_398.jpg', 'pic_399.jpg', 'pic_401.jpg', 'pic_400.jpg', 'pic_402.jpg', 'pic_405.jpg', 'pic_404.jpg', 'pic_403.jpg', 'pic_406.jpg', 'pic_407.jpg', 'pic_408.jpg', 'pic_409.jpg', 'pic_410.jpg', 'pic_411.jpg', 'pic_412.jpg', 'pic_413.jpg', 'pic_414.jpg', 'pic_415.jpg', 'pic_416.jpg', 'pic_417.jpg', 'pic_419.jpg', 'pic_418.jpg', 'pic_422.jpg', 'pic_421.jpg', 'pic_420.jpg', 'pic_423.jpg', 'pic_424.jpg', 'pic_426.jpg', 'pic_425.jpg', 'pic_427.jpg', 'pic_428.jpg', 'pic_429.jpg', 'pic_430.jpg', 'pic_431.jpg', 'pic_432.jpg', 'pic_433.jpg', 'pic_434.jpg', 'pic_435.jpg', 'pic_436.jpg', 'pic_437.jpg', 'pic_438.jpg', 'pic_440.jpg', 'pic_439.jpg', 'pic_441.jpg', 'pic_442.jpg', 'pic_443.jpg', 'pic_444.jpg', 'pic_445.jpg', 'pic_446.jpg', 'pic_447.jpg', 'pic_449.jpg', 'pic_448.jpg', 'pic_452.jpg', 'pic_451.jpg', 'pic_450.jpg', 'pic_453.jpg', 'pic_454.jpg', 'pic_456.jpg', 'pic_455.jpg', 'pic_457.jpg', 'pic_458.jpg', 'pic_460.jpg', 'pic_461.jpg', 'pic_459.jpg', 'pic_463.jpg', 'pic_462.jpg', 'pic_465.jpg', 'pic_464.jpg', 'pic_467.jpg', 'pic_466.jpg', 'pic_469.jpg', 'pic_470.jpg', 'pic_468.jpg', 'pic_472.jpg', 'pic_471.jpg', 'pic_474.jpg', 'pic_473.jpg', 'pic_476.jpg', 'pic_475.jpg', 'pic_477.jpg', 'pic_478.jpg', 'pic_479.jpg', 'pic_481.jpg', 'pic_480.jpg', 'pic_482.jpg', 'pic_483.jpg', 'pic_484.jpg', 'pic_485.jpg', 'pic_487.jpg', 'pic_486.jpg', 'pic_488.jpg', 'pic_489.jpg', 'pic_490.jpg', 'pic_491.jpg', 'pic_492.jpg', 'pic_493.jpg', 'pic_494.jpg', 'pic_496.jpg', 'pic_495.jpg', 'pic_499.jpg', 'pic_498.jpg', 'pic_497.jpg'])"
            ]
          },
          "metadata": {
            "tags": []
          },
          "execution_count": 9
        }
      ]
    },
    {
      "cell_type": "code",
      "metadata": {
        "colab": {
          "base_uri": "https://localhost:8080/"
        },
        "id": "DiBywMq18BJF",
        "outputId": "3124cd25-a69e-4cd5-9659-ab19e86ad8bd"
      },
      "source": [
        "df.columns"
      ],
      "execution_count": 10,
      "outputs": [
        {
          "output_type": "execute_result",
          "data": {
            "text/plain": [
              "Index(['Title', 'Description', 'Material', 'Pattern', 'Neckline',\n",
              "       'Image_Path'],\n",
              "      dtype='object')"
            ]
          },
          "metadata": {
            "tags": []
          },
          "execution_count": 10
        }
      ]
    },
    {
      "cell_type": "code",
      "metadata": {
        "colab": {
          "base_uri": "https://localhost:8080/",
          "height": 35
        },
        "id": "erZQpI0x_PNU",
        "outputId": "326fee22-ef9f-405f-b122-d36011201dab"
      },
      "source": [
        "df.Image_Path[0]"
      ],
      "execution_count": 11,
      "outputs": [
        {
          "output_type": "execute_result",
          "data": {
            "application/vnd.google.colaboratory.intrinsic+json": {
              "type": "string"
            },
            "text/plain": [
              "'/images/pic_0.jpg'"
            ]
          },
          "metadata": {
            "tags": []
          },
          "execution_count": 11
        }
      ]
    },
    {
      "cell_type": "code",
      "metadata": {
        "id": "pH0u4rfL_SRD"
      },
      "source": [
        "df.Image_Path = df.Image_Path.apply(lambda x: x.split(f'/')[-1])"
      ],
      "execution_count": 12,
      "outputs": []
    },
    {
      "cell_type": "code",
      "metadata": {
        "colab": {
          "base_uri": "https://localhost:8080/",
          "height": 35
        },
        "id": "u6dQJTGP_g3L",
        "outputId": "9778cfc5-4a3e-4a2f-8539-f9af9e46a802"
      },
      "source": [
        "df.Image_Path[0]"
      ],
      "execution_count": 13,
      "outputs": [
        {
          "output_type": "execute_result",
          "data": {
            "application/vnd.google.colaboratory.intrinsic+json": {
              "type": "string"
            },
            "text/plain": [
              "'pic_0.jpg'"
            ]
          },
          "metadata": {
            "tags": []
          },
          "execution_count": 13
        }
      ]
    },
    {
      "cell_type": "markdown",
      "metadata": {
        "id": "8_48RK8RAFgy"
      },
      "source": [
        "- Convert all words to lowercase.\r\n",
        "- Remove all punctuation.\r\n",
        "- Remove all words that are one character or less in length (e.g. ‘a’).\r\n",
        "- Remove all words with numbers in them."
      ]
    },
    {
      "cell_type": "code",
      "metadata": {
        "colab": {
          "base_uri": "https://localhost:8080/"
        },
        "id": "tZNva706_wxW",
        "outputId": "821dbc0e-f4cc-4d73-bc49-0bb6f628d808"
      },
      "source": [
        "for des,im in zip(df.Description[:5],df.Image_Path[:5]):\r\n",
        "    print(im ,des)\r\n",
        "    print()\r\n",
        "    print()"
      ],
      "execution_count": 14,
      "outputs": [
        {
          "output_type": "stream",
          "text": [
            "pic_0.jpg This stylish foil print kurta from janasya is made of poly crepe and comes in an attractive peach color. It features 3/4 sleeve,round neck,a-line and it is calf length kurta that is suitable for casual occasions. Team it with matching leggings for a chic look.\n",
            "\n",
            "\n",
            "pic_1.jpg This check pattern top by Work Label is crafted in cotton. Featuring a bias check at the yoke and straight check pattern in bottom half, a smart round Neckline, 3/4th sleeves, this mid hip length top offers a stylish & comfortable fit. Style this top with a trouser/skirt and medium high heels for chic look at work. This top can also be styled with a pair of stud earrings and a pair your regular sneakers to attain a casual look.\n",
            "\n",
            "\n",
            "pic_2.jpg Featuring elegant printed details, this off white top and skirt set from Jaipur Kurti makes a statement addition to your casual wardrobe. Style this set with a pair of high heels and statement accessories to complete the look.\n",
            "\n",
            "\n",
            "pic_3.jpg Add an extra dose of style to your casual wardrobe with this elegant blue cape top from Twenty Dresses. Style With: A pair of black denims, colour block heels and statement earrings will complete this look!\n",
            "\n",
            "\n",
            "pic_4.jpg Yellow polyester georgette maxi dress. Polyester knit lining inside for comfort. Overlapping v neckline with gathers at bust. Flared sleeves with attached belt at the waist. Concealed zipper on the left.\n",
            "\n",
            "\n"
          ],
          "name": "stdout"
        }
      ]
    },
    {
      "cell_type": "code",
      "metadata": {
        "id": "V9dM3UBtCJ7a"
      },
      "source": [
        "#create a dictionary as key: image name and value: description\r\n",
        "descriptions = {k : v for k,v in zip(df.Image_Path,df.Description) }"
      ],
      "execution_count": 15,
      "outputs": []
    },
    {
      "cell_type": "code",
      "metadata": {
        "id": "rKEw6eljAj8K"
      },
      "source": [
        "import string\r\n",
        "\r\n",
        "def clean_descriptions(descriptions):\r\n",
        "    '''\r\n",
        "        Clean the text \r\n",
        "        1. split desc in into words\r\n",
        "        2. make all char lower case \r\n",
        "        3. remove punctuations\r\n",
        "        4. remove single chars\r\n",
        "        5. remove non-numeric chars\r\n",
        "    '''\r\n",
        "    table = str.maketrans('', '', string.punctuation)\r\n",
        "    for key, desc in descriptions.items():\r\n",
        "        desc = desc.split()\r\n",
        "        desc = [word.lower() for word in desc]\r\n",
        "        desc = [w.translate(table) for w in desc]\r\n",
        "        desc = [word for word in desc if len(word)>1]\r\n",
        "        desc = [word for word in desc if word.isalpha()]\r\n",
        "        descriptions[key] =  'startseq ' + ' '.join(desc) + ' endseq'\r\n",
        "\r\n",
        "\r\n",
        "clean_descriptions(descriptions)"
      ],
      "execution_count": 16,
      "outputs": []
    },
    {
      "cell_type": "code",
      "metadata": {
        "colab": {
          "base_uri": "https://localhost:8080/",
          "height": 53
        },
        "id": "c11OqCf4F6ge",
        "outputId": "e13d252b-12a5-4d45-e5f3-2307051d29ba"
      },
      "source": [
        "descriptions['pic_0.jpg']"
      ],
      "execution_count": 17,
      "outputs": [
        {
          "output_type": "execute_result",
          "data": {
            "application/vnd.google.colaboratory.intrinsic+json": {
              "type": "string"
            },
            "text/plain": [
              "'startseq this stylish foil print kurta from janasya is made of poly crepe and comes in an attractive peach color it features sleeveround neckaline and it is calf length kurta that is suitable for casual occasions team it with matching leggings for chic look endseq'"
            ]
          },
          "metadata": {
            "tags": []
          },
          "execution_count": 17
        }
      ]
    },
    {
      "cell_type": "code",
      "metadata": {
        "id": "eFujcvYJCujX",
        "colab": {
          "base_uri": "https://localhost:8080/"
        },
        "outputId": "b1871215-0ffe-460c-f86d-207e0904f640"
      },
      "source": [
        "def to_vocabulary(descriptions):\r\n",
        "\r\n",
        "    all_desc = set()\r\n",
        "    for key,desc in descriptions.items():\r\n",
        "        # for d in descriptions[key]:\r\n",
        "        all_desc.update(desc.split(' '))\r\n",
        "    return all_desc\r\n",
        "\r\n",
        "\r\n",
        "vocabulary = to_vocabulary(descriptions)\r\n",
        "print('Vocabulary Size: %d' % len(vocabulary))"
      ],
      "execution_count": 18,
      "outputs": [
        {
          "output_type": "stream",
          "text": [
            "Vocabulary Size: 1587\n"
          ],
          "name": "stdout"
        }
      ]
    },
    {
      "cell_type": "code",
      "metadata": {
        "colab": {
          "base_uri": "https://localhost:8080/"
        },
        "id": "sZPuBPnOJYZ2",
        "outputId": "c8f41a98-6a4b-44f8-ba72-6270f8d307ee"
      },
      "source": [
        "len(descriptions)"
      ],
      "execution_count": 19,
      "outputs": [
        {
          "output_type": "execute_result",
          "data": {
            "text/plain": [
              "500"
            ]
          },
          "metadata": {
            "tags": []
          },
          "execution_count": 19
        }
      ]
    },
    {
      "cell_type": "code",
      "metadata": {
        "colab": {
          "base_uri": "https://localhost:8080/"
        },
        "id": "svgbGnpWKJPH",
        "outputId": "b6f3856e-0a38-4e21-c29b-2835cdb8dfa5"
      },
      "source": [
        "features.keys()"
      ],
      "execution_count": 20,
      "outputs": [
        {
          "output_type": "execute_result",
          "data": {
            "text/plain": [
              "dict_keys(['pic_0.jpg', 'pic_1.jpg', 'pic_2.jpg', 'pic_3.jpg', 'pic_4.jpg', 'pic_5.jpg', 'pic_7.jpg', 'pic_6.jpg', 'pic_8.jpg', 'pic_10.jpg', 'pic_9.jpg', 'pic_12.jpg', 'pic_11.jpg', 'pic_13.jpg', 'pic_15.jpg', 'pic_14.jpg', 'pic_17.jpg', 'pic_16.jpg', 'pic_19.jpg', 'pic_20.jpg', 'pic_18.jpg', 'pic_21.jpg', 'pic_22.jpg', 'pic_23.jpg', 'pic_24.jpg', 'pic_25.jpg', 'pic_26.jpg', 'pic_27.jpg', 'pic_31.jpg', 'pic_29.jpg', 'pic_28.jpg', 'pic_30.jpg', 'pic_32.jpg', 'pic_33.jpg', 'pic_35.jpg', 'pic_34.jpg', 'pic_36.jpg', 'pic_37.jpg', 'pic_38.jpg', 'pic_39.jpg', 'pic_40.jpg', 'pic_41.jpg', 'pic_42.jpg', 'pic_43.jpg', 'pic_44.jpg', 'pic_46.jpg', 'pic_45.jpg', 'pic_47.jpg', 'pic_48.jpg', 'pic_50.jpg', 'pic_49.jpg', 'pic_51.jpg', 'pic_53.jpg', 'pic_52.jpg', 'pic_54.jpg', 'pic_56.jpg', 'pic_57.jpg', 'pic_55.jpg', 'pic_59.jpg', 'pic_58.jpg', 'pic_60.jpg', 'pic_61.jpg', 'pic_63.jpg', 'pic_62.jpg', 'pic_66.jpg', 'pic_64.jpg', 'pic_65.jpg', 'pic_68.jpg', 'pic_67.jpg', 'pic_71.jpg', 'pic_69.jpg', 'pic_70.jpg', 'pic_72.jpg', 'pic_73.jpg', 'pic_74.jpg', 'pic_75.jpg', 'pic_76.jpg', 'pic_77.jpg', 'pic_78.jpg', 'pic_79.jpg', 'pic_81.jpg', 'pic_80.jpg', 'pic_82.jpg', 'pic_83.jpg', 'pic_84.jpg', 'pic_85.jpg', 'pic_86.jpg', 'pic_87.jpg', 'pic_89.jpg', 'pic_88.jpg', 'pic_91.jpg', 'pic_90.jpg', 'pic_93.jpg', 'pic_92.jpg', 'pic_94.jpg', 'pic_95.jpg', 'pic_96.jpg', 'pic_97.jpg', 'pic_98.jpg', 'pic_99.jpg', 'pic_100.jpg', 'pic_102.jpg', 'pic_101.jpg', 'pic_105.jpg', 'pic_103.jpg', 'pic_104.jpg', 'pic_106.jpg', 'pic_107.jpg', 'pic_108.jpg', 'pic_111.jpg', 'pic_110.jpg', 'pic_109.jpg', 'pic_112.jpg', 'pic_113.jpg', 'pic_116.jpg', 'pic_115.jpg', 'pic_114.jpg', 'pic_117.jpg', 'pic_118.jpg', 'pic_119.jpg', 'pic_120.jpg', 'pic_121.jpg', 'pic_122.jpg', 'pic_124.jpg', 'pic_123.jpg', 'pic_126.jpg', 'pic_125.jpg', 'pic_128.jpg', 'pic_127.jpg', 'pic_129.jpg', 'pic_130.jpg', 'pic_131.jpg', 'pic_132.jpg', 'pic_133.jpg', 'pic_134.jpg', 'pic_137.jpg', 'pic_135.jpg', 'pic_136.jpg', 'pic_138.jpg', 'pic_139.jpg', 'pic_140.jpg', 'pic_141.jpg', 'pic_142.jpg', 'pic_143.jpg', 'pic_145.jpg', 'pic_144.jpg', 'pic_148.jpg', 'pic_146.jpg', 'pic_147.jpg', 'pic_151.jpg', 'pic_150.jpg', 'pic_149.jpg', 'pic_153.jpg', 'pic_152.jpg', 'pic_154.jpg', 'pic_155.jpg', 'pic_156.jpg', 'pic_157.jpg', 'pic_159.jpg', 'pic_158.jpg', 'pic_160.jpg', 'pic_162.jpg', 'pic_161.jpg', 'pic_163.jpg', 'pic_164.jpg', 'pic_165.jpg', 'pic_166.jpg', 'pic_167.jpg', 'pic_168.jpg', 'pic_169.jpg', 'pic_170.jpg', 'pic_171.jpg', 'pic_172.jpg', 'pic_174.jpg', 'pic_173.jpg', 'pic_177.jpg', 'pic_176.jpg', 'pic_175.jpg', 'pic_178.jpg', 'pic_179.jpg', 'pic_180.jpg', 'pic_182.jpg', 'pic_181.jpg', 'pic_183.jpg', 'pic_184.jpg', 'pic_185.jpg', 'pic_186.jpg', 'pic_188.jpg', 'pic_187.jpg', 'pic_189.jpg', 'pic_190.jpg', 'pic_191.jpg', 'pic_192.jpg', 'pic_193.jpg', 'pic_194.jpg', 'pic_195.jpg', 'pic_197.jpg', 'pic_196.jpg', 'pic_198.jpg', 'pic_200.jpg', 'pic_199.jpg', 'pic_201.jpg', 'pic_202.jpg', 'pic_204.jpg', 'pic_203.jpg', 'pic_205.jpg', 'pic_207.jpg', 'pic_206.jpg', 'pic_209.jpg', 'pic_208.jpg', 'pic_212.jpg', 'pic_210.jpg', 'pic_211.jpg', 'pic_215.jpg', 'pic_213.jpg', 'pic_214.jpg', 'pic_218.jpg', 'pic_217.jpg', 'pic_216.jpg', 'pic_220.jpg', 'pic_219.jpg', 'pic_222.jpg', 'pic_221.jpg', 'pic_224.jpg', 'pic_223.jpg', 'pic_226.jpg', 'pic_225.jpg', 'pic_227.jpg', 'pic_228.jpg', 'pic_229.jpg', 'pic_230.jpg', 'pic_231.jpg', 'pic_232.jpg', 'pic_233.jpg', 'pic_234.jpg', 'pic_235.jpg', 'pic_237.jpg', 'pic_236.jpg', 'pic_238.jpg', 'pic_240.jpg', 'pic_239.jpg', 'pic_242.jpg', 'pic_241.jpg', 'pic_243.jpg', 'pic_244.jpg', 'pic_245.jpg', 'pic_246.jpg', 'pic_247.jpg', 'pic_249.jpg', 'pic_248.jpg', 'pic_250.jpg', 'pic_251.jpg', 'pic_252.jpg', 'pic_253.jpg', 'pic_254.jpg', 'pic_256.jpg', 'pic_255.jpg', 'pic_257.jpg', 'pic_259.jpg', 'pic_258.jpg', 'pic_260.jpg', 'pic_261.jpg', 'pic_262.jpg', 'pic_264.jpg', 'pic_263.jpg', 'pic_265.jpg', 'pic_266.jpg', 'pic_268.jpg', 'pic_267.jpg', 'pic_269.jpg', 'pic_270.jpg', 'pic_272.jpg', 'pic_271.jpg', 'pic_273.jpg', 'pic_274.jpg', 'pic_276.jpg', 'pic_275.jpg', 'pic_278.jpg', 'pic_277.jpg', 'pic_280.jpg', 'pic_279.jpg', 'pic_282.jpg', 'pic_281.jpg', 'pic_283.jpg', 'pic_284.jpg', 'pic_286.jpg', 'pic_287.jpg', 'pic_285.jpg', 'pic_288.jpg', 'pic_289.jpg', 'pic_292.jpg', 'pic_290.jpg', 'pic_291.jpg', 'pic_294.jpg', 'pic_293.jpg', 'pic_295.jpg', 'pic_297.jpg', 'pic_296.jpg', 'pic_298.jpg', 'pic_299.jpg', 'pic_301.jpg', 'pic_300.jpg', 'pic_303.jpg', 'pic_302.jpg', 'pic_304.jpg', 'pic_305.jpg', 'pic_308.jpg', 'pic_307.jpg', 'pic_306.jpg', 'pic_309.jpg', 'pic_310.jpg', 'pic_311.jpg', 'pic_312.jpg', 'pic_314.jpg', 'pic_313.jpg', 'pic_316.jpg', 'pic_315.jpg', 'pic_317.jpg', 'pic_318.jpg', 'pic_319.jpg', 'pic_320.jpg', 'pic_321.jpg', 'pic_323.jpg', 'pic_322.jpg', 'pic_324.jpg', 'pic_325.jpg', 'pic_326.jpg', 'pic_327.jpg', 'pic_328.jpg', 'pic_329.jpg', 'pic_330.jpg', 'pic_331.jpg', 'pic_333.jpg', 'pic_332.jpg', 'pic_334.jpg', 'pic_335.jpg', 'pic_336.jpg', 'pic_337.jpg', 'pic_338.jpg', 'pic_339.jpg', 'pic_340.jpg', 'pic_341.jpg', 'pic_342.jpg', 'pic_343.jpg', 'pic_346.jpg', 'pic_344.jpg', 'pic_345.jpg', 'pic_348.jpg', 'pic_347.jpg', 'pic_351.jpg', 'pic_350.jpg', 'pic_349.jpg', 'pic_353.jpg', 'pic_352.jpg', 'pic_354.jpg', 'pic_355.jpg', 'pic_356.jpg', 'pic_358.jpg', 'pic_357.jpg', 'pic_359.jpg', 'pic_360.jpg', 'pic_361.jpg', 'pic_362.jpg', 'pic_363.jpg', 'pic_364.jpg', 'pic_365.jpg', 'pic_366.jpg', 'pic_367.jpg', 'pic_368.jpg', 'pic_369.jpg', 'pic_370.jpg', 'pic_371.jpg', 'pic_372.jpg', 'pic_373.jpg', 'pic_374.jpg', 'pic_375.jpg', 'pic_377.jpg', 'pic_376.jpg', 'pic_379.jpg', 'pic_378.jpg', 'pic_380.jpg', 'pic_382.jpg', 'pic_381.jpg', 'pic_384.jpg', 'pic_383.jpg', 'pic_385.jpg', 'pic_386.jpg', 'pic_388.jpg', 'pic_387.jpg', 'pic_390.jpg', 'pic_389.jpg', 'pic_391.jpg', 'pic_392.jpg', 'pic_393.jpg', 'pic_394.jpg', 'pic_395.jpg', 'pic_396.jpg', 'pic_397.jpg', 'pic_398.jpg', 'pic_399.jpg', 'pic_401.jpg', 'pic_400.jpg', 'pic_402.jpg', 'pic_405.jpg', 'pic_404.jpg', 'pic_403.jpg', 'pic_406.jpg', 'pic_407.jpg', 'pic_408.jpg', 'pic_409.jpg', 'pic_410.jpg', 'pic_411.jpg', 'pic_412.jpg', 'pic_413.jpg', 'pic_414.jpg', 'pic_415.jpg', 'pic_416.jpg', 'pic_417.jpg', 'pic_419.jpg', 'pic_418.jpg', 'pic_422.jpg', 'pic_421.jpg', 'pic_420.jpg', 'pic_423.jpg', 'pic_424.jpg', 'pic_426.jpg', 'pic_425.jpg', 'pic_427.jpg', 'pic_428.jpg', 'pic_429.jpg', 'pic_430.jpg', 'pic_431.jpg', 'pic_432.jpg', 'pic_433.jpg', 'pic_434.jpg', 'pic_435.jpg', 'pic_436.jpg', 'pic_437.jpg', 'pic_438.jpg', 'pic_440.jpg', 'pic_439.jpg', 'pic_441.jpg', 'pic_442.jpg', 'pic_443.jpg', 'pic_444.jpg', 'pic_445.jpg', 'pic_446.jpg', 'pic_447.jpg', 'pic_449.jpg', 'pic_448.jpg', 'pic_452.jpg', 'pic_451.jpg', 'pic_450.jpg', 'pic_453.jpg', 'pic_454.jpg', 'pic_456.jpg', 'pic_455.jpg', 'pic_457.jpg', 'pic_458.jpg', 'pic_460.jpg', 'pic_461.jpg', 'pic_459.jpg', 'pic_463.jpg', 'pic_462.jpg', 'pic_465.jpg', 'pic_464.jpg', 'pic_467.jpg', 'pic_466.jpg', 'pic_469.jpg', 'pic_470.jpg', 'pic_468.jpg', 'pic_472.jpg', 'pic_471.jpg', 'pic_474.jpg', 'pic_473.jpg', 'pic_476.jpg', 'pic_475.jpg', 'pic_477.jpg', 'pic_478.jpg', 'pic_479.jpg', 'pic_481.jpg', 'pic_480.jpg', 'pic_482.jpg', 'pic_483.jpg', 'pic_484.jpg', 'pic_485.jpg', 'pic_487.jpg', 'pic_486.jpg', 'pic_488.jpg', 'pic_489.jpg', 'pic_490.jpg', 'pic_491.jpg', 'pic_492.jpg', 'pic_493.jpg', 'pic_494.jpg', 'pic_496.jpg', 'pic_495.jpg', 'pic_499.jpg', 'pic_498.jpg', 'pic_497.jpg'])"
            ]
          },
          "metadata": {
            "tags": []
          },
          "execution_count": 20
        }
      ]
    },
    {
      "cell_type": "code",
      "metadata": {
        "colab": {
          "base_uri": "https://localhost:8080/"
        },
        "id": "3daM_d41Q0h0",
        "outputId": "694b98d2-4314-4b99-dbd6-ddb7022f6fe8"
      },
      "source": [
        "descriptions.keys()"
      ],
      "execution_count": 21,
      "outputs": [
        {
          "output_type": "execute_result",
          "data": {
            "text/plain": [
              "dict_keys(['pic_0.jpg', 'pic_1.jpg', 'pic_2.jpg', 'pic_3.jpg', 'pic_4.jpg', 'pic_5.jpg', 'pic_6.jpg', 'pic_7.jpg', 'pic_8.jpg', 'pic_9.jpg', 'pic_10.jpg', 'pic_11.jpg', 'pic_12.jpg', 'pic_13.jpg', 'pic_14.jpg', 'pic_15.jpg', 'pic_16.jpg', 'pic_17.jpg', 'pic_18.jpg', 'pic_19.jpg', 'pic_20.jpg', 'pic_21.jpg', 'pic_22.jpg', 'pic_23.jpg', 'pic_24.jpg', 'pic_25.jpg', 'pic_26.jpg', 'pic_27.jpg', 'pic_28.jpg', 'pic_29.jpg', 'pic_30.jpg', 'pic_31.jpg', 'pic_32.jpg', 'pic_33.jpg', 'pic_34.jpg', 'pic_35.jpg', 'pic_36.jpg', 'pic_37.jpg', 'pic_38.jpg', 'pic_39.jpg', 'pic_40.jpg', 'pic_41.jpg', 'pic_42.jpg', 'pic_43.jpg', 'pic_44.jpg', 'pic_45.jpg', 'pic_46.jpg', 'pic_47.jpg', 'pic_48.jpg', 'pic_49.jpg', 'pic_50.jpg', 'pic_51.jpg', 'pic_52.jpg', 'pic_53.jpg', 'pic_54.jpg', 'pic_55.jpg', 'pic_56.jpg', 'pic_57.jpg', 'pic_58.jpg', 'pic_59.jpg', 'pic_60.jpg', 'pic_61.jpg', 'pic_62.jpg', 'pic_63.jpg', 'pic_64.jpg', 'pic_65.jpg', 'pic_66.jpg', 'pic_67.jpg', 'pic_68.jpg', 'pic_69.jpg', 'pic_70.jpg', 'pic_71.jpg', 'pic_72.jpg', 'pic_73.jpg', 'pic_74.jpg', 'pic_75.jpg', 'pic_76.jpg', 'pic_77.jpg', 'pic_78.jpg', 'pic_79.jpg', 'pic_80.jpg', 'pic_81.jpg', 'pic_82.jpg', 'pic_83.jpg', 'pic_84.jpg', 'pic_85.jpg', 'pic_86.jpg', 'pic_87.jpg', 'pic_88.jpg', 'pic_89.jpg', 'pic_90.jpg', 'pic_91.jpg', 'pic_92.jpg', 'pic_93.jpg', 'pic_94.jpg', 'pic_95.jpg', 'pic_96.jpg', 'pic_97.jpg', 'pic_98.jpg', 'pic_99.jpg', 'pic_100.jpg', 'pic_101.jpg', 'pic_102.jpg', 'pic_103.jpg', 'pic_104.jpg', 'pic_105.jpg', 'pic_106.jpg', 'pic_107.jpg', 'pic_108.jpg', 'pic_109.jpg', 'pic_110.jpg', 'pic_111.jpg', 'pic_112.jpg', 'pic_113.jpg', 'pic_114.jpg', 'pic_115.jpg', 'pic_116.jpg', 'pic_117.jpg', 'pic_118.jpg', 'pic_119.jpg', 'pic_120.jpg', 'pic_121.jpg', 'pic_122.jpg', 'pic_123.jpg', 'pic_124.jpg', 'pic_125.jpg', 'pic_126.jpg', 'pic_127.jpg', 'pic_128.jpg', 'pic_129.jpg', 'pic_130.jpg', 'pic_131.jpg', 'pic_132.jpg', 'pic_133.jpg', 'pic_134.jpg', 'pic_135.jpg', 'pic_136.jpg', 'pic_137.jpg', 'pic_138.jpg', 'pic_139.jpg', 'pic_140.jpg', 'pic_141.jpg', 'pic_142.jpg', 'pic_143.jpg', 'pic_144.jpg', 'pic_145.jpg', 'pic_146.jpg', 'pic_147.jpg', 'pic_148.jpg', 'pic_149.jpg', 'pic_150.jpg', 'pic_151.jpg', 'pic_152.jpg', 'pic_153.jpg', 'pic_154.jpg', 'pic_155.jpg', 'pic_156.jpg', 'pic_157.jpg', 'pic_158.jpg', 'pic_159.jpg', 'pic_160.jpg', 'pic_161.jpg', 'pic_162.jpg', 'pic_163.jpg', 'pic_164.jpg', 'pic_165.jpg', 'pic_166.jpg', 'pic_167.jpg', 'pic_168.jpg', 'pic_169.jpg', 'pic_170.jpg', 'pic_171.jpg', 'pic_172.jpg', 'pic_173.jpg', 'pic_174.jpg', 'pic_175.jpg', 'pic_176.jpg', 'pic_177.jpg', 'pic_178.jpg', 'pic_179.jpg', 'pic_180.jpg', 'pic_181.jpg', 'pic_182.jpg', 'pic_183.jpg', 'pic_184.jpg', 'pic_185.jpg', 'pic_186.jpg', 'pic_187.jpg', 'pic_188.jpg', 'pic_189.jpg', 'pic_190.jpg', 'pic_191.jpg', 'pic_192.jpg', 'pic_193.jpg', 'pic_194.jpg', 'pic_195.jpg', 'pic_196.jpg', 'pic_197.jpg', 'pic_198.jpg', 'pic_199.jpg', 'pic_200.jpg', 'pic_201.jpg', 'pic_202.jpg', 'pic_203.jpg', 'pic_204.jpg', 'pic_205.jpg', 'pic_206.jpg', 'pic_207.jpg', 'pic_208.jpg', 'pic_209.jpg', 'pic_210.jpg', 'pic_211.jpg', 'pic_212.jpg', 'pic_213.jpg', 'pic_214.jpg', 'pic_215.jpg', 'pic_216.jpg', 'pic_217.jpg', 'pic_218.jpg', 'pic_219.jpg', 'pic_220.jpg', 'pic_221.jpg', 'pic_222.jpg', 'pic_223.jpg', 'pic_224.jpg', 'pic_225.jpg', 'pic_226.jpg', 'pic_227.jpg', 'pic_228.jpg', 'pic_229.jpg', 'pic_230.jpg', 'pic_231.jpg', 'pic_232.jpg', 'pic_233.jpg', 'pic_234.jpg', 'pic_235.jpg', 'pic_236.jpg', 'pic_237.jpg', 'pic_238.jpg', 'pic_239.jpg', 'pic_240.jpg', 'pic_241.jpg', 'pic_242.jpg', 'pic_243.jpg', 'pic_244.jpg', 'pic_245.jpg', 'pic_246.jpg', 'pic_247.jpg', 'pic_248.jpg', 'pic_249.jpg', 'pic_250.jpg', 'pic_251.jpg', 'pic_252.jpg', 'pic_253.jpg', 'pic_254.jpg', 'pic_255.jpg', 'pic_256.jpg', 'pic_257.jpg', 'pic_258.jpg', 'pic_259.jpg', 'pic_260.jpg', 'pic_261.jpg', 'pic_262.jpg', 'pic_263.jpg', 'pic_264.jpg', 'pic_265.jpg', 'pic_266.jpg', 'pic_267.jpg', 'pic_268.jpg', 'pic_269.jpg', 'pic_270.jpg', 'pic_271.jpg', 'pic_272.jpg', 'pic_273.jpg', 'pic_274.jpg', 'pic_275.jpg', 'pic_276.jpg', 'pic_277.jpg', 'pic_278.jpg', 'pic_279.jpg', 'pic_280.jpg', 'pic_281.jpg', 'pic_282.jpg', 'pic_283.jpg', 'pic_284.jpg', 'pic_285.jpg', 'pic_286.jpg', 'pic_287.jpg', 'pic_288.jpg', 'pic_289.jpg', 'pic_290.jpg', 'pic_291.jpg', 'pic_292.jpg', 'pic_293.jpg', 'pic_294.jpg', 'pic_295.jpg', 'pic_296.jpg', 'pic_297.jpg', 'pic_298.jpg', 'pic_299.jpg', 'pic_300.jpg', 'pic_301.jpg', 'pic_302.jpg', 'pic_303.jpg', 'pic_304.jpg', 'pic_305.jpg', 'pic_306.jpg', 'pic_307.jpg', 'pic_308.jpg', 'pic_309.jpg', 'pic_310.jpg', 'pic_311.jpg', 'pic_312.jpg', 'pic_313.jpg', 'pic_314.jpg', 'pic_315.jpg', 'pic_316.jpg', 'pic_317.jpg', 'pic_318.jpg', 'pic_319.jpg', 'pic_320.jpg', 'pic_321.jpg', 'pic_322.jpg', 'pic_323.jpg', 'pic_324.jpg', 'pic_325.jpg', 'pic_326.jpg', 'pic_327.jpg', 'pic_328.jpg', 'pic_329.jpg', 'pic_330.jpg', 'pic_331.jpg', 'pic_332.jpg', 'pic_333.jpg', 'pic_334.jpg', 'pic_335.jpg', 'pic_336.jpg', 'pic_337.jpg', 'pic_338.jpg', 'pic_339.jpg', 'pic_340.jpg', 'pic_341.jpg', 'pic_342.jpg', 'pic_343.jpg', 'pic_344.jpg', 'pic_345.jpg', 'pic_346.jpg', 'pic_347.jpg', 'pic_348.jpg', 'pic_349.jpg', 'pic_350.jpg', 'pic_351.jpg', 'pic_352.jpg', 'pic_353.jpg', 'pic_354.jpg', 'pic_355.jpg', 'pic_356.jpg', 'pic_357.jpg', 'pic_358.jpg', 'pic_359.jpg', 'pic_360.jpg', 'pic_361.jpg', 'pic_362.jpg', 'pic_363.jpg', 'pic_364.jpg', 'pic_365.jpg', 'pic_366.jpg', 'pic_367.jpg', 'pic_368.jpg', 'pic_369.jpg', 'pic_370.jpg', 'pic_371.jpg', 'pic_372.jpg', 'pic_373.jpg', 'pic_374.jpg', 'pic_375.jpg', 'pic_376.jpg', 'pic_377.jpg', 'pic_378.jpg', 'pic_379.jpg', 'pic_380.jpg', 'pic_381.jpg', 'pic_382.jpg', 'pic_383.jpg', 'pic_384.jpg', 'pic_385.jpg', 'pic_386.jpg', 'pic_387.jpg', 'pic_388.jpg', 'pic_389.jpg', 'pic_390.jpg', 'pic_391.jpg', 'pic_392.jpg', 'pic_393.jpg', 'pic_394.jpg', 'pic_395.jpg', 'pic_396.jpg', 'pic_397.jpg', 'pic_398.jpg', 'pic_399.jpg', 'pic_400.jpg', 'pic_401.jpg', 'pic_402.jpg', 'pic_403.jpg', 'pic_404.jpg', 'pic_405.jpg', 'pic_406.jpg', 'pic_407.jpg', 'pic_408.jpg', 'pic_409.jpg', 'pic_410.jpg', 'pic_411.jpg', 'pic_412.jpg', 'pic_413.jpg', 'pic_414.jpg', 'pic_415.jpg', 'pic_416.jpg', 'pic_417.jpg', 'pic_418.jpg', 'pic_419.jpg', 'pic_420.jpg', 'pic_421.jpg', 'pic_422.jpg', 'pic_423.jpg', 'pic_424.jpg', 'pic_425.jpg', 'pic_426.jpg', 'pic_427.jpg', 'pic_428.jpg', 'pic_429.jpg', 'pic_430.jpg', 'pic_431.jpg', 'pic_432.jpg', 'pic_433.jpg', 'pic_434.jpg', 'pic_435.jpg', 'pic_436.jpg', 'pic_437.jpg', 'pic_438.jpg', 'pic_439.jpg', 'pic_440.jpg', 'pic_441.jpg', 'pic_442.jpg', 'pic_443.jpg', 'pic_444.jpg', 'pic_445.jpg', 'pic_446.jpg', 'pic_447.jpg', 'pic_448.jpg', 'pic_449.jpg', 'pic_450.jpg', 'pic_451.jpg', 'pic_452.jpg', 'pic_453.jpg', 'pic_454.jpg', 'pic_455.jpg', 'pic_456.jpg', 'pic_457.jpg', 'pic_458.jpg', 'pic_459.jpg', 'pic_460.jpg', 'pic_461.jpg', 'pic_462.jpg', 'pic_463.jpg', 'pic_464.jpg', 'pic_465.jpg', 'pic_466.jpg', 'pic_467.jpg', 'pic_468.jpg', 'pic_469.jpg', 'pic_470.jpg', 'pic_471.jpg', 'pic_472.jpg', 'pic_473.jpg', 'pic_474.jpg', 'pic_475.jpg', 'pic_476.jpg', 'pic_477.jpg', 'pic_478.jpg', 'pic_479.jpg', 'pic_480.jpg', 'pic_481.jpg', 'pic_482.jpg', 'pic_483.jpg', 'pic_484.jpg', 'pic_485.jpg', 'pic_486.jpg', 'pic_487.jpg', 'pic_488.jpg', 'pic_489.jpg', 'pic_490.jpg', 'pic_491.jpg', 'pic_492.jpg', 'pic_493.jpg', 'pic_494.jpg', 'pic_495.jpg', 'pic_496.jpg', 'pic_497.jpg', 'pic_498.jpg', 'pic_499.jpg'])"
            ]
          },
          "metadata": {
            "tags": []
          },
          "execution_count": 21
        }
      ]
    },
    {
      "cell_type": "code",
      "metadata": {
        "id": "NJIchA2fQ2j8"
      },
      "source": [
        "train_desc =dict()\r\n",
        "test_desc = dict()\r\n",
        "for key in list(features.keys())[:400]:\r\n",
        "    if key in descriptions.keys():\r\n",
        "        train_desc.update({key:descriptions[key]})\r\n",
        "\r\n",
        "for key in list(features.keys())[400:]:\r\n",
        "    if key in descriptions.keys():\r\n",
        "        test_desc.update({key:descriptions[key]})"
      ],
      "execution_count": 22,
      "outputs": []
    },
    {
      "cell_type": "code",
      "metadata": {
        "colab": {
          "base_uri": "https://localhost:8080/"
        },
        "id": "BgKvkuJdRbhS",
        "outputId": "2db544f4-5df1-471b-dfbe-1be92b484782"
      },
      "source": [
        "len(descriptions),len(features),len(train_desc),len(test_desc)"
      ],
      "execution_count": 23,
      "outputs": [
        {
          "output_type": "execute_result",
          "data": {
            "text/plain": [
              "(500, 500, 400, 100)"
            ]
          },
          "metadata": {
            "tags": []
          },
          "execution_count": 23
        }
      ]
    },
    {
      "cell_type": "code",
      "metadata": {
        "colab": {
          "base_uri": "https://localhost:8080/"
        },
        "id": "O0Ch1rBLRdrm",
        "outputId": "806df94a-d68a-4935-84b4-06372b1a8782"
      },
      "source": [
        "list(features.keys())[:2]"
      ],
      "execution_count": 24,
      "outputs": [
        {
          "output_type": "execute_result",
          "data": {
            "text/plain": [
              "['pic_0.jpg', 'pic_1.jpg']"
            ]
          },
          "metadata": {
            "tags": []
          },
          "execution_count": 24
        }
      ]
    },
    {
      "cell_type": "code",
      "metadata": {
        "colab": {
          "base_uri": "https://localhost:8080/"
        },
        "id": "wF7d7Y2QTvip",
        "outputId": "3622c23c-725c-4a05-b17e-2c6d1ec555df"
      },
      "source": [
        "for key in train_desc.keys():\r\n",
        "    if key in test_desc.keys():\r\n",
        "        print(key)\r\n",
        "else:\r\n",
        "     print('all pic are unique in train and test')"
      ],
      "execution_count": 25,
      "outputs": [
        {
          "output_type": "stream",
          "text": [
            "all pic are unique in train and test\n"
          ],
          "name": "stdout"
        }
      ]
    },
    {
      "cell_type": "code",
      "metadata": {
        "id": "JALmFk61UiJm"
      },
      "source": [
        "train_fea =dict()\r\n",
        "test_fea = dict()\r\n",
        "for key in train_desc.keys():\r\n",
        "    if key in features.keys():\r\n",
        "        train_fea.update({key:features[key]})\r\n",
        "\r\n",
        "for key in test_desc.keys():\r\n",
        "    if key in features.keys():\r\n",
        "        test_fea.update({key:features[key]})"
      ],
      "execution_count": 26,
      "outputs": []
    },
    {
      "cell_type": "code",
      "metadata": {
        "colab": {
          "base_uri": "https://localhost:8080/"
        },
        "id": "0UmIAslZVZMk",
        "outputId": "54a32c4e-f699-4aa7-b930-5ae7ee2308b6"
      },
      "source": [
        "for key in train_fea.keys():\r\n",
        "    if key in test_fea.keys():\r\n",
        "        print(key)\r\n",
        "else:\r\n",
        "     print('all pic are unique in train and test')"
      ],
      "execution_count": 27,
      "outputs": [
        {
          "output_type": "stream",
          "text": [
            "all pic are unique in train and test\n"
          ],
          "name": "stdout"
        }
      ]
    },
    {
      "cell_type": "code",
      "metadata": {
        "colab": {
          "base_uri": "https://localhost:8080/",
          "height": 53
        },
        "id": "qQ1S17loVtYO",
        "outputId": "9ce29262-a198-42b7-aa2b-9f1201e4cc4f"
      },
      "source": [
        "train_desc['pic_0.jpg']"
      ],
      "execution_count": 28,
      "outputs": [
        {
          "output_type": "execute_result",
          "data": {
            "application/vnd.google.colaboratory.intrinsic+json": {
              "type": "string"
            },
            "text/plain": [
              "'startseq this stylish foil print kurta from janasya is made of poly crepe and comes in an attractive peach color it features sleeveround neckaline and it is calf length kurta that is suitable for casual occasions team it with matching leggings for chic look endseq'"
            ]
          },
          "metadata": {
            "tags": []
          },
          "execution_count": 28
        }
      ]
    },
    {
      "cell_type": "code",
      "metadata": {
        "colab": {
          "base_uri": "https://localhost:8080/"
        },
        "id": "74aySEh7WHRi",
        "outputId": "58b03148-9a6a-4b5b-f80a-4744381941c6"
      },
      "source": [
        "#convert desc to list and tokennize it\r\n",
        "def to_lines(descriptions):\r\n",
        "    all_desc = list()\r\n",
        "    for key in descriptions.keys():\r\n",
        "        all_desc.append(descriptions[key])\r\n",
        "    return all_desc\r\n",
        " \r\n",
        "# fit a tokenizer given caption descriptions\r\n",
        "def create_tokenizer(descriptions):\r\n",
        "\tlines = to_lines(descriptions)\r\n",
        "\ttokenizer = Tokenizer()\r\n",
        "\ttokenizer.fit_on_texts(lines)\r\n",
        "\treturn tokenizer\r\n",
        " \r\n",
        "# prepare tokenizer\r\n",
        "tokenizer = create_tokenizer(train_desc)\r\n",
        "vocab_size = len(tokenizer.word_index) + 1\r\n",
        "print('Vocabulary Size: %d' % vocab_size)"
      ],
      "execution_count": 29,
      "outputs": [
        {
          "output_type": "stream",
          "text": [
            "Vocabulary Size: 1443\n"
          ],
          "name": "stdout"
        }
      ]
    },
    {
      "cell_type": "code",
      "metadata": {
        "id": "LoxK4_CeauYY"
      },
      "source": [
        "def create_sequences(tokenizer, max_length, descriptions, photos, vocab_size):#tokenizer, max_length, train_desc, train_fea, vocab_size\r\n",
        "\tX1, X2, y = list(), list(), list()\r\n",
        "\t'''X1 = image features X2=desc seq y=next word'''\r\n",
        "\tfor key, desc_list in descriptions.items():\r\n",
        "\t\tfor desc in desc_list:\r\n",
        "\t\t\t# encode the sequence\r\n",
        "\t\t\tseq = tokenizer.texts_to_sequences([desc])[0]\r\n",
        "\t\t\t# split one sequence into multiple X,y pairs\r\n",
        "\t\t\tfor i in range(1, len(seq)):\r\n",
        "\t\t\t\t# split into input and output pair\r\n",
        "\t\t\t\tin_seq, out_seq = seq[:i], seq[i]\r\n",
        "\t\t\t\t# pad input sequence\r\n",
        "\t\t\t\tin_seq = pad_sequences([in_seq], maxlen=max_length)[0]\r\n",
        "\t\t\t\t\r\n",
        "\t\t\t\tout_seq = to_categorical([out_seq], num_classes=vocab_size)[0]\r\n",
        "\r\n",
        "\t\t\t\tX1.append(photos[key][0])\r\n",
        "\t\t\t\tX2.append(in_seq)\r\n",
        "\t\t\t\ty.append(out_seq)\r\n",
        "\treturn array(X1), array(X2), array(y)"
      ],
      "execution_count": 30,
      "outputs": []
    },
    {
      "cell_type": "code",
      "metadata": {
        "id": "gHYgiVpplgAs"
      },
      "source": [
        "def max_length(descriptions):\r\n",
        "\tlines = to_lines(descriptions)\r\n",
        "\treturn max(len(d.split()) for d in lines)\r\n",
        " \r\n",
        "max_len=max_length(train_desc)"
      ],
      "execution_count": 31,
      "outputs": []
    },
    {
      "cell_type": "code",
      "metadata": {
        "id": "Dh5t71zbluHE",
        "colab": {
          "base_uri": "https://localhost:8080/"
        },
        "outputId": "d33b3ab0-af2e-4490-d5ba-a47e0df1d71b"
      },
      "source": [
        "max_len"
      ],
      "execution_count": 32,
      "outputs": [
        {
          "output_type": "execute_result",
          "data": {
            "text/plain": [
              "83"
            ]
          },
          "metadata": {
            "tags": []
          },
          "execution_count": 32
        }
      ]
    },
    {
      "cell_type": "code",
      "metadata": {
        "colab": {
          "base_uri": "https://localhost:8080/"
        },
        "id": "GDELnF3ndDz0",
        "outputId": "d6bed3d5-0856-4248-9471-0396b544c8ef"
      },
      "source": [
        "train_fea['pic_0.jpg'].shape"
      ],
      "execution_count": 34,
      "outputs": [
        {
          "output_type": "execute_result",
          "data": {
            "text/plain": [
              "(1, 4096)"
            ]
          },
          "metadata": {
            "tags": []
          },
          "execution_count": 34
        }
      ]
    },
    {
      "cell_type": "code",
      "metadata": {
        "id": "I-dnUV8jdveD"
      },
      "source": [
        "def define_model(vocab_size, max_length):\r\n",
        "\t# feature extractor model\r\n",
        "\tinputs1 = Input(shape=(4096,))\r\n",
        "\tfe1 = Dropout(0.5)(inputs1)\r\n",
        "\tfe2 = Dense(256, activation='relu')(fe1)\r\n",
        "\t# sequence model\r\n",
        "\tinputs2 = Input(shape=(max_length,))\r\n",
        "\tse1 = Embedding(vocab_size, 256, mask_zero=True)(inputs2)\r\n",
        "\tse2 = Dropout(0.5)(se1)\r\n",
        "\tse3 = LSTM(256)(se2)\r\n",
        "\t# decoder model\r\n",
        "\tdecoder1 = add([fe2, se3])\r\n",
        "\tdecoder2 = Dense(256, activation='relu')(decoder1)\r\n",
        "\toutputs = Dense(vocab_size, activation='softmax')(decoder2)\r\n",
        "\t# tie it together [image, seq] [word]\r\n",
        "\tmodel = Model(inputs=[inputs1, inputs2], outputs=outputs)\r\n",
        "\tmodel.compile(loss='categorical_crossentropy', optimizer='adam')\r\n",
        "\t# summarize model\r\n",
        "\tprint(model.summary())\r\n",
        "\tplot_model(model, to_file='model.png', show_shapes=True)\r\n",
        "\treturn model"
      ],
      "execution_count": 35,
      "outputs": []
    },
    {
      "cell_type": "code",
      "metadata": {
        "id": "Dns0QpHgfLTc"
      },
      "source": [
        "X1train, X2train, ytrain = create_sequences(tokenizer, max_length, train_desc, train_fea, vocab_size)"
      ],
      "execution_count": 38,
      "outputs": []
    },
    {
      "cell_type": "code",
      "metadata": {
        "colab": {
          "base_uri": "https://localhost:8080/"
        },
        "id": "jlwgP1eJjoQZ",
        "outputId": "d7febb7a-e2f7-40ce-d28a-c22d3aa790df"
      },
      "source": [
        "X1train.shape"
      ],
      "execution_count": 39,
      "outputs": [
        {
          "output_type": "execute_result",
          "data": {
            "text/plain": [
              "(0,)"
            ]
          },
          "metadata": {
            "tags": []
          },
          "execution_count": 39
        }
      ]
    },
    {
      "cell_type": "code",
      "metadata": {
        "id": "oilpAqUzfV3U"
      },
      "source": [
        "X1test, X2test, ytest = create_sequences(tokenizer, max_length, test_desc, test_fea, vocab_size)"
      ],
      "execution_count": null,
      "outputs": []
    },
    {
      "cell_type": "code",
      "metadata": {
        "colab": {
          "base_uri": "https://localhost:8080/"
        },
        "id": "Appk4SlTfcF4",
        "outputId": "e2827461-166f-4975-f84f-837fb4cd1919"
      },
      "source": [
        "model = define_model(vocab_size, max_length)"
      ],
      "execution_count": null,
      "outputs": [
        {
          "output_type": "stream",
          "text": [
            "Model: \"model_1\"\n",
            "__________________________________________________________________________________________________\n",
            "Layer (type)                    Output Shape         Param #     Connected to                     \n",
            "==================================================================================================\n",
            "input_3 (InputLayer)            [(None, 83)]         0                                            \n",
            "__________________________________________________________________________________________________\n",
            "input_2 (InputLayer)            [(None, 4096)]       0                                            \n",
            "__________________________________________________________________________________________________\n",
            "embedding (Embedding)           (None, 83, 256)      369408      input_3[0][0]                    \n",
            "__________________________________________________________________________________________________\n",
            "dropout (Dropout)               (None, 4096)         0           input_2[0][0]                    \n",
            "__________________________________________________________________________________________________\n",
            "dropout_1 (Dropout)             (None, 83, 256)      0           embedding[0][0]                  \n",
            "__________________________________________________________________________________________________\n",
            "dense (Dense)                   (None, 256)          1048832     dropout[0][0]                    \n",
            "__________________________________________________________________________________________________\n",
            "lstm (LSTM)                     (None, 256)          525312      dropout_1[0][0]                  \n",
            "__________________________________________________________________________________________________\n",
            "add (Add)                       (None, 256)          0           dense[0][0]                      \n",
            "                                                                 lstm[0][0]                       \n",
            "__________________________________________________________________________________________________\n",
            "dense_1 (Dense)                 (None, 256)          65792       add[0][0]                        \n",
            "__________________________________________________________________________________________________\n",
            "dense_2 (Dense)                 (None, 1443)         370851      dense_1[0][0]                    \n",
            "==================================================================================================\n",
            "Total params: 2,380,195\n",
            "Trainable params: 2,380,195\n",
            "Non-trainable params: 0\n",
            "__________________________________________________________________________________________________\n",
            "None\n"
          ],
          "name": "stdout"
        }
      ]
    },
    {
      "cell_type": "code",
      "metadata": {
        "id": "ZFXAZSUife9i"
      },
      "source": [
        "#monitor the minimum loss on the validation dataset and save the model to a file\r\n",
        "filepath = 'model-ep{epoch:03d}-loss{loss:.3f}-val_loss{val_loss:.3f}.h5'\r\n",
        "checkpoint = ModelCheckpoint(filepath, monitor='val_loss', verbose=1, save_best_only=True, mode='min')"
      ],
      "execution_count": null,
      "outputs": []
    },
    {
      "cell_type": "code",
      "metadata": {
        "colab": {
          "base_uri": "https://localhost:8080/",
          "height": 327
        },
        "id": "gxgrwqtFf8jt",
        "outputId": "2e339375-235d-43a5-e98e-e8b81b4d37b3"
      },
      "source": [
        "model.fit([X1train, X2train], ytrain, epochs=20, verbose=2, callbacks=[checkpoint], validation_data=([X1test, X2test], ytest))"
      ],
      "execution_count": null,
      "outputs": [
        {
          "output_type": "stream",
          "text": [
            "Epoch 1/20\n"
          ],
          "name": "stdout"
        },
        {
          "output_type": "error",
          "ename": "ValueError",
          "evalue": "ignored",
          "traceback": [
            "\u001b[0;31m---------------------------------------------------------------------------\u001b[0m",
            "\u001b[0;31mValueError\u001b[0m                                Traceback (most recent call last)",
            "\u001b[0;32m<ipython-input-141-ac52e28c47e6>\u001b[0m in \u001b[0;36m<module>\u001b[0;34m()\u001b[0m\n\u001b[0;32m----> 1\u001b[0;31m \u001b[0mmodel\u001b[0m\u001b[0;34m.\u001b[0m\u001b[0mfit\u001b[0m\u001b[0;34m(\u001b[0m\u001b[0;34m[\u001b[0m\u001b[0mX1train\u001b[0m\u001b[0;34m,\u001b[0m \u001b[0mX2train\u001b[0m\u001b[0;34m]\u001b[0m\u001b[0;34m,\u001b[0m \u001b[0mytrain\u001b[0m\u001b[0;34m,\u001b[0m \u001b[0mepochs\u001b[0m\u001b[0;34m=\u001b[0m\u001b[0;36m20\u001b[0m\u001b[0;34m,\u001b[0m \u001b[0mverbose\u001b[0m\u001b[0;34m=\u001b[0m\u001b[0;36m2\u001b[0m\u001b[0;34m,\u001b[0m \u001b[0mcallbacks\u001b[0m\u001b[0;34m=\u001b[0m\u001b[0;34m[\u001b[0m\u001b[0mcheckpoint\u001b[0m\u001b[0;34m]\u001b[0m\u001b[0;34m,\u001b[0m \u001b[0mvalidation_data\u001b[0m\u001b[0;34m=\u001b[0m\u001b[0;34m(\u001b[0m\u001b[0;34m[\u001b[0m\u001b[0mX1test\u001b[0m\u001b[0;34m,\u001b[0m \u001b[0mX2test\u001b[0m\u001b[0;34m]\u001b[0m\u001b[0;34m,\u001b[0m \u001b[0mytest\u001b[0m\u001b[0;34m)\u001b[0m\u001b[0;34m)\u001b[0m\u001b[0;34m\u001b[0m\u001b[0;34m\u001b[0m\u001b[0m\n\u001b[0m",
            "\u001b[0;32m/usr/local/lib/python3.6/dist-packages/tensorflow/python/keras/engine/training.py\u001b[0m in \u001b[0;36mfit\u001b[0;34m(self, x, y, batch_size, epochs, verbose, callbacks, validation_split, validation_data, shuffle, class_weight, sample_weight, initial_epoch, steps_per_epoch, validation_steps, validation_batch_size, validation_freq, max_queue_size, workers, use_multiprocessing)\u001b[0m\n\u001b[1;32m   1108\u001b[0m \u001b[0;34m\u001b[0m\u001b[0m\n\u001b[1;32m   1109\u001b[0m         \u001b[0;32mif\u001b[0m \u001b[0mlogs\u001b[0m \u001b[0;32mis\u001b[0m \u001b[0;32mNone\u001b[0m\u001b[0;34m:\u001b[0m\u001b[0;34m\u001b[0m\u001b[0;34m\u001b[0m\u001b[0m\n\u001b[0;32m-> 1110\u001b[0;31m           \u001b[0;32mraise\u001b[0m \u001b[0mValueError\u001b[0m\u001b[0;34m(\u001b[0m\u001b[0;34m'Expect x to be a non-empty array or dataset.'\u001b[0m\u001b[0;34m)\u001b[0m\u001b[0;34m\u001b[0m\u001b[0;34m\u001b[0m\u001b[0m\n\u001b[0m\u001b[1;32m   1111\u001b[0m         \u001b[0mepoch_logs\u001b[0m \u001b[0;34m=\u001b[0m \u001b[0mcopy\u001b[0m\u001b[0;34m.\u001b[0m\u001b[0mcopy\u001b[0m\u001b[0;34m(\u001b[0m\u001b[0mlogs\u001b[0m\u001b[0;34m)\u001b[0m\u001b[0;34m\u001b[0m\u001b[0;34m\u001b[0m\u001b[0m\n\u001b[1;32m   1112\u001b[0m \u001b[0;34m\u001b[0m\u001b[0m\n",
            "\u001b[0;31mValueError\u001b[0m: Expect x to be a non-empty array or dataset."
          ]
        }
      ]
    },
    {
      "cell_type": "code",
      "metadata": {
        "id": "0qumk72ega29"
      },
      "source": [
        ""
      ],
      "execution_count": null,
      "outputs": []
    }
  ]
}