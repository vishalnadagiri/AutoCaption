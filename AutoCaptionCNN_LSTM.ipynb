{
  "nbformat": 4,
  "nbformat_minor": 0,
  "metadata": {
    "colab": {
      "name": "AutoCaptionCNN_LSTM.ipynb",
      "provenance": [],
      "collapsed_sections": [],
      "include_colab_link": true
    },
    "kernelspec": {
      "name": "python3",
      "display_name": "Python 3"
    },
    "accelerator": "GPU"
  },
  "cells": [
    {
      "cell_type": "markdown",
      "metadata": {
        "id": "view-in-github",
        "colab_type": "text"
      },
      "source": [
        "<a href=\"https://colab.research.google.com/github/vishalnadagiri/AutoCaption/blob/main/AutoCaptionCNN_LSTM.ipynb\" target=\"_parent\"><img src=\"https://colab.research.google.com/assets/colab-badge.svg\" alt=\"Open In Colab\"/></a>"
      ]
    },
    {
      "cell_type": "code",
      "metadata": {
        "id": "BSUZpkpp0FGR"
      },
      "source": [
        "from numpy import array\r\n",
        "from pickle import load\r\n",
        "from keras.preprocessing.text import Tokenizer\r\n",
        "from keras.preprocessing.sequence import pad_sequences\r\n",
        "from keras.utils import to_categorical, plot_model\r\n",
        "from keras.models import Model\r\n",
        "from keras.layers import Input, Dense, LSTM, Embedding, Dropout\r\n",
        "from keras.layers.merge import add\r\n",
        "from keras.callbacks import ModelCheckpoint\r\n",
        "from os import listdir\r\n",
        "from pickle import dump\r\n",
        "from keras.applications.vgg16 import VGG16, preprocess_input\r\n",
        "from keras.preprocessing.image import load_img, img_to_array\r\n",
        "import pandas as pd\r\n",
        "import numpy as np\r\n",
        "import glob\r\n",
        "import re"
      ],
      "execution_count": 1,
      "outputs": []
    },
    {
      "cell_type": "markdown",
      "metadata": {
        "id": "JJwEQbY64V9W"
      },
      "source": [
        "# Image data preparation and Image feature extraction"
      ]
    },
    {
      "cell_type": "code",
      "metadata": {
        "id": "ZJ3rKcWM0f5u"
      },
      "source": [
        "def extract_features(img_files):\r\n",
        "    model = VGG16()\r\n",
        "    model = Model(inputs=model.inputs, outputs=model.layers[-2].output)\r\n",
        "\r\n",
        "    features = dict()\r\n",
        "    for name in img_files:\r\n",
        "        # filename = directory + '/' + name\r\n",
        "        image = load_img(name, target_size=(224, 224))\r\n",
        "        image = img_to_array(image)\r\n",
        "        image = image.reshape((1,image.shape[0], image.shape[1], image.shape[2]))\r\n",
        "        # image = preprocess_input(image)\r\n",
        "        feature = model.predict(image, verbose=0).reshape(4096,)\r\n",
        "\r\n",
        "        image_id = name.split('/')[-1]\r\n",
        "\r\n",
        "        features[image_id] = feature\r\n",
        "    # print('>%s' % name)\r\n",
        "    return features"
      ],
      "execution_count": 2,
      "outputs": []
    },
    {
      "cell_type": "code",
      "metadata": {
        "id": "-DUEvGYF1u2C",
        "colab": {
          "base_uri": "https://localhost:8080/"
        },
        "outputId": "6fbb2ba9-9d65-4326-c122-5acd8ffb20d0"
      },
      "source": [
        "from google.colab import drive\r\n",
        "drive.mount('/content/drive')"
      ],
      "execution_count": 3,
      "outputs": [
        {
          "output_type": "stream",
          "text": [
            "Mounted at /content/drive\n"
          ],
          "name": "stdout"
        }
      ]
    },
    {
      "cell_type": "code",
      "metadata": {
        "colab": {
          "base_uri": "https://localhost:8080/",
          "height": 35
        },
        "id": "da-mkyo_SqKc",
        "outputId": "acaf0a02-cffe-4cf0-ca4e-e525b9abc240"
      },
      "source": [
        "f\"/content/drive/MyD\""
      ],
      "execution_count": null,
      "outputs": [
        {
          "output_type": "execute_result",
          "data": {
            "application/vnd.google.colaboratory.intrinsic+json": {
              "type": "string"
            },
            "text/plain": [
              "'/content/drive/MyD'"
            ]
          },
          "metadata": {
            "tags": []
          },
          "execution_count": 150
        }
      ]
    },
    {
      "cell_type": "code",
      "metadata": {
        "id": "dJnvblWI1Upf"
      },
      "source": [
        "csv_path = f\"/content/drive/MyDrive/AutoCaption/dataset.xlsx\"\r\n",
        "imag_path = f\"/content/drive/MyDrive/AutoCaption/images/\" \r\n",
        "df = pd.read_excel(csv_path)\r\n",
        "img_files = (glob.glob(imag_path+'*'))"
      ],
      "execution_count": 4,
      "outputs": []
    },
    {
      "cell_type": "code",
      "metadata": {
        "colab": {
          "base_uri": "https://localhost:8080/"
        },
        "id": "Ym0ltL9t1VmM",
        "outputId": "283a02f2-f90a-4d6e-eb6b-bd929b6576ee"
      },
      "source": [
        "features = extract_features(img_files)\r\n",
        "print('Extracted Features: %d' % len(features))\r\n",
        "# save to file\r\n",
        "dump(features, open('features.pkl', 'wb'))"
      ],
      "execution_count": 5,
      "outputs": [
        {
          "output_type": "stream",
          "text": [
            "Downloading data from https://storage.googleapis.com/tensorflow/keras-applications/vgg16/vgg16_weights_tf_dim_ordering_tf_kernels.h5\n",
            "553467904/553467096 [==============================] - 4s 0us/step\n",
            "Extracted Features: 500\n"
          ],
          "name": "stdout"
        }
      ]
    },
    {
      "cell_type": "markdown",
      "metadata": {
        "id": "Lg1znc3d4O7a"
      },
      "source": [
        "# Tetxt Data prepparation"
      ]
    },
    {
      "cell_type": "code",
      "metadata": {
        "colab": {
          "base_uri": "https://localhost:8080/",
          "height": 53
        },
        "id": "KSJTSWzt2v_I",
        "outputId": "d56510b2-93d1-4bc7-971f-6eaa49e44b0c"
      },
      "source": [
        "df.Description[0]"
      ],
      "execution_count": 6,
      "outputs": [
        {
          "output_type": "execute_result",
          "data": {
            "application/vnd.google.colaboratory.intrinsic+json": {
              "type": "string"
            },
            "text/plain": [
              "'This stylish foil print kurta from janasya is made of poly crepe and comes in an attractive peach color. It features 3/4 sleeve,round neck,a-line and it is calf length kurta that is suitable for casual occasions. Team it with matching leggings for a chic look.'"
            ]
          },
          "metadata": {
            "tags": []
          },
          "execution_count": 6
        }
      ]
    },
    {
      "cell_type": "code",
      "metadata": {
        "colab": {
          "base_uri": "https://localhost:8080/"
        },
        "id": "Sahi3Vgb60GI",
        "outputId": "9d8f5adf-5fd1-476f-f841-3d9838e9f3de"
      },
      "source": [
        "type(features)"
      ],
      "execution_count": 7,
      "outputs": [
        {
          "output_type": "execute_result",
          "data": {
            "text/plain": [
              "dict"
            ]
          },
          "metadata": {
            "tags": []
          },
          "execution_count": 7
        }
      ]
    },
    {
      "cell_type": "code",
      "metadata": {
        "id": "Tz7rifE47C3K"
      },
      "source": [
        "features.keys()"
      ],
      "execution_count": null,
      "outputs": []
    },
    {
      "cell_type": "code",
      "metadata": {
        "colab": {
          "base_uri": "https://localhost:8080/"
        },
        "id": "DiBywMq18BJF",
        "outputId": "3fb6c445-e837-4567-f025-7c3897ea1efb"
      },
      "source": [
        "df.columns"
      ],
      "execution_count": 9,
      "outputs": [
        {
          "output_type": "execute_result",
          "data": {
            "text/plain": [
              "Index(['Title', 'Description', 'Material', 'Pattern', 'Neckline',\n",
              "       'Image_Path'],\n",
              "      dtype='object')"
            ]
          },
          "metadata": {
            "tags": []
          },
          "execution_count": 9
        }
      ]
    },
    {
      "cell_type": "code",
      "metadata": {
        "colab": {
          "base_uri": "https://localhost:8080/",
          "height": 35
        },
        "id": "erZQpI0x_PNU",
        "outputId": "f9b8e2c1-6190-4075-fe4c-acf5df00857a"
      },
      "source": [
        "df.Image_Path[0]"
      ],
      "execution_count": 10,
      "outputs": [
        {
          "output_type": "execute_result",
          "data": {
            "application/vnd.google.colaboratory.intrinsic+json": {
              "type": "string"
            },
            "text/plain": [
              "'/images/pic_0.jpg'"
            ]
          },
          "metadata": {
            "tags": []
          },
          "execution_count": 10
        }
      ]
    },
    {
      "cell_type": "code",
      "metadata": {
        "id": "pH0u4rfL_SRD"
      },
      "source": [
        "df.Image_Path = df.Image_Path.apply(lambda x: x.split(f'/')[-1])"
      ],
      "execution_count": 11,
      "outputs": []
    },
    {
      "cell_type": "code",
      "metadata": {
        "colab": {
          "base_uri": "https://localhost:8080/",
          "height": 35
        },
        "id": "u6dQJTGP_g3L",
        "outputId": "6e8e3be4-102e-4471-d7d8-77454f76916e"
      },
      "source": [
        "df.Image_Path[0]"
      ],
      "execution_count": 12,
      "outputs": [
        {
          "output_type": "execute_result",
          "data": {
            "application/vnd.google.colaboratory.intrinsic+json": {
              "type": "string"
            },
            "text/plain": [
              "'pic_0.jpg'"
            ]
          },
          "metadata": {
            "tags": []
          },
          "execution_count": 12
        }
      ]
    },
    {
      "cell_type": "markdown",
      "metadata": {
        "id": "8_48RK8RAFgy"
      },
      "source": [
        "- Convert all words to lowercase.\r\n",
        "- Remove all punctuation.\r\n",
        "- Remove all words that are one character or less in length (e.g. ‘a’).\r\n",
        "- Remove all words with numbers in them."
      ]
    },
    {
      "cell_type": "code",
      "metadata": {
        "colab": {
          "base_uri": "https://localhost:8080/"
        },
        "id": "tZNva706_wxW",
        "outputId": "1b3a136d-d0e3-4b20-c49a-5cfe725ab2ea"
      },
      "source": [
        "for des,im in zip(df.Description[:5],df.Image_Path[:5]):\r\n",
        "    print(im ,des)\r\n",
        "    print()\r\n",
        "    print()"
      ],
      "execution_count": 13,
      "outputs": [
        {
          "output_type": "stream",
          "text": [
            "pic_0.jpg This stylish foil print kurta from janasya is made of poly crepe and comes in an attractive peach color. It features 3/4 sleeve,round neck,a-line and it is calf length kurta that is suitable for casual occasions. Team it with matching leggings for a chic look.\n",
            "\n",
            "\n",
            "pic_1.jpg This check pattern top by Work Label is crafted in cotton. Featuring a bias check at the yoke and straight check pattern in bottom half, a smart round Neckline, 3/4th sleeves, this mid hip length top offers a stylish & comfortable fit. Style this top with a trouser/skirt and medium high heels for chic look at work. This top can also be styled with a pair of stud earrings and a pair your regular sneakers to attain a casual look.\n",
            "\n",
            "\n",
            "pic_2.jpg Featuring elegant printed details, this off white top and skirt set from Jaipur Kurti makes a statement addition to your casual wardrobe. Style this set with a pair of high heels and statement accessories to complete the look.\n",
            "\n",
            "\n",
            "pic_3.jpg Add an extra dose of style to your casual wardrobe with this elegant blue cape top from Twenty Dresses. Style With: A pair of black denims, colour block heels and statement earrings will complete this look!\n",
            "\n",
            "\n",
            "pic_4.jpg Yellow polyester georgette maxi dress. Polyester knit lining inside for comfort. Overlapping v neckline with gathers at bust. Flared sleeves with attached belt at the waist. Concealed zipper on the left.\n",
            "\n",
            "\n"
          ],
          "name": "stdout"
        }
      ]
    },
    {
      "cell_type": "code",
      "metadata": {
        "id": "V9dM3UBtCJ7a"
      },
      "source": [
        "#create a dictionary as key: image name and value: description\r\n",
        "descriptions = {k : v for k,v in zip(df.Image_Path,df.Description) }"
      ],
      "execution_count": 14,
      "outputs": []
    },
    {
      "cell_type": "code",
      "metadata": {
        "id": "rKEw6eljAj8K"
      },
      "source": [
        "import string\r\n",
        "\r\n",
        "def clean_descriptions(descriptions):\r\n",
        "    '''\r\n",
        "        Clean the text \r\n",
        "        1. split desc in into words\r\n",
        "        2. make all char lower case \r\n",
        "        3. remove punctuations\r\n",
        "        4. remove single chars\r\n",
        "        5. remove non-numeric chars\r\n",
        "    '''\r\n",
        "    table = str.maketrans('', '', string.punctuation)\r\n",
        "    for key, desc in descriptions.items():\r\n",
        "        desc = desc.split()\r\n",
        "        desc = [word.lower() for word in desc]\r\n",
        "        desc = [w.translate(table) for w in desc]\r\n",
        "        desc = [word for word in desc if len(word)>1]\r\n",
        "        desc = [word for word in desc if word.isalpha()]\r\n",
        "        descriptions[key] =  'startseq ' + ' '.join(desc) + ' endseq'\r\n",
        "\r\n",
        "\r\n",
        "clean_descriptions(descriptions)"
      ],
      "execution_count": 15,
      "outputs": []
    },
    {
      "cell_type": "code",
      "metadata": {
        "colab": {
          "base_uri": "https://localhost:8080/",
          "height": 53
        },
        "id": "c11OqCf4F6ge",
        "outputId": "2e5053fd-b6d0-48d0-dafa-ab1d9808ea2b"
      },
      "source": [
        "descriptions['pic_0.jpg']"
      ],
      "execution_count": 16,
      "outputs": [
        {
          "output_type": "execute_result",
          "data": {
            "application/vnd.google.colaboratory.intrinsic+json": {
              "type": "string"
            },
            "text/plain": [
              "'startseq this stylish foil print kurta from janasya is made of poly crepe and comes in an attractive peach color it features sleeveround neckaline and it is calf length kurta that is suitable for casual occasions team it with matching leggings for chic look endseq'"
            ]
          },
          "metadata": {
            "tags": []
          },
          "execution_count": 16
        }
      ]
    },
    {
      "cell_type": "code",
      "metadata": {
        "id": "eFujcvYJCujX",
        "colab": {
          "base_uri": "https://localhost:8080/"
        },
        "outputId": "3fe70d50-274f-44be-e2e4-b8b32c600af6"
      },
      "source": [
        "def to_vocabulary(descriptions):\r\n",
        "\r\n",
        "    all_desc = set()\r\n",
        "    for key,desc in descriptions.items():\r\n",
        "        # for d in descriptions[key]:\r\n",
        "        all_desc.update(desc.split(' '))\r\n",
        "    return all_desc\r\n",
        "\r\n",
        "\r\n",
        "vocabulary = to_vocabulary(descriptions)\r\n",
        "print('Vocabulary Size: %d' % len(vocabulary))"
      ],
      "execution_count": 17,
      "outputs": [
        {
          "output_type": "stream",
          "text": [
            "Vocabulary Size: 1587\n"
          ],
          "name": "stdout"
        }
      ]
    },
    {
      "cell_type": "code",
      "metadata": {
        "colab": {
          "base_uri": "https://localhost:8080/"
        },
        "id": "sZPuBPnOJYZ2",
        "outputId": "f89859cc-a3d3-4d4e-a74b-4a23520ca8b4"
      },
      "source": [
        "len(descriptions)"
      ],
      "execution_count": 18,
      "outputs": [
        {
          "output_type": "execute_result",
          "data": {
            "text/plain": [
              "500"
            ]
          },
          "metadata": {
            "tags": []
          },
          "execution_count": 18
        }
      ]
    },
    {
      "cell_type": "code",
      "metadata": {
        "id": "ytrtzKFmq8rc"
      },
      "source": [
        ""
      ],
      "execution_count": 18,
      "outputs": []
    },
    {
      "cell_type": "code",
      "metadata": {
        "id": "NJIchA2fQ2j8"
      },
      "source": [
        "train_desc =dict()\r\n",
        "test_desc = dict()\r\n",
        "for key in list(features.keys())[:400]:\r\n",
        "    if key in descriptions.keys():\r\n",
        "        train_desc.update({key:descriptions[key]})\r\n",
        "\r\n",
        "for key in list(features.keys())[400:]:\r\n",
        "    if key in descriptions.keys():\r\n",
        "        test_desc.update({key:descriptions[key]})"
      ],
      "execution_count": 21,
      "outputs": []
    },
    {
      "cell_type": "code",
      "metadata": {
        "colab": {
          "base_uri": "https://localhost:8080/"
        },
        "id": "BgKvkuJdRbhS",
        "outputId": "003244c7-e8a0-458b-e32b-8a182e64df86"
      },
      "source": [
        "len(descriptions),len(features),len(train_desc),len(test_desc)"
      ],
      "execution_count": 22,
      "outputs": [
        {
          "output_type": "execute_result",
          "data": {
            "text/plain": [
              "(500, 500, 400, 100)"
            ]
          },
          "metadata": {
            "tags": []
          },
          "execution_count": 22
        }
      ]
    },
    {
      "cell_type": "code",
      "metadata": {
        "colab": {
          "base_uri": "https://localhost:8080/"
        },
        "id": "O0Ch1rBLRdrm",
        "outputId": "4589e713-7ddd-4632-d39e-9c4ca5f7721b"
      },
      "source": [
        "list(features.keys())[:2]"
      ],
      "execution_count": 23,
      "outputs": [
        {
          "output_type": "execute_result",
          "data": {
            "text/plain": [
              "['pic_1.jpg', 'pic_0.jpg']"
            ]
          },
          "metadata": {
            "tags": []
          },
          "execution_count": 23
        }
      ]
    },
    {
      "cell_type": "code",
      "metadata": {
        "colab": {
          "base_uri": "https://localhost:8080/"
        },
        "id": "wF7d7Y2QTvip",
        "outputId": "69552e93-ad32-4db4-f618-22777a9c5db8"
      },
      "source": [
        "for key in train_desc.keys():\r\n",
        "    if key in test_desc.keys():\r\n",
        "        print(key)\r\n",
        "else:\r\n",
        "     print('all pic are unique in train and test')"
      ],
      "execution_count": 24,
      "outputs": [
        {
          "output_type": "stream",
          "text": [
            "all pic are unique in train and test\n"
          ],
          "name": "stdout"
        }
      ]
    },
    {
      "cell_type": "code",
      "metadata": {
        "id": "WsM-MT9irOwc"
      },
      "source": [
        "def load_photo_features(filename, dataset):\r\n",
        "\t# load all features\r\n",
        "\t# all_features = load(open(filename, 'rb'))\r\n",
        "\t# filter \r\n",
        "    features = {}\r\n",
        "    for k in dataset:\r\n",
        "        features.update({k:filename[k]})\r\n",
        "\t# features = {k: filename[k] for k in dataset}\r\n",
        "    return features\r\n",
        "\r\n",
        "train_feat = load_photo_features(features, train_desc)\r\n",
        "test_feat = load_photo_features(features, test_desc)"
      ],
      "execution_count": 25,
      "outputs": []
    },
    {
      "cell_type": "code",
      "metadata": {
        "colab": {
          "base_uri": "https://localhost:8080/"
        },
        "id": "ME1TmcLsr4Bw",
        "outputId": "dbfdf919-2018-4ece-b439-b8e8eb52440e"
      },
      "source": [
        "train_feat[list(train_feat.keys())[2]].shape"
      ],
      "execution_count": 26,
      "outputs": [
        {
          "output_type": "execute_result",
          "data": {
            "text/plain": [
              "(4096,)"
            ]
          },
          "metadata": {
            "tags": []
          },
          "execution_count": 26
        }
      ]
    },
    {
      "cell_type": "code",
      "metadata": {
        "id": "JALmFk61UiJm"
      },
      "source": [
        "# train_fea =dict()\r\n",
        "# test_fea = dict()\r\n",
        "# for key in train_desc.keys():\r\n",
        "#     if key in features.keys():\r\n",
        "#         train_fea.update({key:features[key]})\r\n",
        "\r\n",
        "# for key in test_desc.keys():\r\n",
        "#     if key in features.keys():\r\n",
        "#         test_fea.update({key:features[key]})"
      ],
      "execution_count": 27,
      "outputs": []
    },
    {
      "cell_type": "code",
      "metadata": {
        "id": "0UmIAslZVZMk"
      },
      "source": [
        "# for key in train_fea.keys():\r\n",
        "#     if key in test_fea.keys():\r\n",
        "#         print(key)\r\n",
        "# else:\r\n",
        "#      print('all pic are unique in train and test')"
      ],
      "execution_count": 28,
      "outputs": []
    },
    {
      "cell_type": "code",
      "metadata": {
        "colab": {
          "base_uri": "https://localhost:8080/",
          "height": 53
        },
        "id": "qQ1S17loVtYO",
        "outputId": "b0fc98a3-dd78-42c4-9787-a539de7ec27c"
      },
      "source": [
        "train_desc['pic_0.jpg']"
      ],
      "execution_count": 29,
      "outputs": [
        {
          "output_type": "execute_result",
          "data": {
            "application/vnd.google.colaboratory.intrinsic+json": {
              "type": "string"
            },
            "text/plain": [
              "'startseq this stylish foil print kurta from janasya is made of poly crepe and comes in an attractive peach color it features sleeveround neckaline and it is calf length kurta that is suitable for casual occasions team it with matching leggings for chic look endseq'"
            ]
          },
          "metadata": {
            "tags": []
          },
          "execution_count": 29
        }
      ]
    },
    {
      "cell_type": "code",
      "metadata": {
        "colab": {
          "base_uri": "https://localhost:8080/"
        },
        "id": "74aySEh7WHRi",
        "outputId": "32391147-a1ed-4496-d6b5-1a1953ec1ce2"
      },
      "source": [
        "#convert desc to list and tokennize it\r\n",
        "def to_lines(descriptions):\r\n",
        "    all_desc = list()\r\n",
        "    for key in descriptions.keys():\r\n",
        "        all_desc.append(descriptions[key])\r\n",
        "    return all_desc\r\n",
        " \r\n",
        "# fit a tokenizer given caption descriptions\r\n",
        "def create_tokenizer(descriptions):\r\n",
        "\tlines = to_lines(descriptions)\r\n",
        "\ttokenizer = Tokenizer()\r\n",
        "\ttokenizer.fit_on_texts(lines)\r\n",
        "\treturn tokenizer\r\n",
        "\r\n",
        "def max_length(descriptions):\r\n",
        "\tlines = to_lines(descriptions)\r\n",
        "\treturn max(len(d.split()) for d in lines)\r\n",
        " \r\n",
        "# prepare tokenizer\r\n",
        "tokenizer_train = create_tokenizer(train_desc)\r\n",
        "vocab_size = len(tokenizer_train.word_index) + 1\r\n",
        "max_len=max_length(train_desc)\r\n",
        "print('train Vocabulary Size : %d' % vocab_size)\r\n",
        "\r\n",
        "tokenizer_test = create_tokenizer(test_desc)\r\n",
        "vocab_size_test = len(tokenizer_test.word_index) + 1\r\n",
        "max_length_test =max_length(test_desc)\r\n",
        "print('test Vocabulary Size: %d' % vocab_size_test)\r\n"
      ],
      "execution_count": 30,
      "outputs": [
        {
          "output_type": "stream",
          "text": [
            "train Vocabulary Size : 1443\n",
            "test Vocabulary Size: 725\n"
          ],
          "name": "stdout"
        }
      ]
    },
    {
      "cell_type": "code",
      "metadata": {
        "id": "74h5GLVhUFZV"
      },
      "source": [
        "tokenizer_train.texts_to_sequences([descriptions[list(descriptions.keys())[0]]])"
      ],
      "execution_count": null,
      "outputs": []
    },
    {
      "cell_type": "code",
      "metadata": {
        "id": "LoxK4_CeauYY"
      },
      "source": [
        "def create_sequences(tokenizer, max_length_, descriptions, photos, vocab_size):#tokenizer, max_length, train_desc, train_fea, vocab_size\r\n",
        "    X1, X2, y = list(), list(), list()\r\n",
        "    '''X1 = image features X2=desc seq y=next word'''\r\n",
        "    for key, desc in descriptions.items():\r\n",
        "        seq = tokenizer.texts_to_sequences([desc])\r\n",
        "        # print(seq)\r\n",
        "        for i in range(1, len(seq[0])):\r\n",
        "            # split into input and output pair\r\n",
        "            in_seq, out_seq = seq[0][:i], seq[0][i]\r\n",
        "            # pad input sequence\r\n",
        "            in_seq = pad_sequences([in_seq], maxlen=max_length_)[0]\r\n",
        "\r\n",
        "            out_seq = to_categorical([out_seq], num_classes=vocab_size)[0]\r\n",
        "\r\n",
        "            X1.append(photos[key])\r\n",
        "            X2.append(in_seq)\r\n",
        "            y.append(out_seq)\r\n",
        "    \r\n",
        "    return array(X1), array(X2), array(y)"
      ],
      "execution_count": 34,
      "outputs": []
    },
    {
      "cell_type": "code",
      "metadata": {
        "colab": {
          "base_uri": "https://localhost:8080/"
        },
        "id": "y4Pz3lWopDQW",
        "outputId": "696243db-9388-499b-8d1a-838a4e7da475"
      },
      "source": [
        "(train_feat['pic_0.jpg'].shape)"
      ],
      "execution_count": 36,
      "outputs": [
        {
          "output_type": "execute_result",
          "data": {
            "text/plain": [
              "(4096,)"
            ]
          },
          "metadata": {
            "tags": []
          },
          "execution_count": 36
        }
      ]
    },
    {
      "cell_type": "code",
      "metadata": {
        "colab": {
          "base_uri": "https://localhost:8080/"
        },
        "id": "vWwRlOiCpaJS",
        "outputId": "06ebb6cb-a936-4bb3-878d-2b7bd4e8593c"
      },
      "source": [
        "features['pic_1.jpg'].shape"
      ],
      "execution_count": 37,
      "outputs": [
        {
          "output_type": "execute_result",
          "data": {
            "text/plain": [
              "(4096,)"
            ]
          },
          "metadata": {
            "tags": []
          },
          "execution_count": 37
        }
      ]
    },
    {
      "cell_type": "code",
      "metadata": {
        "colab": {
          "base_uri": "https://localhost:8080/",
          "height": 167
        },
        "id": "CNpSh_ywj-Kv",
        "outputId": "c9a1f1a6-751e-4a76-bb70-1046336dd3d5"
      },
      "source": [
        "X1train.shape, X2train.shape , ytrain.shape"
      ],
      "execution_count": 38,
      "outputs": [
        {
          "output_type": "error",
          "ename": "NameError",
          "evalue": "ignored",
          "traceback": [
            "\u001b[0;31m---------------------------------------------------------------------------\u001b[0m",
            "\u001b[0;31mNameError\u001b[0m                                 Traceback (most recent call last)",
            "\u001b[0;32m<ipython-input-38-7fc988811aa1>\u001b[0m in \u001b[0;36m<module>\u001b[0;34m()\u001b[0m\n\u001b[0;32m----> 1\u001b[0;31m \u001b[0mX1train\u001b[0m\u001b[0;34m.\u001b[0m\u001b[0mshape\u001b[0m\u001b[0;34m,\u001b[0m \u001b[0mX2train\u001b[0m\u001b[0;34m.\u001b[0m\u001b[0mshape\u001b[0m \u001b[0;34m,\u001b[0m \u001b[0mytrain\u001b[0m\u001b[0;34m.\u001b[0m\u001b[0mshape\u001b[0m\u001b[0;34m\u001b[0m\u001b[0;34m\u001b[0m\u001b[0m\n\u001b[0m",
            "\u001b[0;31mNameError\u001b[0m: name 'X1train' is not defined"
          ]
        }
      ]
    },
    {
      "cell_type": "code",
      "metadata": {
        "colab": {
          "base_uri": "https://localhost:8080/"
        },
        "id": "Dns0QpHgfLTc",
        "outputId": "d91b92ab-db78-4cf9-bdfb-a0439ba13c78"
      },
      "source": [
        "X1train, X2train, ytrain =create_sequences(tokenizer_train, max_len, train_desc, train_feat, vocab_size)\r\n",
        "print(X1train.shape)\r\n",
        "X1test, X2test, ytest = create_sequences(tokenizer_train, max_len, test_desc, test_feat, vocab_size)\r\n",
        "print(X1test.shape)\r\n",
        "\r\n",
        "print('''\r\n",
        "1. max_length_train = {}\r\n",
        "2. train_desc  len = {}\r\n",
        "3. train_fea  len = {}\r\n",
        "4. train_vocab_size = {}\r\n",
        "\r\n",
        "5. max_length_test = {}\r\n",
        "6. test_desc  len = {}\r\n",
        "7. test_fea len = {}\r\n",
        "8. test_vocab_size = {}\r\n",
        "'''.format(max_len,len(train_desc),len(train_feat),vocab_size,max_length_test,len(test_desc),len(test_feat),vocab_size_test))\r\n"
      ],
      "execution_count": 53,
      "outputs": [
        {
          "output_type": "stream",
          "text": [
            "(13874, 4096)\n",
            "(3381, 4096)\n",
            "\n",
            "1. max_length_train = 83\n",
            "2. train_desc  len = 400\n",
            "3. train_fea  len = 400\n",
            "4. train_vocab_size = 1443\n",
            "\n",
            "5. max_length_test = 78\n",
            "6. test_desc  len = 100\n",
            "7. test_fea len = 100\n",
            "8. test_vocab_size = 725\n",
            "\n"
          ],
          "name": "stdout"
        }
      ]
    },
    {
      "cell_type": "code",
      "metadata": {
        "colab": {
          "base_uri": "https://localhost:8080/"
        },
        "id": "acsRspKVkk00",
        "outputId": "e8b2853f-92cd-4593-9cce-769f8710516d"
      },
      "source": [
        "len(train_desc)"
      ],
      "execution_count": 54,
      "outputs": [
        {
          "output_type": "execute_result",
          "data": {
            "text/plain": [
              "400"
            ]
          },
          "metadata": {
            "tags": []
          },
          "execution_count": 54
        }
      ]
    },
    {
      "cell_type": "code",
      "metadata": {
        "id": "9wYlMk6bcC0V",
        "colab": {
          "base_uri": "https://localhost:8080/"
        },
        "outputId": "d1a1dc99-023e-40f0-de24-56d73dd2a201"
      },
      "source": [
        "key_ = list(descriptions.keys())[0]\r\n",
        "print(key_)\r\n",
        "desc_ = descriptions[key_]\r\n",
        "print(desc_)\r\n",
        "seq_ = tokenizer_train.texts_to_sequences([desc_])\r\n",
        "print(seq_,len(seq_))\r\n",
        "print(len(desc_.split()),len(seq_[0]))\r\n",
        "x1_,x2_,y_ = [],[],[]\r\n",
        "for i in range(1,len(seq_[0])):\r\n",
        "    in_seq_,out_seq_ = seq_[0][:i],seq_[0][i]\r\n",
        "    in_seq_ = pad_sequences([in_seq_],maxlen=max_len)[0]\r\n",
        "    out_seq_ = to_categorical([out_seq_],num_classes=vocab_size)[0]\r\n",
        "    x1_.append(features[key_])\r\n",
        "    x2_.append(in_seq_)\r\n",
        "    y_.append(out_seq_)\r\n",
        "\r\n",
        "print(array(x1_))"
      ],
      "execution_count": 55,
      "outputs": [
        {
          "output_type": "stream",
          "text": [
            "pic_0.jpg\n",
            "startseq this stylish foil print kurta from janasya is made of poly crepe and comes in an attractive peach color it features sleeveround neckaline and it is calf length kurta that is suitable for casual occasions team it with matching leggings for chic look endseq\n",
            "[[4, 3, 122, 407, 91, 249, 17, 604, 12, 128, 16, 605, 60, 1, 163, 13, 41, 606, 357, 358, 19, 30, 818, 819, 1, 19, 12, 820, 171, 249, 61, 12, 607, 7, 47, 289, 87, 19, 2, 325, 359, 7, 84, 15, 5]] 1\n",
            "45 45\n",
            "[[0.        0.        0.        ... 0.        0.        4.6263666]\n",
            " [0.        0.        0.        ... 0.        0.        4.6263666]\n",
            " [0.        0.        0.        ... 0.        0.        4.6263666]\n",
            " ...\n",
            " [0.        0.        0.        ... 0.        0.        4.6263666]\n",
            " [0.        0.        0.        ... 0.        0.        4.6263666]\n",
            " [0.        0.        0.        ... 0.        0.        4.6263666]]\n"
          ],
          "name": "stdout"
        }
      ]
    },
    {
      "cell_type": "code",
      "metadata": {
        "id": "I-dnUV8jdveD"
      },
      "source": [
        "def define_model(vocab_size, max_length_dm):\r\n",
        "\t# feature extractor model\r\n",
        "\tinputs1 = Input(shape=(4096,))\r\n",
        "\tfe1 = Dropout(0.5)(inputs1)\r\n",
        "\tfe2 = Dense(256, activation='relu')(fe1)\r\n",
        "\t# sequence model\r\n",
        "\tinputs2 = Input(shape=(max_length_dm,))\r\n",
        "\tse1 = Embedding(vocab_size, 256, mask_zero=True)(inputs2)\r\n",
        "\tse2 = Dropout(0.5)(se1)\r\n",
        "\tse3 = LSTM(256)(se2)\r\n",
        "\t# decoder model\r\n",
        "\tdecoder1 = add([fe2, se3])\r\n",
        "\tdecoder2 = Dense(256, activation='relu')(decoder1)\r\n",
        "\toutputs = Dense(vocab_size, activation='softmax')(decoder2)\r\n",
        "\t# tie it together [image, seq] [word]\r\n",
        "\tmodel = Model(inputs=[inputs1, inputs2], outputs=outputs)\r\n",
        "\tmodel.compile(loss='categorical_crossentropy', optimizer='adam')\r\n",
        "\t# summarize model\r\n",
        "\tprint(model.summary())\r\n",
        "\tplot_model(model, to_file='model.png', show_shapes=True)\r\n",
        "\treturn model"
      ],
      "execution_count": 56,
      "outputs": []
    },
    {
      "cell_type": "code",
      "metadata": {
        "id": "ZFXAZSUife9i"
      },
      "source": [
        "#monitor the minimum loss on the validation dataset and save the model to a file\r\n",
        "filepath = 'model-ep{epoch:03d}-loss{loss:.3f}-val_loss{val_loss:.3f}.h5'\r\n",
        "checkpoint = ModelCheckpoint(filepath, monitor='val_loss', verbose=1, save_best_only=True, mode='min')"
      ],
      "execution_count": 57,
      "outputs": []
    },
    {
      "cell_type": "code",
      "metadata": {
        "colab": {
          "base_uri": "https://localhost:8080/"
        },
        "id": "Appk4SlTfcF4",
        "outputId": "bcaef455-fbac-4276-8f4a-180a5820f2ae"
      },
      "source": [
        "model = define_model(vocab_size, max_len)"
      ],
      "execution_count": 58,
      "outputs": [
        {
          "output_type": "stream",
          "text": [
            "Model: \"model_2\"\n",
            "__________________________________________________________________________________________________\n",
            "Layer (type)                    Output Shape         Param #     Connected to                     \n",
            "==================================================================================================\n",
            "input_5 (InputLayer)            [(None, 83)]         0                                            \n",
            "__________________________________________________________________________________________________\n",
            "input_4 (InputLayer)            [(None, 4096)]       0                                            \n",
            "__________________________________________________________________________________________________\n",
            "embedding_1 (Embedding)         (None, 83, 256)      369408      input_5[0][0]                    \n",
            "__________________________________________________________________________________________________\n",
            "dropout_2 (Dropout)             (None, 4096)         0           input_4[0][0]                    \n",
            "__________________________________________________________________________________________________\n",
            "dropout_3 (Dropout)             (None, 83, 256)      0           embedding_1[0][0]                \n",
            "__________________________________________________________________________________________________\n",
            "dense_3 (Dense)                 (None, 256)          1048832     dropout_2[0][0]                  \n",
            "__________________________________________________________________________________________________\n",
            "lstm_1 (LSTM)                   (None, 256)          525312      dropout_3[0][0]                  \n",
            "__________________________________________________________________________________________________\n",
            "add_1 (Add)                     (None, 256)          0           dense_3[0][0]                    \n",
            "                                                                 lstm_1[0][0]                     \n",
            "__________________________________________________________________________________________________\n",
            "dense_4 (Dense)                 (None, 256)          65792       add_1[0][0]                      \n",
            "__________________________________________________________________________________________________\n",
            "dense_5 (Dense)                 (None, 1443)         370851      dense_4[0][0]                    \n",
            "==================================================================================================\n",
            "Total params: 2,380,195\n",
            "Trainable params: 2,380,195\n",
            "Non-trainable params: 0\n",
            "__________________________________________________________________________________________________\n",
            "None\n"
          ],
          "name": "stdout"
        }
      ]
    },
    {
      "cell_type": "code",
      "metadata": {
        "colab": {
          "base_uri": "https://localhost:8080/"
        },
        "id": "gxgrwqtFf8jt",
        "outputId": "6f954bdd-0992-429d-921f-cb13cde7a1ec"
      },
      "source": [
        "model.fit([X1train, X2train], ytrain, epochs=20, verbose=2,callbacks=[checkpoint], validation_data=([X1test, X2test], ytest))"
      ],
      "execution_count": 59,
      "outputs": [
        {
          "output_type": "stream",
          "text": [
            "Epoch 1/20\n",
            "434/434 - 85s - loss: 5.7376 - val_loss: 5.0669\n",
            "\n",
            "Epoch 00001: val_loss improved from inf to 5.06692, saving model to model-ep001-loss5.738-val_loss5.067.h5\n",
            "Epoch 2/20\n",
            "434/434 - 79s - loss: 4.9728 - val_loss: 4.5255\n",
            "\n",
            "Epoch 00002: val_loss improved from 5.06692 to 4.52547, saving model to model-ep002-loss4.973-val_loss4.525.h5\n",
            "Epoch 3/20\n",
            "434/434 - 78s - loss: 4.2496 - val_loss: 3.9985\n",
            "\n",
            "Epoch 00003: val_loss improved from 4.52547 to 3.99849, saving model to model-ep003-loss4.250-val_loss3.998.h5\n",
            "Epoch 4/20\n",
            "434/434 - 78s - loss: 3.6024 - val_loss: 3.7314\n",
            "\n",
            "Epoch 00004: val_loss improved from 3.99849 to 3.73135, saving model to model-ep004-loss3.602-val_loss3.731.h5\n",
            "Epoch 5/20\n",
            "434/434 - 79s - loss: 3.0948 - val_loss: 3.6101\n",
            "\n",
            "Epoch 00005: val_loss improved from 3.73135 to 3.61007, saving model to model-ep005-loss3.095-val_loss3.610.h5\n",
            "Epoch 6/20\n",
            "434/434 - 78s - loss: 2.6550 - val_loss: 3.6006\n",
            "\n",
            "Epoch 00006: val_loss improved from 3.61007 to 3.60059, saving model to model-ep006-loss2.655-val_loss3.601.h5\n",
            "Epoch 7/20\n",
            "434/434 - 79s - loss: 2.2792 - val_loss: 3.6170\n",
            "\n",
            "Epoch 00007: val_loss did not improve from 3.60059\n",
            "Epoch 8/20\n",
            "434/434 - 79s - loss: 1.9568 - val_loss: 3.7451\n",
            "\n",
            "Epoch 00008: val_loss did not improve from 3.60059\n",
            "Epoch 9/20\n",
            "434/434 - 80s - loss: 1.6753 - val_loss: 3.9697\n",
            "\n",
            "Epoch 00009: val_loss did not improve from 3.60059\n",
            "Epoch 10/20\n",
            "434/434 - 78s - loss: 1.4274 - val_loss: 4.1436\n",
            "\n",
            "Epoch 00010: val_loss did not improve from 3.60059\n",
            "Epoch 11/20\n",
            "434/434 - 78s - loss: 1.2250 - val_loss: 4.3804\n",
            "\n",
            "Epoch 00011: val_loss did not improve from 3.60059\n",
            "Epoch 12/20\n",
            "434/434 - 77s - loss: 1.0493 - val_loss: 4.4561\n",
            "\n",
            "Epoch 00012: val_loss did not improve from 3.60059\n",
            "Epoch 13/20\n",
            "434/434 - 78s - loss: 0.9080 - val_loss: 4.7103\n",
            "\n",
            "Epoch 00013: val_loss did not improve from 3.60059\n",
            "Epoch 14/20\n",
            "434/434 - 77s - loss: 0.7756 - val_loss: 4.8928\n",
            "\n",
            "Epoch 00014: val_loss did not improve from 3.60059\n",
            "Epoch 15/20\n",
            "434/434 - 77s - loss: 0.6717 - val_loss: 5.0641\n",
            "\n",
            "Epoch 00015: val_loss did not improve from 3.60059\n",
            "Epoch 16/20\n",
            "434/434 - 77s - loss: 0.5911 - val_loss: 5.2884\n",
            "\n",
            "Epoch 00016: val_loss did not improve from 3.60059\n",
            "Epoch 17/20\n",
            "434/434 - 77s - loss: 0.5139 - val_loss: 5.4410\n",
            "\n",
            "Epoch 00017: val_loss did not improve from 3.60059\n",
            "Epoch 18/20\n",
            "434/434 - 77s - loss: 0.4620 - val_loss: 5.6383\n",
            "\n",
            "Epoch 00018: val_loss did not improve from 3.60059\n",
            "Epoch 19/20\n",
            "434/434 - 78s - loss: 0.4017 - val_loss: 5.8020\n",
            "\n",
            "Epoch 00019: val_loss did not improve from 3.60059\n",
            "Epoch 20/20\n",
            "434/434 - 79s - loss: 0.3618 - val_loss: 5.9178\n",
            "\n",
            "Epoch 00020: val_loss did not improve from 3.60059\n"
          ],
          "name": "stdout"
        },
        {
          "output_type": "execute_result",
          "data": {
            "text/plain": [
              "<tensorflow.python.keras.callbacks.History at 0x7fefbe713b38>"
            ]
          },
          "metadata": {
            "tags": []
          },
          "execution_count": 59
        }
      ]
    },
    {
      "cell_type": "code",
      "metadata": {
        "id": "g4lsgOoys_8V"
      },
      "source": [
        "model.save('image_desc_loss_0.362_vslloss_5.91.h5')"
      ],
      "execution_count": 60,
      "outputs": []
    },
    {
      "cell_type": "markdown",
      "metadata": {
        "id": "sRE1g7Rur_1C"
      },
      "source": [
        "# Model Evaluation"
      ]
    },
    {
      "cell_type": "markdown",
      "metadata": {
        "id": "jWIPZh-j4RVU"
      },
      "source": [
        "# Model Testing\r\n",
        "- generate description for given url"
      ]
    },
    {
      "cell_type": "code",
      "metadata": {
        "id": "4YcLS11IuH1y"
      },
      "source": [
        "url = r'https://images-na.ssl-images-amazon.com/images/I/81UZYparZfL._UL1500_.jpg'\r\n"
      ],
      "execution_count": 63,
      "outputs": []
    },
    {
      "cell_type": "code",
      "metadata": {
        "id": "euhVTBOPuF3s"
      },
      "source": [
        "import requests\r\n",
        "import os\r\n",
        "img_data = requests.get(url).content\r\n",
        "if not os.path.exists('downloaded_image'):\r\n",
        "    os.makedirs('downloaded_image')\r\n",
        "else:\r\n",
        "    img_name=os.getcwd()+'/downloaded_image'+'/image_name.jpg'\r\n",
        "    with open(img_name, 'wb') as handler:\r\n",
        "        handler.write(img_data)"
      ],
      "execution_count": 72,
      "outputs": []
    },
    {
      "cell_type": "code",
      "metadata": {
        "id": "lwcRSe4lwJQE"
      },
      "source": [
        "dwn_img = os.getcwd()+'/downloaded_image'+'/image_name.jpg'"
      ],
      "execution_count": 77,
      "outputs": []
    },
    {
      "cell_type": "code",
      "metadata": {
        "colab": {
          "base_uri": "https://localhost:8080/",
          "height": 318
        },
        "id": "GxaiQ7o3r-Ia",
        "outputId": "c9ea2ea0-cb2b-4eb5-a08b-6ee49d09af65"
      },
      "source": [
        "from keras.models import load_model\r\n",
        "from numpy import argmax\r\n",
        "import cv2\r\n",
        "import matplotlib.pyplot as plt\r\n",
        "import re\r\n",
        "pattern = re.compile(r\"\\b(\" + \"|\".join(['startseq','endseq']) + \")\\\\W\", re.I)\r\n",
        "\r\n",
        "def extract_features(filename):\r\n",
        "\tmodel = VGG16()\r\n",
        "\tmodel = Model(inputs=model.inputs, outputs=model.layers[-2].output)\r\n",
        "\timage = load_img(filename, target_size=(224, 224))\r\n",
        "\timage = img_to_array(image)\r\n",
        "\timage = image.reshape((1, image.shape[0], image.shape[1], image.shape[2]))\r\n",
        "\timage = preprocess_input(image)\r\n",
        "\tfeature = model.predict(image, verbose=0).reshape(1,4096)\r\n",
        "\treturn feature\r\n",
        " \r\n",
        "# map an integer to a word\r\n",
        "def word_for_id(integer, tokenizer):\r\n",
        "\tfor word, index in tokenizer.word_index.items():\r\n",
        "\t\tif index == integer:\r\n",
        "\t\t\treturn word\r\n",
        "\treturn None\r\n",
        " \r\n",
        "# generate a description for an image\r\n",
        "def generate_desc(model, tokenizer, photo, max_length):\r\n",
        "\t# seed the generation process\r\n",
        "\tin_text = 'startseq'\r\n",
        "\t# iterate over the whole length of the sequence\r\n",
        "\tfor i in range(max_length):\r\n",
        "\t\t# integer encode input sequence\r\n",
        "\t\tsequence = tokenizer.texts_to_sequences([in_text])[0]\r\n",
        "\t\t# pad input\r\n",
        "\t\tsequence = pad_sequences([sequence], maxlen=max_length)\r\n",
        "\t\t# predict next word\r\n",
        "\t\tyhat = model.predict([photo,sequence], verbose=0)\r\n",
        "\t\t# convert probability to integer\r\n",
        "\t\tyhat = argmax(yhat)\r\n",
        "\t\t# map integer to word\r\n",
        "\t\tword = word_for_id(yhat, tokenizer)\r\n",
        "\t\t# stop if we cannot map the word\r\n",
        "\t\tif word is None:\r\n",
        "\t\t\tbreak\r\n",
        "\t\t# append as input for generating the next word\r\n",
        "\t\tin_text += ' ' + word\r\n",
        "\t\t# stop if we predict the end of the sequence\r\n",
        "\t\tif word == 'endseq':\r\n",
        "\t\t\tbreak\r\n",
        "\treturn in_text\r\n",
        " \r\n",
        " #with model val_loss 3.601\r\n",
        "max_length = 34\r\n",
        "model = load_model('model-ep006-loss2.655-val_loss3.601.h5')#\r\n",
        "photo = extract_features(dwn_img)\r\n",
        "description = generate_desc(model, tokenizer_train, photo, max_len)\r\n",
        "desc = pattern.sub(\"\", description)\r\n",
        "imag = cv2.imread(dwn_img)\r\n",
        "imag = cv2.cvtColor(imag, cv2.COLOR_BGR2RGB)\r\n",
        "plt.imshow(imag)\r\n",
        "plt.xlabel(desc)\r\n",
        "print(desc)"
      ],
      "execution_count": 108,
      "outputs": [
        {
          "output_type": "stream",
          "text": [
            "this black floral printed dress by attic ritu ritu kumar is crafted in satin and features vneck sleeves with tie up belt and regular fit style this dress with pair of high heels and fine accessories to complete the look endseq\n"
          ],
          "name": "stdout"
        },
        {
          "output_type": "display_data",
          "data": {
            "image/png": "[encoded data removed]",
            "text/plain": [
              "<Figure size 432x288 with 1 Axes>"
            ]
          },
          "metadata": {
            "tags": [],
            "needs_background": "light"
          }
        }
      ]
    },
    {
      "cell_type": "code",
      "metadata": {
        "colab": {
          "base_uri": "https://localhost:8080/",
          "height": 321
        },
        "id": "zKxHB5dKw-b7",
        "outputId": "2ae65caf-b0a3-474f-c763-0c620e648c0a"
      },
      "source": [
        "#with end model trained for all epochs\r\n",
        "max_length = 34\r\n",
        "model = load_model('image_desc_loss_0.362_vslloss_5.91.h5')\r\n",
        "photo = extract_features(dwn_img)\r\n",
        "description = generate_desc(model, tokenizer_train, photo, max_len)\r\n",
        "desc = pattern.sub(\"\", description)\r\n",
        "imag = cv2.imread(dwn_img)\r\n",
        "imag = cv2.cvtColor(imag, cv2.COLOR_BGR2RGB)\r\n",
        "plt.imshow(imag)\r\n",
        "plt.xlabel(desc)\r\n",
        "print(desc)"
      ],
      "execution_count": 107,
      "outputs": [
        {
          "output_type": "stream",
          "text": [
            "blue polyester georgette maxi dress polyester knit lining inside for comfort overlapping vneckline with tie up detailing at bust side pockets center front button placket for fastening and ease endseq\n"
          ],
          "name": "stdout"
        },
        {
          "output_type": "display_data",
          "data": {
            "image/png": "[encoded data removed]",
            "text/plain": [
              "<Figure size 432x288 with 1 Axes>"
            ]
          },
          "metadata": {
            "tags": [],
            "needs_background": "light"
          }
        }
      ]
    },
    {
      "cell_type": "markdown",
      "metadata": {
        "id": "3QC1_zLz9fnN"
      },
      "source": [
        "## WIth above two result we can say that model with low val_loss gives a little acceptable descriptions"
      ]
    },
    {
      "cell_type": "code",
      "metadata": {
        "id": "ojxpn0fyu-Rm"
      },
      "source": [
        ""
      ],
      "execution_count": 115,
      "outputs": []
    },
    {
      "cell_type": "code",
      "metadata": {
        "id": "CqrHhpUK1nOD"
      },
      "source": [
        ""
      ],
      "execution_count": 115,
      "outputs": []
    },
    {
      "cell_type": "code",
      "metadata": {
        "id": "Ib5xo4WS22aO"
      },
      "source": [
        ""
      ],
      "execution_count": null,
      "outputs": []
    }
  ]
}