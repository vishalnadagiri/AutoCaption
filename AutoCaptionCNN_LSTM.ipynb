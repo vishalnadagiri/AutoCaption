{
  "nbformat": 4,
  "nbformat_minor": 0,
  "metadata": {
    "colab": {
      "name": "AutoCaptionCNN_LSTM.ipynb",
      "provenance": [],
      "include_colab_link": true
    },
    "kernelspec": {
      "name": "python3",
      "display_name": "Python 3"
    },
    "accelerator": "GPU"
  },
  "cells": [
    {
      "cell_type": "markdown",
      "metadata": {
        "id": "view-in-github",
        "colab_type": "text"
      },
      "source": [
        "<a href=\"https://colab.research.google.com/github/vishalnadagiri/AutoCaption/blob/main/AutoCaptionCNN_LSTM.ipynb\" target=\"_parent\"><img src=\"https://colab.research.google.com/assets/colab-badge.svg\" alt=\"Open In Colab\"/></a>"
      ]
    },
    {
      "cell_type": "code",
      "metadata": {
        "id": "BSUZpkpp0FGR"
      },
      "source": [
        "from numpy import array\r\n",
        "from pickle import load\r\n",
        "from keras.preprocessing.text import Tokenizer\r\n",
        "from keras.preprocessing.sequence import pad_sequences\r\n",
        "from keras.utils import to_categorical, plot_model\r\n",
        "from keras.models import Model\r\n",
        "from keras.layers import Input, Dense, LSTM, Embedding, Dropout\r\n",
        "from keras.layers.merge import add\r\n",
        "from keras.callbacks import ModelCheckpoint\r\n",
        "from os import listdir\r\n",
        "from pickle import dump\r\n",
        "from keras.applications.vgg16 import VGG16, preprocess_input\r\n",
        "from keras.preprocessing.image import load_img, img_to_array\r\n",
        "import pandas as pd\r\n",
        "import numpy as np\r\n",
        "import glob\r\n",
        "import re"
      ],
      "execution_count": null,
      "outputs": []
    },
    {
      "cell_type": "markdown",
      "metadata": {
        "id": "JJwEQbY64V9W"
      },
      "source": [
        "# Image data preparation and Image feature extraction"
      ]
    },
    {
      "cell_type": "code",
      "metadata": {
        "id": "ZJ3rKcWM0f5u"
      },
      "source": [
        "def extract_features(img_files):\r\n",
        "    model = VGG16()\r\n",
        "    model = Model(inputs=model.inputs, outputs=model.layers[-2].output)\r\n",
        "\r\n",
        "    features = dict()\r\n",
        "    for name in img_files:\r\n",
        "        # filename = directory + '/' + name\r\n",
        "        image = load_img(name, target_size=(224, 224))\r\n",
        "        image = img_to_array(image)\r\n",
        "        image = image.reshape((1, image.shape[0], image.shape[1], image.shape[2]))\r\n",
        "        image = preprocess_input(image)\r\n",
        "        feature = model.predict(image, verbose=0)\r\n",
        "\r\n",
        "        image_id = name.split('/')[-1]\r\n",
        "\r\n",
        "        features[image_id] = feature\r\n",
        "    # print('>%s' % name)\r\n",
        "    return features"
      ],
      "execution_count": null,
      "outputs": []
    },
    {
      "cell_type": "code",
      "metadata": {
        "colab": {
          "base_uri": "https://localhost:8080/"
        },
        "id": "-DUEvGYF1u2C",
        "outputId": "f5c0babd-95d5-4516-a109-7d9130bbd1c8"
      },
      "source": [
        "from google.colab import drive\r\n",
        "drive.mount('/content/drive')"
      ],
      "execution_count": 3,
      "outputs": [
        {
          "output_type": "stream",
          "text": [
            "Mounted at /content/drive\n"
          ],
          "name": "stdout"
        }
      ]
    },
    {
      "cell_type": "code",
      "metadata": {
        "id": "dJnvblWI1Upf"
      },
      "source": [
        "csv_path = f\"/content/drive/MyDrive/AutoCaption/extracted/dataset.xlsx\"\r\n",
        "imag_path = f\"/content/drive/MyDrive/AutoCaption/extracted/images/images/\" \r\n",
        "df = pd.read_excel(csv_path)\r\n",
        "img_files = (glob.glob(imag_path+'*'))"
      ],
      "execution_count": 4,
      "outputs": []
    },
    {
      "cell_type": "code",
      "metadata": {
        "colab": {
          "base_uri": "https://localhost:8080/"
        },
        "id": "Ym0ltL9t1VmM",
        "outputId": "62949355-d967-4f52-9977-7b0f508bbd54"
      },
      "source": [
        "features = extract_features(img_files)\r\n",
        "print('Extracted Features: %d' % len(features))\r\n",
        "# save to file\r\n",
        "dump(features, open('features.pkl', 'wb'))"
      ],
      "execution_count": 7,
      "outputs": [
        {
          "output_type": "stream",
          "text": [
            "Downloading data from https://storage.googleapis.com/tensorflow/keras-applications/vgg16/vgg16_weights_tf_dim_ordering_tf_kernels.h5\n",
            "553467904/553467096 [==============================] - 4s 0us/step\n",
            "Extracted Features: 500\n"
          ],
          "name": "stdout"
        }
      ]
    },
    {
      "cell_type": "markdown",
      "metadata": {
        "id": "Lg1znc3d4O7a"
      },
      "source": [
        "# Tetxt Data prepparation"
      ]
    },
    {
      "cell_type": "code",
      "metadata": {
        "colab": {
          "base_uri": "https://localhost:8080/",
          "height": 53
        },
        "id": "KSJTSWzt2v_I",
        "outputId": "03cc08a3-0950-492d-9224-840c3e8f3c39"
      },
      "source": [
        "df.Description[0]"
      ],
      "execution_count": 8,
      "outputs": [
        {
          "output_type": "execute_result",
          "data": {
            "application/vnd.google.colaboratory.intrinsic+json": {
              "type": "string"
            },
            "text/plain": [
              "'This stylish foil print kurta from janasya is made of poly crepe and comes in an attractive peach color. It features 3/4 sleeve,round neck,a-line and it is calf length kurta that is suitable for casual occasions. Team it with matching leggings for a chic look.'"
            ]
          },
          "metadata": {
            "tags": []
          },
          "execution_count": 8
        }
      ]
    },
    {
      "cell_type": "code",
      "metadata": {
        "colab": {
          "base_uri": "https://localhost:8080/"
        },
        "id": "DiBywMq18BJF",
        "outputId": "3124cd25-a69e-4cd5-9659-ab19e86ad8bd"
      },
      "source": [
        "df.columns"
      ],
      "execution_count": 10,
      "outputs": [
        {
          "output_type": "execute_result",
          "data": {
            "text/plain": [
              "Index(['Title', 'Description', 'Material', 'Pattern', 'Neckline',\n",
              "       'Image_Path'],\n",
              "      dtype='object')"
            ]
          },
          "metadata": {
            "tags": []
          },
          "execution_count": 10
        }
      ]
    },
    {
      "cell_type": "code",
      "metadata": {
        "colab": {
          "base_uri": "https://localhost:8080/",
          "height": 35
        },
        "id": "erZQpI0x_PNU",
        "outputId": "326fee22-ef9f-405f-b122-d36011201dab"
      },
      "source": [
        "df.Image_Path[0]"
      ],
      "execution_count": 11,
      "outputs": [
        {
          "output_type": "execute_result",
          "data": {
            "application/vnd.google.colaboratory.intrinsic+json": {
              "type": "string"
            },
            "text/plain": [
              "'/images/pic_0.jpg'"
            ]
          },
          "metadata": {
            "tags": []
          },
          "execution_count": 11
        }
      ]
    },
    {
      "cell_type": "code",
      "metadata": {
        "id": "pH0u4rfL_SRD"
      },
      "source": [
        "df.Image_Path = df.Image_Path.apply(lambda x: x.split(f'/')[-1])"
      ],
      "execution_count": 12,
      "outputs": []
    },
    {
      "cell_type": "code",
      "metadata": {
        "colab": {
          "base_uri": "https://localhost:8080/",
          "height": 35
        },
        "id": "u6dQJTGP_g3L",
        "outputId": "9778cfc5-4a3e-4a2f-8539-f9af9e46a802"
      },
      "source": [
        "df.Image_Path[0]"
      ],
      "execution_count": 13,
      "outputs": [
        {
          "output_type": "execute_result",
          "data": {
            "application/vnd.google.colaboratory.intrinsic+json": {
              "type": "string"
            },
            "text/plain": [
              "'pic_0.jpg'"
            ]
          },
          "metadata": {
            "tags": []
          },
          "execution_count": 13
        }
      ]
    },
    {
      "cell_type": "markdown",
      "metadata": {
        "id": "8_48RK8RAFgy"
      },
      "source": [
        "- Convert all words to lowercase.\r\n",
        "- Remove all punctuation.\r\n",
        "- Remove all words that are one character or less in length (e.g. ‘a’).\r\n",
        "- Remove all words with numbers in them."
      ]
    },
    {
      "cell_type": "code",
      "metadata": {
        "colab": {
          "base_uri": "https://localhost:8080/"
        },
        "id": "tZNva706_wxW",
        "outputId": "821dbc0e-f4cc-4d73-bc49-0bb6f628d808"
      },
      "source": [
        "for des,im in zip(df.Description[:5],df.Image_Path[:5]):\r\n",
        "    print(im ,des)\r\n",
        "    print()\r\n",
        "    print()"
      ],
      "execution_count": 14,
      "outputs": [
        {
          "output_type": "stream",
          "text": [
            "pic_0.jpg This stylish foil print kurta from janasya is made of poly crepe and comes in an attractive peach color. It features 3/4 sleeve,round neck,a-line and it is calf length kurta that is suitable for casual occasions. Team it with matching leggings for a chic look.\n",
            "\n",
            "\n",
            "pic_1.jpg This check pattern top by Work Label is crafted in cotton. Featuring a bias check at the yoke and straight check pattern in bottom half, a smart round Neckline, 3/4th sleeves, this mid hip length top offers a stylish & comfortable fit. Style this top with a trouser/skirt and medium high heels for chic look at work. This top can also be styled with a pair of stud earrings and a pair your regular sneakers to attain a casual look.\n",
            "\n",
            "\n",
            "pic_2.jpg Featuring elegant printed details, this off white top and skirt set from Jaipur Kurti makes a statement addition to your casual wardrobe. Style this set with a pair of high heels and statement accessories to complete the look.\n",
            "\n",
            "\n",
            "pic_3.jpg Add an extra dose of style to your casual wardrobe with this elegant blue cape top from Twenty Dresses. Style With: A pair of black denims, colour block heels and statement earrings will complete this look!\n",
            "\n",
            "\n",
            "pic_4.jpg Yellow polyester georgette maxi dress. Polyester knit lining inside for comfort. Overlapping v neckline with gathers at bust. Flared sleeves with attached belt at the waist. Concealed zipper on the left.\n",
            "\n",
            "\n"
          ],
          "name": "stdout"
        }
      ]
    },
    {
      "cell_type": "code",
      "metadata": {
        "id": "V9dM3UBtCJ7a"
      },
      "source": [
        "#create a dictionary as key: image name and value: description\r\n",
        "descriptions = {k : v for k,v in zip(df.Image_Path,df.Description) }"
      ],
      "execution_count": 15,
      "outputs": []
    },
    {
      "cell_type": "code",
      "metadata": {
        "id": "rKEw6eljAj8K"
      },
      "source": [
        "import string\r\n",
        "\r\n",
        "def clean_descriptions(descriptions):\r\n",
        "    '''\r\n",
        "        Clean the text \r\n",
        "        1. split desc in into words\r\n",
        "        2. make all char lower case \r\n",
        "        3. remove punctuations\r\n",
        "        4. remove single chars\r\n",
        "        5. remove non-numeric chars\r\n",
        "    '''\r\n",
        "    table = str.maketrans('', '', string.punctuation)\r\n",
        "    for key, desc in descriptions.items():\r\n",
        "        desc = desc.split()\r\n",
        "        desc = [word.lower() for word in desc]\r\n",
        "        desc = [w.translate(table) for w in desc]\r\n",
        "        desc = [word for word in desc if len(word)>1]\r\n",
        "        desc = [word for word in desc if word.isalpha()]\r\n",
        "        descriptions[key] =  'startseq ' + ' '.join(desc) + ' endseq'\r\n",
        "\r\n",
        "\r\n",
        "clean_descriptions(descriptions)"
      ],
      "execution_count": 16,
      "outputs": []
    },
    {
      "cell_type": "code",
      "metadata": {
        "colab": {
          "base_uri": "https://localhost:8080/",
          "height": 53
        },
        "id": "c11OqCf4F6ge",
        "outputId": "e13d252b-12a5-4d45-e5f3-2307051d29ba"
      },
      "source": [
        "descriptions['pic_0.jpg']"
      ],
      "execution_count": 17,
      "outputs": [
        {
          "output_type": "execute_result",
          "data": {
            "application/vnd.google.colaboratory.intrinsic+json": {
              "type": "string"
            },
            "text/plain": [
              "'startseq this stylish foil print kurta from janasya is made of poly crepe and comes in an attractive peach color it features sleeveround neckaline and it is calf length kurta that is suitable for casual occasions team it with matching leggings for chic look endseq'"
            ]
          },
          "metadata": {
            "tags": []
          },
          "execution_count": 17
        }
      ]
    },
    {
      "cell_type": "code",
      "metadata": {
        "id": "eFujcvYJCujX",
        "colab": {
          "base_uri": "https://localhost:8080/"
        },
        "outputId": "b1871215-0ffe-460c-f86d-207e0904f640"
      },
      "source": [
        "def to_vocabulary(descriptions):\r\n",
        "\r\n",
        "    all_desc = set()\r\n",
        "    for key,desc in descriptions.items():\r\n",
        "        # for d in descriptions[key]:\r\n",
        "        all_desc.update(desc.split(' '))\r\n",
        "    return all_desc\r\n",
        "\r\n",
        "\r\n",
        "vocabulary = to_vocabulary(descriptions)\r\n",
        "print('Vocabulary Size: %d' % len(vocabulary))"
      ],
      "execution_count": 18,
      "outputs": [
        {
          "output_type": "stream",
          "text": [
            "Vocabulary Size: 1587\n"
          ],
          "name": "stdout"
        }
      ]
    },
    {
      "cell_type": "code",
      "metadata": {
        "colab": {
          "base_uri": "https://localhost:8080/"
        },
        "id": "sZPuBPnOJYZ2",
        "outputId": "c8f41a98-6a4b-44f8-ba72-6270f8d307ee"
      },
      "source": [
        "len(descriptions)"
      ],
      "execution_count": 19,
      "outputs": [
        {
          "output_type": "execute_result",
          "data": {
            "text/plain": [
              "500"
            ]
          },
          "metadata": {
            "tags": []
          },
          "execution_count": 19
        }
      ]
    },
    {
      "cell_type": "code",
      "metadata": {
        "id": "NJIchA2fQ2j8"
      },
      "source": [
        "train_desc =dict()\r\n",
        "test_desc = dict()\r\n",
        "for key in list(features.keys())[:400]:\r\n",
        "    if key in descriptions.keys():\r\n",
        "        train_desc.update({key:descriptions[key]})\r\n",
        "\r\n",
        "for key in list(features.keys())[400:]:\r\n",
        "    if key in descriptions.keys():\r\n",
        "        test_desc.update({key:descriptions[key]})"
      ],
      "execution_count": 22,
      "outputs": []
    },
    {
      "cell_type": "code",
      "metadata": {
        "colab": {
          "base_uri": "https://localhost:8080/"
        },
        "id": "BgKvkuJdRbhS",
        "outputId": "2db544f4-5df1-471b-dfbe-1be92b484782"
      },
      "source": [
        "len(descriptions),len(features),len(train_desc),len(test_desc)"
      ],
      "execution_count": 23,
      "outputs": [
        {
          "output_type": "execute_result",
          "data": {
            "text/plain": [
              "(500, 500, 400, 100)"
            ]
          },
          "metadata": {
            "tags": []
          },
          "execution_count": 23
        }
      ]
    },
    {
      "cell_type": "code",
      "metadata": {
        "colab": {
          "base_uri": "https://localhost:8080/"
        },
        "id": "O0Ch1rBLRdrm",
        "outputId": "806df94a-d68a-4935-84b4-06372b1a8782"
      },
      "source": [
        "list(features.keys())[:2]"
      ],
      "execution_count": 24,
      "outputs": [
        {
          "output_type": "execute_result",
          "data": {
            "text/plain": [
              "['pic_0.jpg', 'pic_1.jpg']"
            ]
          },
          "metadata": {
            "tags": []
          },
          "execution_count": 24
        }
      ]
    },
    {
      "cell_type": "code",
      "metadata": {
        "colab": {
          "base_uri": "https://localhost:8080/"
        },
        "id": "wF7d7Y2QTvip",
        "outputId": "3622c23c-725c-4a05-b17e-2c6d1ec555df"
      },
      "source": [
        "for key in train_desc.keys():\r\n",
        "    if key in test_desc.keys():\r\n",
        "        print(key)\r\n",
        "else:\r\n",
        "     print('all pic are unique in train and test')"
      ],
      "execution_count": 25,
      "outputs": [
        {
          "output_type": "stream",
          "text": [
            "all pic are unique in train and test\n"
          ],
          "name": "stdout"
        }
      ]
    },
    {
      "cell_type": "code",
      "metadata": {
        "id": "JALmFk61UiJm"
      },
      "source": [
        "train_fea =dict()\r\n",
        "test_fea = dict()\r\n",
        "for key in train_desc.keys():\r\n",
        "    if key in features.keys():\r\n",
        "        train_fea.update({key:features[key]})\r\n",
        "\r\n",
        "for key in test_desc.keys():\r\n",
        "    if key in features.keys():\r\n",
        "        test_fea.update({key:features[key]})"
      ],
      "execution_count": 26,
      "outputs": []
    },
    {
      "cell_type": "code",
      "metadata": {
        "colab": {
          "base_uri": "https://localhost:8080/"
        },
        "id": "0UmIAslZVZMk",
        "outputId": "54a32c4e-f699-4aa7-b930-5ae7ee2308b6"
      },
      "source": [
        "for key in train_fea.keys():\r\n",
        "    if key in test_fea.keys():\r\n",
        "        print(key)\r\n",
        "else:\r\n",
        "     print('all pic are unique in train and test')"
      ],
      "execution_count": 27,
      "outputs": [
        {
          "output_type": "stream",
          "text": [
            "all pic are unique in train and test\n"
          ],
          "name": "stdout"
        }
      ]
    },
    {
      "cell_type": "code",
      "metadata": {
        "colab": {
          "base_uri": "https://localhost:8080/",
          "height": 53
        },
        "id": "qQ1S17loVtYO",
        "outputId": "9ce29262-a198-42b7-aa2b-9f1201e4cc4f"
      },
      "source": [
        "train_desc['pic_0.jpg']"
      ],
      "execution_count": 28,
      "outputs": [
        {
          "output_type": "execute_result",
          "data": {
            "application/vnd.google.colaboratory.intrinsic+json": {
              "type": "string"
            },
            "text/plain": [
              "'startseq this stylish foil print kurta from janasya is made of poly crepe and comes in an attractive peach color it features sleeveround neckaline and it is calf length kurta that is suitable for casual occasions team it with matching leggings for chic look endseq'"
            ]
          },
          "metadata": {
            "tags": []
          },
          "execution_count": 28
        }
      ]
    },
    {
      "cell_type": "code",
      "metadata": {
        "colab": {
          "base_uri": "https://localhost:8080/"
        },
        "id": "74aySEh7WHRi",
        "outputId": "58b03148-9a6a-4b5b-f80a-4744381941c6"
      },
      "source": [
        "#convert desc to list and tokennize it\r\n",
        "def to_lines(descriptions):\r\n",
        "    all_desc = list()\r\n",
        "    for key in descriptions.keys():\r\n",
        "        all_desc.append(descriptions[key])\r\n",
        "    return all_desc\r\n",
        " \r\n",
        "# fit a tokenizer given caption descriptions\r\n",
        "def create_tokenizer(descriptions):\r\n",
        "\tlines = to_lines(descriptions)\r\n",
        "\ttokenizer = Tokenizer()\r\n",
        "\ttokenizer.fit_on_texts(lines)\r\n",
        "\treturn tokenizer\r\n",
        " \r\n",
        "# prepare tokenizer\r\n",
        "tokenizer = create_tokenizer(train_desc)\r\n",
        "vocab_size = len(tokenizer.word_index) + 1\r\n",
        "print('Vocabulary Size: %d' % vocab_size)"
      ],
      "execution_count": 29,
      "outputs": [
        {
          "output_type": "stream",
          "text": [
            "Vocabulary Size: 1443\n"
          ],
          "name": "stdout"
        }
      ]
    },
    {
      "cell_type": "code",
      "metadata": {
        "id": "LoxK4_CeauYY"
      },
      "source": [
        "def create_sequences(tokenizer, max_length, descriptions, photos, vocab_size):#tokenizer, max_length, train_desc, train_fea, vocab_size\r\n",
        "\tX1, X2, y = list(), list(), list()\r\n",
        "\t'''X1 = image features X2=desc seq y=next word'''\r\n",
        "\tfor key, desc_list in descriptions.items():\r\n",
        "\t\tfor desc in desc_list:\r\n",
        "\t\t\t# encode the sequence\r\n",
        "\t\t\tseq = tokenizer.texts_to_sequences([desc])[0]\r\n",
        "\t\t\t# split one sequence into multiple X,y pairs\r\n",
        "\t\t\tfor i in range(1, len(seq)):\r\n",
        "\t\t\t\t# split into input and output pair\r\n",
        "\t\t\t\tin_seq, out_seq = seq[:i], seq[i]\r\n",
        "\t\t\t\t# pad input sequence\r\n",
        "\t\t\t\tin_seq = pad_sequences([in_seq], maxlen=max_length)[0]\r\n",
        "\t\t\t\t\r\n",
        "\t\t\t\tout_seq = to_categorical([out_seq], num_classes=vocab_size)[0]\r\n",
        "\r\n",
        "\t\t\t\tX1.append(photos[key][0])\r\n",
        "\t\t\t\tX2.append(in_seq)\r\n",
        "\t\t\t\ty.append(out_seq)\r\n",
        "\treturn array(X1), array(X2), array(y)"
      ],
      "execution_count": 30,
      "outputs": []
    },
    {
      "cell_type": "code",
      "metadata": {
        "id": "gHYgiVpplgAs"
      },
      "source": [
        "def max_length(descriptions):\r\n",
        "\tlines = to_lines(descriptions)\r\n",
        "\treturn max(len(d.split()) for d in lines)\r\n",
        " \r\n",
        "max_len=max_length(train_desc)"
      ],
      "execution_count": 31,
      "outputs": []
    },
    {
      "cell_type": "code",
      "metadata": {
        "id": "Dh5t71zbluHE",
        "colab": {
          "base_uri": "https://localhost:8080/"
        },
        "outputId": "d33b3ab0-af2e-4490-d5ba-a47e0df1d71b"
      },
      "source": [
        "max_len"
      ],
      "execution_count": 32,
      "outputs": [
        {
          "output_type": "execute_result",
          "data": {
            "text/plain": [
              "83"
            ]
          },
          "metadata": {
            "tags": []
          },
          "execution_count": 32
        }
      ]
    },
    {
      "cell_type": "code",
      "metadata": {
        "colab": {
          "base_uri": "https://localhost:8080/"
        },
        "id": "GDELnF3ndDz0",
        "outputId": "d6bed3d5-0856-4248-9471-0396b544c8ef"
      },
      "source": [
        "train_fea['pic_0.jpg'].shape"
      ],
      "execution_count": 34,
      "outputs": [
        {
          "output_type": "execute_result",
          "data": {
            "text/plain": [
              "(1, 4096)"
            ]
          },
          "metadata": {
            "tags": []
          },
          "execution_count": 34
        }
      ]
    },
    {
      "cell_type": "code",
      "metadata": {
        "id": "I-dnUV8jdveD"
      },
      "source": [
        "def define_model(vocab_size, max_length):\r\n",
        "\t# feature extractor model\r\n",
        "\tinputs1 = Input(shape=(4096,))\r\n",
        "\tfe1 = Dropout(0.5)(inputs1)\r\n",
        "\tfe2 = Dense(256, activation='relu')(fe1)\r\n",
        "\t# sequence model\r\n",
        "\tinputs2 = Input(shape=(max_length,))\r\n",
        "\tse1 = Embedding(vocab_size, 256, mask_zero=True)(inputs2)\r\n",
        "\tse2 = Dropout(0.5)(se1)\r\n",
        "\tse3 = LSTM(256)(se2)\r\n",
        "\t# decoder model\r\n",
        "\tdecoder1 = add([fe2, se3])\r\n",
        "\tdecoder2 = Dense(256, activation='relu')(decoder1)\r\n",
        "\toutputs = Dense(vocab_size, activation='softmax')(decoder2)\r\n",
        "\t# tie it together [image, seq] [word]\r\n",
        "\tmodel = Model(inputs=[inputs1, inputs2], outputs=outputs)\r\n",
        "\tmodel.compile(loss='categorical_crossentropy', optimizer='adam')\r\n",
        "\t# summarize model\r\n",
        "\tprint(model.summary())\r\n",
        "\tplot_model(model, to_file='model.png', show_shapes=True)\r\n",
        "\treturn model"
      ],
      "execution_count": 35,
      "outputs": []
    },
    {
      "cell_type": "code",
      "metadata": {
        "id": "Dns0QpHgfLTc"
      },
      "source": [
        "X1train, X2train, ytrain = create_sequences(tokenizer, max_length, train_desc, train_fea, vocab_size)"
      ],
      "execution_count": 38,
      "outputs": []
    },
    {
      "cell_type": "code",
      "metadata": {
        "colab": {
          "base_uri": "https://localhost:8080/"
        },
        "id": "jlwgP1eJjoQZ",
        "outputId": "f5d98c2f-c7b6-4361-b18b-802d2a5ec8ee"
      },
      "source": [
        "X1train.shape"
      ],
      "execution_count": 40,
      "outputs": [
        {
          "output_type": "execute_result",
          "data": {
            "text/plain": [
              "(0,)"
            ]
          },
          "metadata": {
            "tags": []
          },
          "execution_count": 40
        }
      ]
    },
    {
      "cell_type": "code",
      "metadata": {
        "id": "oilpAqUzfV3U"
      },
      "source": [
        "X1test, X2test, ytest = create_sequences(tokenizer, max_length, test_desc, test_fea, vocab_size)"
      ],
      "execution_count": null,
      "outputs": []
    },
    {
      "cell_type": "code",
      "metadata": {
        "colab": {
          "base_uri": "https://localhost:8080/"
        },
        "id": "Appk4SlTfcF4",
        "outputId": "e2827461-166f-4975-f84f-837fb4cd1919"
      },
      "source": [
        "model = define_model(vocab_size, max_length)"
      ],
      "execution_count": null,
      "outputs": [
        {
          "output_type": "stream",
          "text": [
            "Model: \"model_1\"\n",
            "__________________________________________________________________________________________________\n",
            "Layer (type)                    Output Shape         Param #     Connected to                     \n",
            "==================================================================================================\n",
            "input_3 (InputLayer)            [(None, 83)]         0                                            \n",
            "__________________________________________________________________________________________________\n",
            "input_2 (InputLayer)            [(None, 4096)]       0                                            \n",
            "__________________________________________________________________________________________________\n",
            "embedding (Embedding)           (None, 83, 256)      369408      input_3[0][0]                    \n",
            "__________________________________________________________________________________________________\n",
            "dropout (Dropout)               (None, 4096)         0           input_2[0][0]                    \n",
            "__________________________________________________________________________________________________\n",
            "dropout_1 (Dropout)             (None, 83, 256)      0           embedding[0][0]                  \n",
            "__________________________________________________________________________________________________\n",
            "dense (Dense)                   (None, 256)          1048832     dropout[0][0]                    \n",
            "__________________________________________________________________________________________________\n",
            "lstm (LSTM)                     (None, 256)          525312      dropout_1[0][0]                  \n",
            "__________________________________________________________________________________________________\n",
            "add (Add)                       (None, 256)          0           dense[0][0]                      \n",
            "                                                                 lstm[0][0]                       \n",
            "__________________________________________________________________________________________________\n",
            "dense_1 (Dense)                 (None, 256)          65792       add[0][0]                        \n",
            "__________________________________________________________________________________________________\n",
            "dense_2 (Dense)                 (None, 1443)         370851      dense_1[0][0]                    \n",
            "==================================================================================================\n",
            "Total params: 2,380,195\n",
            "Trainable params: 2,380,195\n",
            "Non-trainable params: 0\n",
            "__________________________________________________________________________________________________\n",
            "None\n"
          ],
          "name": "stdout"
        }
      ]
    },
    {
      "cell_type": "code",
      "metadata": {
        "id": "ZFXAZSUife9i"
      },
      "source": [
        "#monitor the minimum loss on the validation dataset and save the model to a file\r\n",
        "filepath = 'model-ep{epoch:03d}-loss{loss:.3f}-val_loss{val_loss:.3f}.h5'\r\n",
        "checkpoint = ModelCheckpoint(filepath, monitor='val_loss', verbose=1, save_best_only=True, mode='min')"
      ],
      "execution_count": null,
      "outputs": []
    },
    {
      "cell_type": "code",
      "metadata": {
        "colab": {
          "base_uri": "https://localhost:8080/",
          "height": 327
        },
        "id": "gxgrwqtFf8jt",
        "outputId": "2e339375-235d-43a5-e98e-e8b81b4d37b3"
      },
      "source": [
        "model.fit([X1train, X2train], ytrain, epochs=20, verbose=2, callbacks=[checkpoint], validation_data=([X1test, X2test], ytest))"
      ],
      "execution_count": null,
      "outputs": [
        {
          "output_type": "stream",
          "text": [
            "Epoch 1/20\n"
          ],
          "name": "stdout"
        },
        {
          "output_type": "error",
          "ename": "ValueError",
          "evalue": "ignored",
          "traceback": [
            "\u001b[0;31m---------------------------------------------------------------------------\u001b[0m",
            "\u001b[0;31mValueError\u001b[0m                                Traceback (most recent call last)",
            "\u001b[0;32m<ipython-input-141-ac52e28c47e6>\u001b[0m in \u001b[0;36m<module>\u001b[0;34m()\u001b[0m\n\u001b[0;32m----> 1\u001b[0;31m \u001b[0mmodel\u001b[0m\u001b[0;34m.\u001b[0m\u001b[0mfit\u001b[0m\u001b[0;34m(\u001b[0m\u001b[0;34m[\u001b[0m\u001b[0mX1train\u001b[0m\u001b[0;34m,\u001b[0m \u001b[0mX2train\u001b[0m\u001b[0;34m]\u001b[0m\u001b[0;34m,\u001b[0m \u001b[0mytrain\u001b[0m\u001b[0;34m,\u001b[0m \u001b[0mepochs\u001b[0m\u001b[0;34m=\u001b[0m\u001b[0;36m20\u001b[0m\u001b[0;34m,\u001b[0m \u001b[0mverbose\u001b[0m\u001b[0;34m=\u001b[0m\u001b[0;36m2\u001b[0m\u001b[0;34m,\u001b[0m \u001b[0mcallbacks\u001b[0m\u001b[0;34m=\u001b[0m\u001b[0;34m[\u001b[0m\u001b[0mcheckpoint\u001b[0m\u001b[0;34m]\u001b[0m\u001b[0;34m,\u001b[0m \u001b[0mvalidation_data\u001b[0m\u001b[0;34m=\u001b[0m\u001b[0;34m(\u001b[0m\u001b[0;34m[\u001b[0m\u001b[0mX1test\u001b[0m\u001b[0;34m,\u001b[0m \u001b[0mX2test\u001b[0m\u001b[0;34m]\u001b[0m\u001b[0;34m,\u001b[0m \u001b[0mytest\u001b[0m\u001b[0;34m)\u001b[0m\u001b[0;34m)\u001b[0m\u001b[0;34m\u001b[0m\u001b[0;34m\u001b[0m\u001b[0m\n\u001b[0m",
            "\u001b[0;32m/usr/local/lib/python3.6/dist-packages/tensorflow/python/keras/engine/training.py\u001b[0m in \u001b[0;36mfit\u001b[0;34m(self, x, y, batch_size, epochs, verbose, callbacks, validation_split, validation_data, shuffle, class_weight, sample_weight, initial_epoch, steps_per_epoch, validation_steps, validation_batch_size, validation_freq, max_queue_size, workers, use_multiprocessing)\u001b[0m\n\u001b[1;32m   1108\u001b[0m \u001b[0;34m\u001b[0m\u001b[0m\n\u001b[1;32m   1109\u001b[0m         \u001b[0;32mif\u001b[0m \u001b[0mlogs\u001b[0m \u001b[0;32mis\u001b[0m \u001b[0;32mNone\u001b[0m\u001b[0;34m:\u001b[0m\u001b[0;34m\u001b[0m\u001b[0;34m\u001b[0m\u001b[0m\n\u001b[0;32m-> 1110\u001b[0;31m           \u001b[0;32mraise\u001b[0m \u001b[0mValueError\u001b[0m\u001b[0;34m(\u001b[0m\u001b[0;34m'Expect x to be a non-empty array or dataset.'\u001b[0m\u001b[0;34m)\u001b[0m\u001b[0;34m\u001b[0m\u001b[0;34m\u001b[0m\u001b[0m\n\u001b[0m\u001b[1;32m   1111\u001b[0m         \u001b[0mepoch_logs\u001b[0m \u001b[0;34m=\u001b[0m \u001b[0mcopy\u001b[0m\u001b[0;34m.\u001b[0m\u001b[0mcopy\u001b[0m\u001b[0;34m(\u001b[0m\u001b[0mlogs\u001b[0m\u001b[0;34m)\u001b[0m\u001b[0;34m\u001b[0m\u001b[0;34m\u001b[0m\u001b[0m\n\u001b[1;32m   1112\u001b[0m \u001b[0;34m\u001b[0m\u001b[0m\n",
            "\u001b[0;31mValueError\u001b[0m: Expect x to be a non-empty array or dataset."
          ]
        }
      ]
    },
    {
      "cell_type": "code",
      "metadata": {
        "id": "0qumk72ega29"
      },
      "source": [
        ""
      ],
      "execution_count": null,
      "outputs": []
    }
  ]
}