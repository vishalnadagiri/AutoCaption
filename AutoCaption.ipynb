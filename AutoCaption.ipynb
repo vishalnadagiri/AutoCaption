{
  "nbformat": 4,
  "nbformat_minor": 0,
  "metadata": {
    "kernelspec": {
      "display_name": "Python 3",
      "language": "python",
      "name": "python3"
    },
    "language_info": {
      "codemirror_mode": {
        "name": "ipython",
        "version": 3
      },
      "file_extension": ".py",
      "mimetype": "text/x-python",
      "name": "python",
      "nbconvert_exporter": "python",
      "pygments_lexer": "ipython3",
      "version": "3.6.7"
    },
    "colab": {
      "name": "AutoCaption.ipynb",
      "provenance": [],
      "include_colab_link": true
    },
    "accelerator": "GPU"
  },
  "cells": [
    {
      "cell_type": "markdown",
      "metadata": {
        "id": "view-in-github",
        "colab_type": "text"
      },
      "source": [
        "<a href=\"https://colab.research.google.com/github/vishalnadagiri/AutoCaption/blob/main/AutoCaption.ipynb\" target=\"_parent\"><img src=\"https://colab.research.google.com/assets/colab-badge.svg\" alt=\"Open In Colab\"/></a>"
      ]
    },
    {
      "cell_type": "code",
      "metadata": {
        "colab": {
          "base_uri": "https://localhost:8080/"
        },
        "id": "uJpqiF11NAiC",
        "outputId": "3c439d8f-2b7b-4691-c671-94dd5d2928d4"
      },
      "source": [
        "!gdown --id  1L0cucNw4dfjNw_8Lx1YsUAMrBp46evJo"
      ],
      "execution_count": null,
      "outputs": [
        {
          "output_type": "stream",
          "text": [
            "Downloading...\n",
            "From: https://drive.google.com/uc?id=1L0cucNw4dfjNw_8Lx1YsUAMrBp46evJo\n",
            "To: /content/drive-download-20201227T104425Z-001.zip\n",
            "120MB [00:01, 91.1MB/s]\n"
          ],
          "name": "stdout"
        }
      ]
    },
    {
      "cell_type": "code",
      "metadata": {
        "id": "y8N41T5vQSni"
      },
      "source": [
        "!mv /content/drive-download-20201227T104425Z-001.zip /content/drive/MyDrive/"
      ],
      "execution_count": null,
      "outputs": []
    },
    {
      "cell_type": "code",
      "metadata": {
        "colab": {
          "base_uri": "https://localhost:8080/"
        },
        "id": "VaOMf9XGjlTn",
        "outputId": "94de8cd8-24d1-4ca3-e858-5e31074e41f8"
      },
      "source": [
        "!unzip /content/drive/MyDrive/AutoCaption/drive-download-20201227T104425Z-001.zip -d /content/drive/MyDrive/AutoCaption/"
      ],
      "execution_count": null,
      "outputs": [
        {
          "output_type": "stream",
          "text": [
            "Archive:  /content/drive/MyDrive/AutoCaption/drive-download-20201227T104425Z-001.zip\n",
            "  inflating: /content/drive/MyDrive/AutoCaption/dataset(1).xlsx  \n",
            "  inflating: /content/drive/MyDrive/AutoCaption/Assignment Submission/Project Github link.pdf  \n",
            "  inflating: /content/drive/MyDrive/AutoCaption/dataset.xlsx  \n",
            "  inflating: /content/drive/MyDrive/AutoCaption/Assignment Submission/Image_Description_using_ai.ipynb  \n",
            "  inflating: /content/drive/MyDrive/AutoCaption/Assignment Submission/Predict_MaterialPatternsandNeckline.ipynb  \n",
            "  inflating: /content/drive/MyDrive/AutoCaption/Assignment Submission/Image_Description_using_ai.pdf  \n",
            "  inflating: /content/drive/MyDrive/AutoCaption/assignment.docx  \n",
            "  inflating: /content/drive/MyDrive/AutoCaption/Assignment Submission/Predict_MaterialPatternsandNeckline.pdf  \n",
            "  inflating: /content/drive/MyDrive/AutoCaption/images.zip  \n"
          ],
          "name": "stdout"
        }
      ]
    },
    {
      "cell_type": "code",
      "metadata": {
        "id": "Bl9DQu9hkeSH"
      },
      "source": [
        "!unzip /content/drive/MyDrive/AutoCaption/images.zip -d /content/drive/MyDrive/AutoCaption/"
      ],
      "execution_count": null,
      "outputs": []
    },
    {
      "cell_type": "code",
      "metadata": {
        "id": "h28uPFh3RZwR"
      },
      "source": [
        "!cd /content/drive/MyDrive/AutoCaption/"
      ],
      "execution_count": null,
      "outputs": []
    },
    {
      "cell_type": "code",
      "metadata": {
        "colab": {
          "base_uri": "https://localhost:8080/"
        },
        "id": "3QmGil8OlWvd",
        "outputId": "56374a2d-2835-4a50-ee4c-67b01e2dba19"
      },
      "source": [
        "!ls\r\n"
      ],
      "execution_count": null,
      "outputs": [
        {
          "output_type": "stream",
          "text": [
            "drive  sample_data\n"
          ],
          "name": "stdout"
        }
      ]
    },
    {
      "cell_type": "code",
      "metadata": {
        "id": "pk0qwVrAlZFV"
      },
      "source": [
        "!cd /content/drive/MyDrive/"
      ],
      "execution_count": null,
      "outputs": []
    },
    {
      "cell_type": "code",
      "metadata": {
        "colab": {
          "base_uri": "https://localhost:8080/"
        },
        "id": "iKaAqcoAlvH9",
        "outputId": "d9ec1485-6ac9-4fe4-c6d2-6e38a21bab65"
      },
      "source": [
        "ls"
      ],
      "execution_count": null,
      "outputs": [
        {
          "output_type": "stream",
          "text": [
            "\u001b[0m\u001b[01;34mdrive\u001b[0m/  \u001b[01;34msample_data\u001b[0m/\n"
          ],
          "name": "stdout"
        }
      ]
    },
    {
      "cell_type": "code",
      "metadata": {
        "colab": {
          "base_uri": "https://localhost:8080/"
        },
        "id": "XCmT0BfMRry_",
        "outputId": "1cad0e8b-4d79-486c-df6c-2982382a402f"
      },
      "source": [
        "!pwd"
      ],
      "execution_count": null,
      "outputs": [
        {
          "output_type": "stream",
          "text": [
            "/content\n"
          ],
          "name": "stdout"
        }
      ]
    },
    {
      "cell_type": "code",
      "metadata": {
        "colab": {
          "base_uri": "https://localhost:8080/"
        },
        "id": "AZvgNg2fQX1e",
        "outputId": "3983b3f4-e5bc-4480-96d4-af4dc84853f2"
      },
      "source": [
        "from google.colab import drive\n",
        "drive.mount('/content/drive')"
      ],
      "execution_count": 1,
      "outputs": [
        {
          "output_type": "stream",
          "text": [
            "Drive already mounted at /content/drive; to attempt to forcibly remount, call drive.mount(\"/content/drive\", force_remount=True).\n"
          ],
          "name": "stdout"
        }
      ]
    },
    {
      "cell_type": "code",
      "metadata": {
        "id": "_LPgh2kqXEUM"
      },
      "source": [
        "# from keras.applications.vgg16 import VGG16, preprocess_input, decode_predictions\r\n",
        "from keras.utils.vis_utils import plot_model\r\n",
        "from keras.preprocessing.image import load_img, img_to_array, array_to_img, ImageDataGenerator\r\n",
        "\r\n",
        "from keras.layers import Conv2D, MaxPooling2D, Flatten, Dense, Dropout\r\n",
        "from tensorflow.keras.utils import to_categorical\r\n",
        "from keras.models import Sequential, Model\r\n",
        "from keras.applications import vgg16\r\n",
        "# from keras.models import Model\r\n",
        "import keras\r\n",
        "from keras import optimizers\r\n",
        "\r\n",
        "from sklearn.model_selection import train_test_split\r\n",
        "from sklearn.preprocessing import LabelEncoder\r\n",
        "\r\n",
        "import pandas as pd\r\n",
        "import numpy as np\r\n",
        "import glob\r\n",
        "import re\r\n",
        "\r\n",
        "# plot_model(model, to_file='vgg.png')\r\n",
        "\r\n",
        "# model = VGG16()\r\n",
        "# print(model.summary())\r\n"
      ],
      "execution_count": 2,
      "outputs": []
    },
    {
      "cell_type": "code",
      "metadata": {
        "id": "cqUWEwwSxyad"
      },
      "source": [
        "csv_path = f\"/content/drive/MyDrive/AutoCaption/extracted/dataset.xlsx\"\r\n",
        "imag_path = f\"/content/drive/MyDrive/AutoCaption/extracted/images/images/\" \r\n",
        "df = pd.read_excel(csv_path)\r\n",
        "img_files = (glob.glob(imag_path+'*'))"
      ],
      "execution_count": 3,
      "outputs": []
    },
    {
      "cell_type": "code",
      "metadata": {
        "colab": {
          "base_uri": "https://localhost:8080/"
        },
        "id": "92Rs3xc1fTmp",
        "outputId": "654e3e54-be03-4645-bc7d-88a128fd0d71"
      },
      "source": [
        "len(img_files)"
      ],
      "execution_count": 4,
      "outputs": [
        {
          "output_type": "execute_result",
          "data": {
            "text/plain": [
              "500"
            ]
          },
          "metadata": {
            "tags": []
          },
          "execution_count": 4
        }
      ]
    },
    {
      "cell_type": "code",
      "metadata": {
        "id": "pkI_1R4SnxEe"
      },
      "source": [
        "img_files.sort(key=lambda f: int(re.sub('\\D', '', f)))"
      ],
      "execution_count": 5,
      "outputs": []
    },
    {
      "cell_type": "code",
      "metadata": {
        "colab": {
          "base_uri": "https://localhost:8080/"
        },
        "id": "FNRVS8FioL1T",
        "outputId": "a4a0c120-8436-43e1-8d14-07cb43e5eb94"
      },
      "source": [
        "img_files[100:110]"
      ],
      "execution_count": 6,
      "outputs": [
        {
          "output_type": "execute_result",
          "data": {
            "text/plain": [
              "['/content/drive/MyDrive/AutoCaption/extracted/images/images/pic_100.jpg',\n",
              " '/content/drive/MyDrive/AutoCaption/extracted/images/images/pic_101.jpg',\n",
              " '/content/drive/MyDrive/AutoCaption/extracted/images/images/pic_102.jpg',\n",
              " '/content/drive/MyDrive/AutoCaption/extracted/images/images/pic_103.jpg',\n",
              " '/content/drive/MyDrive/AutoCaption/extracted/images/images/pic_104.jpg',\n",
              " '/content/drive/MyDrive/AutoCaption/extracted/images/images/pic_105.jpg',\n",
              " '/content/drive/MyDrive/AutoCaption/extracted/images/images/pic_106.jpg',\n",
              " '/content/drive/MyDrive/AutoCaption/extracted/images/images/pic_107.jpg',\n",
              " '/content/drive/MyDrive/AutoCaption/extracted/images/images/pic_108.jpg',\n",
              " '/content/drive/MyDrive/AutoCaption/extracted/images/images/pic_109.jpg']"
            ]
          },
          "metadata": {
            "tags": []
          },
          "execution_count": 6
        }
      ]
    },
    {
      "cell_type": "code",
      "metadata": {
        "id": "bI8QBmXuo7Zq"
      },
      "source": [
        "def prep_img(img_):\r\n",
        "    image = load_img(img_, target_size=(250, 250),grayscale=False, color_mode='rgb')\r\n",
        "    image = img_to_array(image)\r\n",
        "    # print(image.shape)\r\n",
        "#     image = image.reshape((1, image.shape[0], image.shape[1], image.shape[2]))\r\n",
        "    image = preprocess_input(image)\r\n",
        "    return image"
      ],
      "execution_count": 7,
      "outputs": []
    },
    {
      "cell_type": "code",
      "metadata": {
        "id": "DWm-837LpGW-"
      },
      "source": [
        "all_data = [img_to_array(load_img(img, target_size=(250, 250))) for img in img_files]\r\n",
        "all_data = np.array(all_data)\r\n",
        "all_imgs_scaled = all_data.astype('float32')\r\n",
        "all_imgs_scaled /= 255"
      ],
      "execution_count": 8,
      "outputs": []
    },
    {
      "cell_type": "code",
      "metadata": {
        "colab": {
          "base_uri": "https://localhost:8080/"
        },
        "id": "Q11VnHjPpILI",
        "outputId": "e7303cc1-b6ae-4973-9778-81949c8d0423"
      },
      "source": [
        "all_data.shape"
      ],
      "execution_count": 9,
      "outputs": [
        {
          "output_type": "execute_result",
          "data": {
            "text/plain": [
              "(500, 250, 250, 3)"
            ]
          },
          "metadata": {
            "tags": []
          },
          "execution_count": 9
        }
      ]
    },
    {
      "cell_type": "code",
      "metadata": {
        "id": "_gTKqKgqpUeO"
      },
      "source": [
        "all_labels = df.Pattern\r\n",
        "le = LabelEncoder()\r\n",
        "le.fit(all_labels)\r\n",
        "all_labels_enc = le.transform(all_labels)\r\n",
        "all_labels_enc = to_categorical(all_labels_enc)"
      ],
      "execution_count": 10,
      "outputs": []
    },
    {
      "cell_type": "code",
      "metadata": {
        "id": "Jzp_m1qHpYMb"
      },
      "source": [
        "X_train, X_test, y_train, y_test = train_test_split(all_imgs_scaled, all_labels_enc, test_size=0.2, random_state=42)"
      ],
      "execution_count": 11,
      "outputs": []
    },
    {
      "cell_type": "code",
      "metadata": {
        "colab": {
          "base_uri": "https://localhost:8080/"
        },
        "id": "xCka-t9kphU0",
        "outputId": "ba1d0d00-6a6b-4a12-a041-1e2502eb8eca"
      },
      "source": [
        "y_train.shape , y_test.shape"
      ],
      "execution_count": 12,
      "outputs": [
        {
          "output_type": "execute_result",
          "data": {
            "text/plain": [
              "((400, 18), (100, 18))"
            ]
          },
          "metadata": {
            "tags": []
          },
          "execution_count": 12
        }
      ]
    },
    {
      "cell_type": "code",
      "metadata": {
        "id": "tegtlI_rBGqY"
      },
      "source": [
        "input_shape = (250,250,3)"
      ],
      "execution_count": 13,
      "outputs": []
    },
    {
      "cell_type": "code",
      "metadata": {
        "id": "De-8v9ydpkdM"
      },
      "source": [
        "#run these sells\r\n",
        "model = Sequential()\r\n",
        "\r\n",
        "model.add(Conv2D(filters=32, kernel_size=(3,3), activation='relu',padding=\"same\", input_shape=input_shape))\r\n",
        "model.add(Conv2D(filters=32,kernel_size=(3,3),padding=\"same\", activation=\"relu\"))\r\n",
        "\r\n",
        "model.add(Conv2D(filters=64, kernel_size=(3,3), padding=\"same\", activation=\"relu\"))\r\n",
        "model.add(Conv2D(filters=64, kernel_size=(3,3), padding=\"same\", activation=\"relu\"))\r\n",
        "\r\n",
        "model.add(Flatten())\r\n",
        "model.add(Dense(units=128,activation=\"relu\"))#changed units to 256 because of resource exhaust\r\n",
        "model.add(Dense(18, activation='softmax'))"
      ],
      "execution_count": 14,
      "outputs": []
    },
    {
      "cell_type": "code",
      "metadata": {
        "id": "kI0bSrFEpq8X"
      },
      "source": [
        "model.compile(optimizer='adam', loss='categorical_crossentropy', metrics=['accuracy'])"
      ],
      "execution_count": 15,
      "outputs": []
    },
    {
      "cell_type": "code",
      "metadata": {
        "colab": {
          "base_uri": "https://localhost:8080/"
        },
        "id": "mh1OufHgq0hP",
        "outputId": "0417f1a0-8157-4ce4-9b09-20745ffb7e1f"
      },
      "source": [
        "history = model.fit(X_train, y_train, validation_data=(X_test, y_test), epochs=20)"
      ],
      "execution_count": 16,
      "outputs": [
        {
          "output_type": "stream",
          "text": [
            "Epoch 1/20\n",
            "13/13 [==============================] - 11s 527ms/step - loss: 66.3722 - accuracy: 0.2156 - val_loss: 2.3814 - val_accuracy: 0.4100\n",
            "Epoch 2/20\n",
            "13/13 [==============================] - 5s 386ms/step - loss: 2.2154 - accuracy: 0.4114 - val_loss: 2.4186 - val_accuracy: 0.4100\n",
            "Epoch 3/20\n",
            "13/13 [==============================] - 5s 386ms/step - loss: 2.2676 - accuracy: 0.3916 - val_loss: 2.3973 - val_accuracy: 0.3300\n",
            "Epoch 4/20\n",
            "13/13 [==============================] - 5s 388ms/step - loss: 1.9449 - accuracy: 0.4381 - val_loss: 2.1431 - val_accuracy: 0.4200\n",
            "Epoch 5/20\n",
            "13/13 [==============================] - 5s 390ms/step - loss: 1.8203 - accuracy: 0.4339 - val_loss: 2.0916 - val_accuracy: 0.4000\n",
            "Epoch 6/20\n",
            "13/13 [==============================] - 5s 392ms/step - loss: 1.4710 - accuracy: 0.5636 - val_loss: 2.1433 - val_accuracy: 0.3900\n",
            "Epoch 7/20\n",
            "13/13 [==============================] - 5s 391ms/step - loss: 0.9357 - accuracy: 0.6991 - val_loss: 2.9629 - val_accuracy: 0.3800\n",
            "Epoch 8/20\n",
            "13/13 [==============================] - 5s 391ms/step - loss: 0.3935 - accuracy: 0.9008 - val_loss: 3.6570 - val_accuracy: 0.3900\n",
            "Epoch 9/20\n",
            "13/13 [==============================] - 5s 393ms/step - loss: 0.0908 - accuracy: 0.9712 - val_loss: 4.9463 - val_accuracy: 0.3200\n",
            "Epoch 10/20\n",
            "13/13 [==============================] - 5s 394ms/step - loss: 0.0336 - accuracy: 0.9950 - val_loss: 8.3128 - val_accuracy: 0.3300\n",
            "Epoch 11/20\n",
            "13/13 [==============================] - 5s 402ms/step - loss: 0.0502 - accuracy: 0.9929 - val_loss: 4.4886 - val_accuracy: 0.3100\n",
            "Epoch 12/20\n",
            "13/13 [==============================] - 5s 397ms/step - loss: 0.0390 - accuracy: 0.9967 - val_loss: 7.8992 - val_accuracy: 0.4100\n",
            "Epoch 13/20\n",
            "13/13 [==============================] - 5s 399ms/step - loss: 0.0038 - accuracy: 1.0000 - val_loss: 8.5501 - val_accuracy: 0.4000\n",
            "Epoch 14/20\n",
            "13/13 [==============================] - 5s 399ms/step - loss: 6.6684e-04 - accuracy: 1.0000 - val_loss: 9.0329 - val_accuracy: 0.3900\n",
            "Epoch 15/20\n",
            "13/13 [==============================] - 5s 402ms/step - loss: 1.5537e-04 - accuracy: 1.0000 - val_loss: 9.9756 - val_accuracy: 0.3400\n",
            "Epoch 16/20\n",
            "13/13 [==============================] - 5s 403ms/step - loss: 1.2903e-04 - accuracy: 1.0000 - val_loss: 10.0924 - val_accuracy: 0.3400\n",
            "Epoch 17/20\n",
            "13/13 [==============================] - 5s 405ms/step - loss: 5.5496e-05 - accuracy: 1.0000 - val_loss: 10.1317 - val_accuracy: 0.3700\n",
            "Epoch 18/20\n",
            "13/13 [==============================] - 5s 409ms/step - loss: 3.8582e-05 - accuracy: 1.0000 - val_loss: 10.2291 - val_accuracy: 0.3600\n",
            "Epoch 19/20\n",
            "13/13 [==============================] - 5s 411ms/step - loss: 5.4638e-05 - accuracy: 1.0000 - val_loss: 10.3522 - val_accuracy: 0.3600\n",
            "Epoch 20/20\n",
            "13/13 [==============================] - 5s 407ms/step - loss: 2.7410e-05 - accuracy: 1.0000 - val_loss: 10.4602 - val_accuracy: 0.3600\n"
          ],
          "name": "stdout"
        }
      ]
    },
    {
      "cell_type": "code",
      "metadata": {
        "colab": {
          "base_uri": "https://localhost:8080/"
        },
        "id": "FDP9K4Skn9Ek",
        "outputId": "849e9ff6-1f9b-4647-b74f-92b37ad539b7"
      },
      "source": [
        "history_dict = history.history\r\n",
        "print(history_dict.keys())"
      ],
      "execution_count": 17,
      "outputs": [
        {
          "output_type": "stream",
          "text": [
            "dict_keys(['loss', 'accuracy', 'val_loss', 'val_accuracy'])\n"
          ],
          "name": "stdout"
        }
      ]
    },
    {
      "cell_type": "code",
      "metadata": {
        "colab": {
          "base_uri": "https://localhost:8080/",
          "height": 307
        },
        "id": "9QEb59XVq_i-",
        "outputId": "2e1dd6f4-421f-42f5-9d47-797c5e7eafb1"
      },
      "source": [
        "import matplotlib.pyplot as plt\r\n",
        "\r\n",
        "f, (ax1, ax2) = plt.subplots(1, 2, figsize=(12, 4))\r\n",
        "t = f.suptitle('Basic CNN Performance', fontsize=12)\r\n",
        "f.subplots_adjust(top=0.85, wspace=0.3)\r\n",
        "\r\n",
        "epoch_list = list(range(1,21))\r\n",
        "ax1.plot(epoch_list, history.history['accuracy'], label='Train Accuracy')\r\n",
        "ax1.plot(epoch_list, history.history['val_accuracy'], label='Validation Accuracy')\r\n",
        "ax1.set_xticks(np.arange(0, 21, 5))\r\n",
        "ax1.set_ylabel('Accuracy Value')\r\n",
        "ax1.set_xlabel('Epoch')\r\n",
        "ax1.set_title('Accuracy')\r\n",
        "l1 = ax1.legend(loc=\"best\")\r\n",
        "\r\n",
        "ax2.plot(epoch_list, history.history['loss'], label='Train Loss')\r\n",
        "ax2.plot(epoch_list, history.history['val_loss'], label='Validation Loss')\r\n",
        "ax2.set_xticks(np.arange(0, 21, 5))\r\n",
        "ax2.set_ylabel('Loss Value')\r\n",
        "ax2.set_xlabel('Epoch')\r\n",
        "ax2.set_title('Loss')\r\n",
        "l2 = ax2.legend(loc=\"best\")"
      ],
      "execution_count": 18,
      "outputs": [
        {
          "output_type": "display_data",
          "data": {
            "image/png": "[encoded data removed]",
            "text/plain": [
              "<Figure size 864x288 with 2 Axes>"
            ]
          },
          "metadata": {
            "tags": [],
            "needs_background": "light"
          }
        }
      ]
    },
    {
      "cell_type": "code",
      "metadata": {
        "colab": {
          "base_uri": "https://localhost:8080/"
        },
        "id": "EISly90GPFrH",
        "outputId": "253dae8d-bd90-4075-ffea-41ee45abb860"
      },
      "source": [
        "def get_acc(history):\r\n",
        "    train_max_acc = max(history.history['accuracy'])\r\n",
        "    test_max_acc = max(history.history['val_accuracy'])\r\n",
        "\r\n",
        "    print('Train maximam accuracy achived is ',train_max_acc)\r\n",
        "    print('Test maximam accuracy achived is ',test_max_acc)\r\n",
        "\r\n",
        "get_acc(history)"
      ],
      "execution_count": 19,
      "outputs": [
        {
          "output_type": "stream",
          "text": [
            "Train maximam accuracy achived is  1.0\n",
            "Test maximam accuracy achived is  0.41999998688697815\n"
          ],
          "name": "stdout"
        }
      ]
    },
    {
      "cell_type": "markdown",
      "metadata": {
        "id": "AJEczVWQpgXU"
      },
      "source": [
        "You can clearly see that after 9–12 epochs the model starts overfitting on the training data. The average accuracy we get in our validation set is around 42%"
      ]
    },
    {
      "cell_type": "markdown",
      "metadata": {
        "id": "WyjLkaPKp_xG"
      },
      "source": [
        "## Try CNN Model with Regularization"
      ]
    },
    {
      "cell_type": "code",
      "metadata": {
        "id": "8Zx-8L9Tp-TG"
      },
      "source": [
        "model_reg = Sequential()\r\n",
        "\r\n",
        "model_reg.add(Conv2D(16, kernel_size=(3, 3), activation='relu', \r\n",
        "                 input_shape=(250,250,3)))\r\n",
        "model_reg.add(MaxPooling2D(pool_size=(2, 2)))\r\n",
        "\r\n",
        "model_reg.add(Conv2D(64, kernel_size=(3, 3), activation='relu'))\r\n",
        "model_reg.add(MaxPooling2D(pool_size=(2, 2)))\r\n",
        "\r\n",
        "model_reg.add(Conv2D(128, kernel_size=(3, 3), activation='relu'))\r\n",
        "model_reg.add(MaxPooling2D(pool_size=(2, 2)))\r\n",
        "\r\n",
        "model_reg.add(Conv2D(128, kernel_size=(3, 3), activation='relu'))\r\n",
        "model_reg.add(MaxPooling2D(pool_size=(2, 2)))\r\n",
        "\r\n",
        "model_reg.add(Flatten())\r\n",
        "#adding two desnse layers with dropout to mask the 30% of the units\r\n",
        "model_reg.add(Dense(512, activation='relu'))\r\n",
        "model_reg.add(Dropout(0.3))\r\n",
        "model_reg.add(Dense(512, activation='relu'))\r\n",
        "model_reg.add(Dropout(0.3))\r\n",
        "model_reg.add(Dense(18, activation='softmax'))#using sigmoid at output layer"
      ],
      "execution_count": 20,
      "outputs": []
    },
    {
      "cell_type": "code",
      "metadata": {
        "id": "a8Da26uZtjNa"
      },
      "source": [
        "model_reg.compile(optimizer='adam', loss='categorical_crossentropy', metrics=['accuracy'])\r\n"
      ],
      "execution_count": 21,
      "outputs": []
    },
    {
      "cell_type": "code",
      "metadata": {
        "colab": {
          "base_uri": "https://localhost:8080/"
        },
        "id": "GKYAhf25q1PM",
        "outputId": "7a23517f-ad31-48b0-990a-674182714f75"
      },
      "source": [
        "model_reg.summary()"
      ],
      "execution_count": 22,
      "outputs": [
        {
          "output_type": "stream",
          "text": [
            "Model: \"sequential_1\"\n",
            "_________________________________________________________________\n",
            "Layer (type)                 Output Shape              Param #   \n",
            "=================================================================\n",
            "conv2d_4 (Conv2D)            (None, 248, 248, 16)      448       \n",
            "_________________________________________________________________\n",
            "max_pooling2d (MaxPooling2D) (None, 124, 124, 16)      0         \n",
            "_________________________________________________________________\n",
            "conv2d_5 (Conv2D)            (None, 122, 122, 64)      9280      \n",
            "_________________________________________________________________\n",
            "max_pooling2d_1 (MaxPooling2 (None, 61, 61, 64)        0         \n",
            "_________________________________________________________________\n",
            "conv2d_6 (Conv2D)            (None, 59, 59, 128)       73856     \n",
            "_________________________________________________________________\n",
            "max_pooling2d_2 (MaxPooling2 (None, 29, 29, 128)       0         \n",
            "_________________________________________________________________\n",
            "conv2d_7 (Conv2D)            (None, 27, 27, 128)       147584    \n",
            "_________________________________________________________________\n",
            "max_pooling2d_3 (MaxPooling2 (None, 13, 13, 128)       0         \n",
            "_________________________________________________________________\n",
            "flatten_1 (Flatten)          (None, 21632)             0         \n",
            "_________________________________________________________________\n",
            "dense_2 (Dense)              (None, 512)               11076096  \n",
            "_________________________________________________________________\n",
            "dropout (Dropout)            (None, 512)               0         \n",
            "_________________________________________________________________\n",
            "dense_3 (Dense)              (None, 512)               262656    \n",
            "_________________________________________________________________\n",
            "dropout_1 (Dropout)          (None, 512)               0         \n",
            "_________________________________________________________________\n",
            "dense_4 (Dense)              (None, 18)                9234      \n",
            "=================================================================\n",
            "Total params: 11,579,154\n",
            "Trainable params: 11,579,154\n",
            "Non-trainable params: 0\n",
            "_________________________________________________________________\n"
          ],
          "name": "stdout"
        }
      ]
    },
    {
      "cell_type": "code",
      "metadata": {
        "colab": {
          "base_uri": "https://localhost:8080/"
        },
        "id": "-0v-ujb1q3si",
        "outputId": "236d9531-c7a6-41fb-a213-fe5955c6664a"
      },
      "source": [
        "history_reg = model_reg.fit(X_train, y_train, validation_data=(X_test, y_test),batch_size=10, epochs=20)#trainging 10 sample on each iteration. so there will be 40 iteration per epoch"
      ],
      "execution_count": 23,
      "outputs": [
        {
          "output_type": "stream",
          "text": [
            "Epoch 1/20\n",
            "40/40 [==============================] - 2s 26ms/step - loss: 2.5146 - accuracy: 0.3330 - val_loss: 2.1521 - val_accuracy: 0.4100\n",
            "Epoch 2/20\n",
            "40/40 [==============================] - 1s 22ms/step - loss: 2.1061 - accuracy: 0.3642 - val_loss: 2.1690 - val_accuracy: 0.4100\n",
            "Epoch 3/20\n",
            "40/40 [==============================] - 1s 22ms/step - loss: 2.0236 - accuracy: 0.4003 - val_loss: 2.0462 - val_accuracy: 0.4400\n",
            "Epoch 4/20\n",
            "40/40 [==============================] - 1s 22ms/step - loss: 1.8620 - accuracy: 0.3849 - val_loss: 1.9766 - val_accuracy: 0.4200\n",
            "Epoch 5/20\n",
            "40/40 [==============================] - 1s 22ms/step - loss: 1.7049 - accuracy: 0.4765 - val_loss: 1.7895 - val_accuracy: 0.5100\n",
            "Epoch 6/20\n",
            "40/40 [==============================] - 1s 22ms/step - loss: 1.6206 - accuracy: 0.5161 - val_loss: 1.8429 - val_accuracy: 0.4700\n",
            "Epoch 7/20\n",
            "40/40 [==============================] - 1s 22ms/step - loss: 1.4949 - accuracy: 0.5245 - val_loss: 1.8623 - val_accuracy: 0.5400\n",
            "Epoch 8/20\n",
            "40/40 [==============================] - 1s 22ms/step - loss: 1.2421 - accuracy: 0.5866 - val_loss: 2.0816 - val_accuracy: 0.5100\n",
            "Epoch 9/20\n",
            "40/40 [==============================] - 1s 22ms/step - loss: 1.0458 - accuracy: 0.6803 - val_loss: 2.5925 - val_accuracy: 0.4900\n",
            "Epoch 10/20\n",
            "40/40 [==============================] - 1s 22ms/step - loss: 0.8857 - accuracy: 0.7018 - val_loss: 2.4439 - val_accuracy: 0.4600\n",
            "Epoch 11/20\n",
            "40/40 [==============================] - 1s 23ms/step - loss: 0.7764 - accuracy: 0.7502 - val_loss: 2.7480 - val_accuracy: 0.4700\n",
            "Epoch 12/20\n",
            "40/40 [==============================] - 1s 22ms/step - loss: 0.5856 - accuracy: 0.8098 - val_loss: 3.7648 - val_accuracy: 0.4800\n",
            "Epoch 13/20\n",
            "40/40 [==============================] - 1s 22ms/step - loss: 0.3607 - accuracy: 0.8794 - val_loss: 4.0967 - val_accuracy: 0.4300\n",
            "Epoch 14/20\n",
            "40/40 [==============================] - 1s 22ms/step - loss: 0.2407 - accuracy: 0.9327 - val_loss: 4.2107 - val_accuracy: 0.4300\n",
            "Epoch 15/20\n",
            "40/40 [==============================] - 1s 22ms/step - loss: 0.1574 - accuracy: 0.9616 - val_loss: 4.9502 - val_accuracy: 0.4100\n",
            "Epoch 16/20\n",
            "40/40 [==============================] - 1s 22ms/step - loss: 0.2190 - accuracy: 0.9546 - val_loss: 4.8174 - val_accuracy: 0.3900\n",
            "Epoch 17/20\n",
            "40/40 [==============================] - 1s 23ms/step - loss: 0.2503 - accuracy: 0.9425 - val_loss: 4.1958 - val_accuracy: 0.4200\n",
            "Epoch 18/20\n",
            "40/40 [==============================] - 1s 22ms/step - loss: 0.2447 - accuracy: 0.9437 - val_loss: 3.8286 - val_accuracy: 0.4600\n",
            "Epoch 19/20\n",
            "40/40 [==============================] - 1s 22ms/step - loss: 0.0507 - accuracy: 0.9886 - val_loss: 4.6473 - val_accuracy: 0.4500\n",
            "Epoch 20/20\n",
            "40/40 [==============================] - 1s 22ms/step - loss: 0.0559 - accuracy: 0.9892 - val_loss: 5.3376 - val_accuracy: 0.4800\n"
          ],
          "name": "stdout"
        }
      ]
    },
    {
      "cell_type": "code",
      "metadata": {
        "colab": {
          "base_uri": "https://localhost:8080/",
          "height": 307
        },
        "id": "-sX-iySzr_TP",
        "outputId": "becb5999-2a8b-41db-eddf-3f032649c79b"
      },
      "source": [
        "f, (ax1, ax2) = plt.subplots(1, 2, figsize=(12, 4))\r\n",
        "t = f.suptitle('Basic CNN Performance with Dropout', fontsize=12)\r\n",
        "f.subplots_adjust(top=0.85, wspace=0.3)\r\n",
        "\r\n",
        "epoch_list = list(range(1,21))\r\n",
        "ax1.plot(epoch_list, history_reg.history['accuracy'], label='Train Accuracy with Dropout')\r\n",
        "ax1.plot(epoch_list, history_reg.history['val_accuracy'], label='Validation Accuracy with Dropout')\r\n",
        "ax1.set_xticks(np.arange(0, 21, 5))\r\n",
        "ax1.set_ylabel('Accuracy Value')\r\n",
        "ax1.set_xlabel('Epoch')\r\n",
        "ax1.set_title('Accuracy')\r\n",
        "l1 = ax1.legend(loc=\"best\")\r\n",
        "\r\n",
        "ax2.plot(epoch_list, history_reg.history['loss'], label='Train Loss with Dropout')\r\n",
        "ax2.plot(epoch_list, history_reg.history['val_loss'], label='Validation Loss with Dropout')\r\n",
        "ax2.set_xticks(np.arange(0, 21, 5))\r\n",
        "ax2.set_ylabel('Loss Value')\r\n",
        "ax2.set_xlabel('Epoch')\r\n",
        "ax2.set_title('Loss')\r\n",
        "l2 = ax2.legend(loc=\"best\")"
      ],
      "execution_count": 24,
      "outputs": [
        {
          "output_type": "display_data",
          "data": {
            "image/png": "[encoded data removed]",
            "text/plain": [
              "<Figure size 864x288 with 2 Axes>"
            ]
          },
          "metadata": {
            "tags": [],
            "needs_background": "light"
          }
        }
      ]
    },
    {
      "cell_type": "code",
      "metadata": {
        "colab": {
          "base_uri": "https://localhost:8080/"
        },
        "id": "BqbChm-MSN2S",
        "outputId": "d8d91855-332a-480c-b13a-583939387c23"
      },
      "source": [
        "get_acc(history_reg)"
      ],
      "execution_count": 25,
      "outputs": [
        {
          "output_type": "stream",
          "text": [
            "Train maximam accuracy achived is  0.9850000143051147\n",
            "Test maximam accuracy achived is  0.5400000214576721\n"
          ],
          "name": "stdout"
        }
      ]
    },
    {
      "cell_type": "markdown",
      "metadata": {
        "id": "fGFdEDk-sLC6"
      },
      "source": [
        "\r\n",
        "After adding dropout to mask off the 30% of the units of desn layer we can see validation accuracy increased by 42 - ~54% \r\n",
        "\r\n",
        "\r\n"
      ]
    },
    {
      "cell_type": "markdown",
      "metadata": {
        "id": "HYnIexPVt_hR"
      },
      "source": [
        "## Now CNN Model with Image Augmentation"
      ]
    },
    {
      "cell_type": "code",
      "metadata": {
        "id": "HeTiOnAZtzno"
      },
      "source": [
        "train_datagen = ImageDataGenerator(rescale=1./255, zoom_range=0.3, rotation_range=50,\r\n",
        "                                   width_shift_range=0.2, height_shift_range=0.2, shear_range=0.2, \r\n",
        "                                   horizontal_flip=True, fill_mode='nearest')\r\n",
        "\r\n",
        "val_datagen = ImageDataGenerator(rescale=1./255)"
      ],
      "execution_count": 26,
      "outputs": []
    },
    {
      "cell_type": "code",
      "metadata": {
        "id": "zK8YQKwQu5fx"
      },
      "source": [
        "batch_size=32\r\n",
        "X_train_raw, X_test_raw, y_train_raw, y_test_raw = train_test_split(all_data, all_labels_enc, test_size=0.2, random_state=42)\r\n",
        "\r\n",
        "# all_data\r\n",
        "train_generator = train_datagen.flow(X_train_raw, y_train_raw, batch_size=10)\r\n",
        "val_generator = val_datagen.flow(X_test_raw, y_test_raw, batch_size=5)\r\n",
        "input_shape = (250, 250, 3)"
      ],
      "execution_count": 30,
      "outputs": []
    },
    {
      "cell_type": "code",
      "metadata": {
        "colab": {
          "base_uri": "https://localhost:8080/"
        },
        "id": "yks7C1OwxQF-",
        "outputId": "aef57d64-2b24-43fa-bf0f-b26677e700d7"
      },
      "source": [
        "history_IA = model_reg.fit_generator(train_generator, steps_per_epoch=40, epochs=20,\r\n",
        "                              validation_data=val_generator, validation_steps=10, ) "
      ],
      "execution_count": 31,
      "outputs": [
        {
          "output_type": "stream",
          "text": [
            "/usr/local/lib/python3.6/dist-packages/tensorflow/python/keras/engine/training.py:1844: UserWarning: `Model.fit_generator` is deprecated and will be removed in a future version. Please use `Model.fit`, which supports generators.\n",
            "  warnings.warn('`Model.fit_generator` is deprecated and '\n"
          ],
          "name": "stderr"
        },
        {
          "output_type": "stream",
          "text": [
            "Epoch 1/20\n",
            "40/40 [==============================] - 5s 133ms/step - loss: 2.0185 - accuracy: 0.3950 - val_loss: 2.2103 - val_accuracy: 0.3400\n",
            "Epoch 2/20\n",
            "40/40 [==============================] - 5s 129ms/step - loss: 1.9231 - accuracy: 0.3975 - val_loss: 1.9564 - val_accuracy: 0.4000\n",
            "Epoch 3/20\n",
            "40/40 [==============================] - 5s 129ms/step - loss: 1.9197 - accuracy: 0.3675 - val_loss: 2.1032 - val_accuracy: 0.4200\n",
            "Epoch 4/20\n",
            "40/40 [==============================] - 5s 130ms/step - loss: 1.8680 - accuracy: 0.4175 - val_loss: 2.1130 - val_accuracy: 0.4400\n",
            "Epoch 5/20\n",
            "40/40 [==============================] - 5s 131ms/step - loss: 1.8703 - accuracy: 0.3950 - val_loss: 1.8604 - val_accuracy: 0.4800\n",
            "Epoch 6/20\n",
            "40/40 [==============================] - 5s 131ms/step - loss: 1.8951 - accuracy: 0.3850 - val_loss: 2.4855 - val_accuracy: 0.3200\n",
            "Epoch 7/20\n",
            "40/40 [==============================] - 5s 132ms/step - loss: 1.8611 - accuracy: 0.4050 - val_loss: 2.4129 - val_accuracy: 0.3600\n",
            "Epoch 8/20\n",
            "40/40 [==============================] - 5s 132ms/step - loss: 1.8390 - accuracy: 0.4250 - val_loss: 2.1136 - val_accuracy: 0.4600\n",
            "Epoch 9/20\n",
            "40/40 [==============================] - 5s 130ms/step - loss: 1.8000 - accuracy: 0.4175 - val_loss: 1.5642 - val_accuracy: 0.5200\n",
            "Epoch 10/20\n",
            "40/40 [==============================] - 5s 129ms/step - loss: 1.7652 - accuracy: 0.4200 - val_loss: 2.1683 - val_accuracy: 0.5400\n",
            "Epoch 11/20\n",
            "40/40 [==============================] - 5s 130ms/step - loss: 1.7871 - accuracy: 0.4075 - val_loss: 1.6232 - val_accuracy: 0.4800\n",
            "Epoch 12/20\n",
            "40/40 [==============================] - 5s 129ms/step - loss: 1.7694 - accuracy: 0.4225 - val_loss: 1.8783 - val_accuracy: 0.4400\n",
            "Epoch 13/20\n",
            "40/40 [==============================] - 5s 129ms/step - loss: 1.7919 - accuracy: 0.4375 - val_loss: 1.9503 - val_accuracy: 0.4200\n",
            "Epoch 14/20\n",
            "40/40 [==============================] - 5s 129ms/step - loss: 1.7566 - accuracy: 0.3925 - val_loss: 2.0245 - val_accuracy: 0.4000\n",
            "Epoch 15/20\n",
            "40/40 [==============================] - 5s 129ms/step - loss: 1.8034 - accuracy: 0.4100 - val_loss: 1.9843 - val_accuracy: 0.4400\n",
            "Epoch 16/20\n",
            "40/40 [==============================] - 5s 131ms/step - loss: 1.7392 - accuracy: 0.4375 - val_loss: 2.2601 - val_accuracy: 0.3600\n",
            "Epoch 17/20\n",
            "40/40 [==============================] - 5s 131ms/step - loss: 1.7161 - accuracy: 0.4675 - val_loss: 1.6369 - val_accuracy: 0.4600\n",
            "Epoch 18/20\n",
            "40/40 [==============================] - 5s 130ms/step - loss: 1.7997 - accuracy: 0.4350 - val_loss: 2.2228 - val_accuracy: 0.3600\n",
            "Epoch 19/20\n",
            "40/40 [==============================] - 5s 128ms/step - loss: 1.7449 - accuracy: 0.4400 - val_loss: 1.7907 - val_accuracy: 0.5000\n",
            "Epoch 20/20\n",
            "40/40 [==============================] - 5s 129ms/step - loss: 1.7654 - accuracy: 0.4625 - val_loss: 2.1163 - val_accuracy: 0.4400\n"
          ],
          "name": "stdout"
        }
      ]
    },
    {
      "cell_type": "code",
      "metadata": {
        "id": "3_vVieS5xipQ"
      },
      "source": [
        "def get_plot(history,ep):\r\n",
        "    f, (ax1, ax2) = plt.subplots(1, 2, figsize=(12, 4))\r\n",
        "    t = f.suptitle('Basic CNN Performance with Dropout & image augmentation', fontsize=12)\r\n",
        "    f.subplots_adjust(top=0.85, wspace=0.3)\r\n",
        "\r\n",
        "    epoch_list = list(range(1,ep+1))\r\n",
        "    ax1.plot(epoch_list, history.history['accuracy'], label='Train Accuracy')\r\n",
        "    ax1.plot(epoch_list, history.history['val_accuracy'], label='Validation Accuracy')\r\n",
        "    ax1.set_xticks(np.arange(0, ep+1, 5))\r\n",
        "    ax1.set_ylabel('Accuracy Value')\r\n",
        "    ax1.set_xlabel('Epoch')\r\n",
        "    ax1.set_title('Accuracy')\r\n",
        "    l1 = ax1.legend(loc=\"best\")\r\n",
        "\r\n",
        "    ax2.plot(epoch_list, history.history['loss'], label='Train Loss')\r\n",
        "    ax2.plot(epoch_list, history.history['val_loss'], label='Validation Loss')\r\n",
        "    ax2.set_xticks(np.arange(0, ep+1, 5))\r\n",
        "    ax2.set_ylabel('Loss Value')\r\n",
        "    ax2.set_xlabel('Epoch')\r\n",
        "    ax2.set_title('Loss')\r\n",
        "    l2 = ax2.legend(loc=\"best\")"
      ],
      "execution_count": 56,
      "outputs": []
    },
    {
      "cell_type": "code",
      "metadata": {
        "colab": {
          "base_uri": "https://localhost:8080/",
          "height": 307
        },
        "id": "UZd-LDDNUrFQ",
        "outputId": "3ab725cd-f8e1-4c06-c585-3523f28f140e"
      },
      "source": [
        "get_plot(history_IA,20)"
      ],
      "execution_count": 57,
      "outputs": [
        {
          "output_type": "display_data",
          "data": {
            "image/png": "[encoded data removed]",
            "text/plain": [
              "<Figure size 864x288 with 2 Axes>"
            ]
          },
          "metadata": {
            "tags": [],
            "needs_background": "light"
          }
        }
      ]
    },
    {
      "cell_type": "code",
      "metadata": {
        "colab": {
          "base_uri": "https://localhost:8080/"
        },
        "id": "yRmOtMCRTUKo",
        "outputId": "f9192630-59bb-4b8c-c204-1f27d9fb6c0b"
      },
      "source": [
        "get_acc(history_IA)"
      ],
      "execution_count": 33,
      "outputs": [
        {
          "output_type": "stream",
          "text": [
            "Train maximam accuracy achived is  0.4675000011920929\n",
            "Test maximam accuracy achived is  0.5400000214576721\n"
          ],
          "name": "stdout"
        }
      ]
    },
    {
      "cell_type": "markdown",
      "metadata": {
        "id": "XMel_pC7y8IT"
      },
      "source": [
        "We get a validation accuracy jump to around 54%, we can see the decrease in train_accuracy which indicating our model isn’t overfitting anymore"
      ]
    },
    {
      "cell_type": "markdown",
      "metadata": {
        "id": "4zQww2EhzTLz"
      },
      "source": [
        "## Now comes Transfer learning VGG16 "
      ]
    },
    {
      "cell_type": "markdown",
      "metadata": {
        "id": "9j7NgSCo3USm"
      },
      "source": [
        "### Pre-trained CNN model as a Feature Extractor"
      ]
    },
    {
      "cell_type": "code",
      "metadata": {
        "id": "SkR4g7WX3T7E",
        "colab": {
          "base_uri": "https://localhost:8080/"
        },
        "outputId": "7c027a10-dd96-48fd-d888-9afb4d21b6c2"
      },
      "source": [
        "vgg = vgg16.VGG16(include_top=False, weights='imagenet', \r\n",
        "                                     input_shape=input_shape)"
      ],
      "execution_count": 34,
      "outputs": [
        {
          "output_type": "stream",
          "text": [
            "Downloading data from https://storage.googleapis.com/tensorflow/keras-applications/vgg16/vgg16_weights_tf_dim_ordering_tf_kernels_notop.h5\n",
            "58892288/58889256 [==============================] - 0s 0us/step\n"
          ],
          "name": "stdout"
        }
      ]
    },
    {
      "cell_type": "code",
      "metadata": {
        "colab": {
          "base_uri": "https://localhost:8080/"
        },
        "id": "-8_7QryfBt4F",
        "outputId": "d40051a6-9f75-4ef7-fff2-dfe061bf56c6"
      },
      "source": [
        "input_shape"
      ],
      "execution_count": 35,
      "outputs": [
        {
          "output_type": "execute_result",
          "data": {
            "text/plain": [
              "(250, 250, 3)"
            ]
          },
          "metadata": {
            "tags": []
          },
          "execution_count": 35
        }
      ]
    },
    {
      "cell_type": "code",
      "metadata": {
        "colab": {
          "base_uri": "https://localhost:8080/"
        },
        "id": "8k7vORhmx_WN",
        "outputId": "da54e101-99e1-4cc4-cdcf-d4c25d6fda0f"
      },
      "source": [
        "vgg.layers"
      ],
      "execution_count": 36,
      "outputs": [
        {
          "output_type": "execute_result",
          "data": {
            "text/plain": [
              "[<tensorflow.python.keras.engine.input_layer.InputLayer at 0x7f50e20d6e80>,\n",
              " <tensorflow.python.keras.layers.convolutional.Conv2D at 0x7f50e21784a8>,\n",
              " <tensorflow.python.keras.layers.convolutional.Conv2D at 0x7f50e20d6588>,\n",
              " <tensorflow.python.keras.layers.pooling.MaxPooling2D at 0x7f50e21abf98>,\n",
              " <tensorflow.python.keras.layers.convolutional.Conv2D at 0x7f50e2d3cf98>,\n",
              " <tensorflow.python.keras.layers.convolutional.Conv2D at 0x7f50e2883f28>,\n",
              " <tensorflow.python.keras.layers.pooling.MaxPooling2D at 0x7f50e208c710>,\n",
              " <tensorflow.python.keras.layers.convolutional.Conv2D at 0x7f50e2172ef0>,\n",
              " <tensorflow.python.keras.layers.convolutional.Conv2D at 0x7f50e2091128>,\n",
              " <tensorflow.python.keras.layers.convolutional.Conv2D at 0x7f50e207a080>,\n",
              " <tensorflow.python.keras.layers.pooling.MaxPooling2D at 0x7f50e20a42e8>,\n",
              " <tensorflow.python.keras.layers.convolutional.Conv2D at 0x7f50e22fdc88>,\n",
              " <tensorflow.python.keras.layers.convolutional.Conv2D at 0x7f50e22fda90>,\n",
              " <tensorflow.python.keras.layers.convolutional.Conv2D at 0x7f50e21d5fd0>,\n",
              " <tensorflow.python.keras.layers.pooling.MaxPooling2D at 0x7f50e20b16a0>,\n",
              " <tensorflow.python.keras.layers.convolutional.Conv2D at 0x7f50e20b1f60>,\n",
              " <tensorflow.python.keras.layers.convolutional.Conv2D at 0x7f50e2091b00>,\n",
              " <tensorflow.python.keras.layers.convolutional.Conv2D at 0x7f50e2091668>,\n",
              " <tensorflow.python.keras.layers.pooling.MaxPooling2D at 0x7f50e203e6d8>]"
            ]
          },
          "metadata": {
            "tags": []
          },
          "execution_count": 36
        }
      ]
    },
    {
      "cell_type": "code",
      "metadata": {
        "colab": {
          "base_uri": "https://localhost:8080/"
        },
        "id": "goj622dQ4w1D",
        "outputId": "7ed4c113-d826-4d61-8b75-754dcc765a6f"
      },
      "source": [
        "vgg.layers[-1]"
      ],
      "execution_count": 37,
      "outputs": [
        {
          "output_type": "execute_result",
          "data": {
            "text/plain": [
              "<tensorflow.python.keras.layers.pooling.MaxPooling2D at 0x7f50e203e6d8>"
            ]
          },
          "metadata": {
            "tags": []
          },
          "execution_count": 37
        }
      ]
    },
    {
      "cell_type": "code",
      "metadata": {
        "colab": {
          "base_uri": "https://localhost:8080/"
        },
        "id": "acYFBQ5p4IO-",
        "outputId": "ba7ad76d-c4ce-484e-9b5d-395cb062ec23"
      },
      "source": [
        "output = vgg.layers[-1].output\r\n",
        "output"
      ],
      "execution_count": 38,
      "outputs": [
        {
          "output_type": "execute_result",
          "data": {
            "text/plain": [
              "<KerasTensor: shape=(None, 7, 7, 512) dtype=float32 (created by layer 'block5_pool')>"
            ]
          },
          "metadata": {
            "tags": []
          },
          "execution_count": 38
        }
      ]
    },
    {
      "cell_type": "code",
      "metadata": {
        "colab": {
          "base_uri": "https://localhost:8080/"
        },
        "id": "FLJpE6r14OEs",
        "outputId": "17436583-f1bd-450e-cf98-8320cccfb997"
      },
      "source": [
        "vgg.summary()"
      ],
      "execution_count": 39,
      "outputs": [
        {
          "output_type": "stream",
          "text": [
            "Model: \"vgg16\"\n",
            "_________________________________________________________________\n",
            "Layer (type)                 Output Shape              Param #   \n",
            "=================================================================\n",
            "input_1 (InputLayer)         [(None, 250, 250, 3)]     0         \n",
            "_________________________________________________________________\n",
            "block1_conv1 (Conv2D)        (None, 250, 250, 64)      1792      \n",
            "_________________________________________________________________\n",
            "block1_conv2 (Conv2D)        (None, 250, 250, 64)      36928     \n",
            "_________________________________________________________________\n",
            "block1_pool (MaxPooling2D)   (None, 125, 125, 64)      0         \n",
            "_________________________________________________________________\n",
            "block2_conv1 (Conv2D)        (None, 125, 125, 128)     73856     \n",
            "_________________________________________________________________\n",
            "block2_conv2 (Conv2D)        (None, 125, 125, 128)     147584    \n",
            "_________________________________________________________________\n",
            "block2_pool (MaxPooling2D)   (None, 62, 62, 128)       0         \n",
            "_________________________________________________________________\n",
            "block3_conv1 (Conv2D)        (None, 62, 62, 256)       295168    \n",
            "_________________________________________________________________\n",
            "block3_conv2 (Conv2D)        (None, 62, 62, 256)       590080    \n",
            "_________________________________________________________________\n",
            "block3_conv3 (Conv2D)        (None, 62, 62, 256)       590080    \n",
            "_________________________________________________________________\n",
            "block3_pool (MaxPooling2D)   (None, 31, 31, 256)       0         \n",
            "_________________________________________________________________\n",
            "block4_conv1 (Conv2D)        (None, 31, 31, 512)       1180160   \n",
            "_________________________________________________________________\n",
            "block4_conv2 (Conv2D)        (None, 31, 31, 512)       2359808   \n",
            "_________________________________________________________________\n",
            "block4_conv3 (Conv2D)        (None, 31, 31, 512)       2359808   \n",
            "_________________________________________________________________\n",
            "block4_pool (MaxPooling2D)   (None, 15, 15, 512)       0         \n",
            "_________________________________________________________________\n",
            "block5_conv1 (Conv2D)        (None, 15, 15, 512)       2359808   \n",
            "_________________________________________________________________\n",
            "block5_conv2 (Conv2D)        (None, 15, 15, 512)       2359808   \n",
            "_________________________________________________________________\n",
            "block5_conv3 (Conv2D)        (None, 15, 15, 512)       2359808   \n",
            "_________________________________________________________________\n",
            "block5_pool (MaxPooling2D)   (None, 7, 7, 512)         0         \n",
            "=================================================================\n",
            "Total params: 14,714,688\n",
            "Trainable params: 14,714,688\n",
            "Non-trainable params: 0\n",
            "_________________________________________________________________\n"
          ],
          "name": "stdout"
        }
      ]
    },
    {
      "cell_type": "code",
      "metadata": {
        "id": "mZLB5xah4UnP"
      },
      "source": [
        "output = vgg.layers[-1].output\r\n",
        "output = keras.layers.Flatten()(output)\r\n",
        "# vgg_model = Model(vgg.input, output)"
      ],
      "execution_count": 40,
      "outputs": []
    },
    {
      "cell_type": "code",
      "metadata": {
        "colab": {
          "base_uri": "https://localhost:8080/"
        },
        "id": "dOWKVizM4fPr",
        "outputId": "1fa29427-c71e-4d6e-dacd-e6699b59fadd"
      },
      "source": [
        "output"
      ],
      "execution_count": 41,
      "outputs": [
        {
          "output_type": "execute_result",
          "data": {
            "text/plain": [
              "<KerasTensor: shape=(None, 25088) dtype=float32 (created by layer 'flatten_2')>"
            ]
          },
          "metadata": {
            "tags": []
          },
          "execution_count": 41
        }
      ]
    },
    {
      "cell_type": "code",
      "metadata": {
        "id": "WOEReRRU4gfV"
      },
      "source": [
        "vgg_model = Model(vgg.input, output)"
      ],
      "execution_count": 42,
      "outputs": []
    },
    {
      "cell_type": "code",
      "metadata": {
        "colab": {
          "base_uri": "https://localhost:8080/"
        },
        "id": "7OX5qmEw4jZt",
        "outputId": "accb739a-704c-4f34-8976-487b8015574a"
      },
      "source": [
        "vgg_model.summary()"
      ],
      "execution_count": 43,
      "outputs": [
        {
          "output_type": "stream",
          "text": [
            "Model: \"model_1\"\n",
            "_________________________________________________________________\n",
            "Layer (type)                 Output Shape              Param #   \n",
            "=================================================================\n",
            "input_1 (InputLayer)         [(None, 250, 250, 3)]     0         \n",
            "_________________________________________________________________\n",
            "block1_conv1 (Conv2D)        (None, 250, 250, 64)      1792      \n",
            "_________________________________________________________________\n",
            "block1_conv2 (Conv2D)        (None, 250, 250, 64)      36928     \n",
            "_________________________________________________________________\n",
            "block1_pool (MaxPooling2D)   (None, 125, 125, 64)      0         \n",
            "_________________________________________________________________\n",
            "block2_conv1 (Conv2D)        (None, 125, 125, 128)     73856     \n",
            "_________________________________________________________________\n",
            "block2_conv2 (Conv2D)        (None, 125, 125, 128)     147584    \n",
            "_________________________________________________________________\n",
            "block2_pool (MaxPooling2D)   (None, 62, 62, 128)       0         \n",
            "_________________________________________________________________\n",
            "block3_conv1 (Conv2D)        (None, 62, 62, 256)       295168    \n",
            "_________________________________________________________________\n",
            "block3_conv2 (Conv2D)        (None, 62, 62, 256)       590080    \n",
            "_________________________________________________________________\n",
            "block3_conv3 (Conv2D)        (None, 62, 62, 256)       590080    \n",
            "_________________________________________________________________\n",
            "block3_pool (MaxPooling2D)   (None, 31, 31, 256)       0         \n",
            "_________________________________________________________________\n",
            "block4_conv1 (Conv2D)        (None, 31, 31, 512)       1180160   \n",
            "_________________________________________________________________\n",
            "block4_conv2 (Conv2D)        (None, 31, 31, 512)       2359808   \n",
            "_________________________________________________________________\n",
            "block4_conv3 (Conv2D)        (None, 31, 31, 512)       2359808   \n",
            "_________________________________________________________________\n",
            "block4_pool (MaxPooling2D)   (None, 15, 15, 512)       0         \n",
            "_________________________________________________________________\n",
            "block5_conv1 (Conv2D)        (None, 15, 15, 512)       2359808   \n",
            "_________________________________________________________________\n",
            "block5_conv2 (Conv2D)        (None, 15, 15, 512)       2359808   \n",
            "_________________________________________________________________\n",
            "block5_conv3 (Conv2D)        (None, 15, 15, 512)       2359808   \n",
            "_________________________________________________________________\n",
            "block5_pool (MaxPooling2D)   (None, 7, 7, 512)         0         \n",
            "_________________________________________________________________\n",
            "flatten_2 (Flatten)          (None, 25088)             0         \n",
            "=================================================================\n",
            "Total params: 14,714,688\n",
            "Trainable params: 14,714,688\n",
            "Non-trainable params: 0\n",
            "_________________________________________________________________\n"
          ],
          "name": "stdout"
        }
      ]
    },
    {
      "cell_type": "code",
      "metadata": {
        "id": "CrMMYC3k4mUD"
      },
      "source": [
        "vgg_model.trainable = False\r\n",
        "for layer in vgg_model.layers:\r\n",
        "    layer.trainable = False"
      ],
      "execution_count": 44,
      "outputs": []
    },
    {
      "cell_type": "code",
      "metadata": {
        "colab": {
          "base_uri": "https://localhost:8080/"
        },
        "id": "xyFAAraL5NK6",
        "outputId": "60b0cf1b-5c44-42ab-be5d-b4886d7a51e9"
      },
      "source": [
        "def get_bottleneck_features(model, input_imgs):\r\n",
        "    features = model.predict(input_imgs, verbose=0)\r\n",
        "    return features\r\n",
        "    \r\n",
        "train_features_vgg = get_bottleneck_features(vgg_model, X_train) #all_imgs_scaled --> X_train, X_test, y_train, y_test ==> all are scalled\r\n",
        "validation_features_vgg = get_bottleneck_features(vgg_model, X_test)\r\n",
        "\r\n",
        "print('Train Bottleneck Features:', train_features_vgg.shape, \r\n",
        "      '\\tValidation Bottleneck Features:', validation_features_vgg.shape)"
      ],
      "execution_count": 45,
      "outputs": [
        {
          "output_type": "stream",
          "text": [
            "Train Bottleneck Features: (400, 25088) \tValidation Bottleneck Features: (100, 25088)\n"
          ],
          "name": "stdout"
        }
      ]
    },
    {
      "cell_type": "code",
      "metadata": {
        "colab": {
          "base_uri": "https://localhost:8080/"
        },
        "id": "e0_73MAdC91K",
        "outputId": "39fe1d2e-4b18-45ad-c65c-1f2b1ad2ca03"
      },
      "source": [
        "from keras.layers import InputLayer\r\n",
        "input_shape = vgg_model.output_shape[1]\r\n",
        "input_shape"
      ],
      "execution_count": 46,
      "outputs": [
        {
          "output_type": "execute_result",
          "data": {
            "text/plain": [
              "25088"
            ]
          },
          "metadata": {
            "tags": []
          },
          "execution_count": 46
        }
      ]
    },
    {
      "cell_type": "code",
      "metadata": {
        "id": "gLY_UetR51cM"
      },
      "source": [
        "\r\n",
        "\r\n",
        "model_ftr_ex = Sequential()\r\n",
        "model_ftr_ex.add(InputLayer(input_shape=(input_shape,)))\r\n",
        "model_ftr_ex.add(Dense(512, activation='relu', input_dim=input_shape))\r\n",
        "model_ftr_ex.add(Dropout(0.3))\r\n",
        "model_ftr_ex.add(Dense(512, activation='relu'))\r\n",
        "model_ftr_ex.add(Dropout(0.3))\r\n",
        "model_ftr_ex.add(Dense(18, activation='softmax'))"
      ],
      "execution_count": 47,
      "outputs": []
    },
    {
      "cell_type": "code",
      "metadata": {
        "colab": {
          "base_uri": "https://localhost:8080/"
        },
        "id": "VLElyDW86Xm8",
        "outputId": "3654ac17-73e6-4248-abdb-aeed2726d758"
      },
      "source": [
        "model_ftr_ex.compile(optimizer='adam', loss='categorical_crossentropy', metrics=['accuracy'])\r\n",
        "\r\n",
        "model_ftr_ex.summary()"
      ],
      "execution_count": 48,
      "outputs": [
        {
          "output_type": "stream",
          "text": [
            "Model: \"sequential_2\"\n",
            "_________________________________________________________________\n",
            "Layer (type)                 Output Shape              Param #   \n",
            "=================================================================\n",
            "dense_5 (Dense)              (None, 512)               12845568  \n",
            "_________________________________________________________________\n",
            "dropout_2 (Dropout)          (None, 512)               0         \n",
            "_________________________________________________________________\n",
            "dense_6 (Dense)              (None, 512)               262656    \n",
            "_________________________________________________________________\n",
            "dropout_3 (Dropout)          (None, 512)               0         \n",
            "_________________________________________________________________\n",
            "dense_7 (Dense)              (None, 18)                9234      \n",
            "=================================================================\n",
            "Total params: 13,117,458\n",
            "Trainable params: 13,117,458\n",
            "Non-trainable params: 0\n",
            "_________________________________________________________________\n"
          ],
          "name": "stdout"
        }
      ]
    },
    {
      "cell_type": "code",
      "metadata": {
        "colab": {
          "base_uri": "https://localhost:8080/"
        },
        "id": "HemsEUiQ6dUK",
        "outputId": "3d59567d-5830-4f87-f900-f4f5cfa781a8"
      },
      "source": [
        "history_ftr_ex = model_ftr_ex.fit(x=train_features_vgg, y=y_train,\r\n",
        "                    validation_data=(validation_features_vgg, y_test),\r\n",
        "                    batch_size=10,\r\n",
        "                    epochs=30)"
      ],
      "execution_count": 49,
      "outputs": [
        {
          "output_type": "stream",
          "text": [
            "Epoch 1/30\n",
            "40/40 [==============================] - 1s 9ms/step - loss: 5.9056 - accuracy: 0.2282 - val_loss: 2.0318 - val_accuracy: 0.4200\n",
            "Epoch 2/30\n",
            "40/40 [==============================] - 0s 6ms/step - loss: 2.0256 - accuracy: 0.4197 - val_loss: 1.9280 - val_accuracy: 0.4400\n",
            "Epoch 3/30\n",
            "40/40 [==============================] - 0s 6ms/step - loss: 1.5390 - accuracy: 0.5742 - val_loss: 1.8260 - val_accuracy: 0.5200\n",
            "Epoch 4/30\n",
            "40/40 [==============================] - 0s 6ms/step - loss: 1.4151 - accuracy: 0.6080 - val_loss: 1.9135 - val_accuracy: 0.5000\n",
            "Epoch 5/30\n",
            "40/40 [==============================] - 0s 6ms/step - loss: 1.3315 - accuracy: 0.6141 - val_loss: 1.7860 - val_accuracy: 0.5300\n",
            "Epoch 6/30\n",
            "40/40 [==============================] - 0s 6ms/step - loss: 1.0280 - accuracy: 0.6844 - val_loss: 1.7031 - val_accuracy: 0.5800\n",
            "Epoch 7/30\n",
            "40/40 [==============================] - 0s 6ms/step - loss: 0.7920 - accuracy: 0.7409 - val_loss: 1.8477 - val_accuracy: 0.5400\n",
            "Epoch 8/30\n",
            "40/40 [==============================] - 0s 6ms/step - loss: 0.8667 - accuracy: 0.7228 - val_loss: 1.7465 - val_accuracy: 0.5500\n",
            "Epoch 9/30\n",
            "40/40 [==============================] - 0s 6ms/step - loss: 0.8749 - accuracy: 0.7273 - val_loss: 2.5013 - val_accuracy: 0.5200\n",
            "Epoch 10/30\n",
            "40/40 [==============================] - 0s 6ms/step - loss: 0.7914 - accuracy: 0.7398 - val_loss: 2.0448 - val_accuracy: 0.5500\n",
            "Epoch 11/30\n",
            "40/40 [==============================] - 0s 6ms/step - loss: 0.7607 - accuracy: 0.7193 - val_loss: 2.0081 - val_accuracy: 0.5400\n",
            "Epoch 12/30\n",
            "40/40 [==============================] - 0s 6ms/step - loss: 0.7610 - accuracy: 0.7488 - val_loss: 1.9291 - val_accuracy: 0.5600\n",
            "Epoch 13/30\n",
            "40/40 [==============================] - 0s 5ms/step - loss: 0.6742 - accuracy: 0.7594 - val_loss: 2.1632 - val_accuracy: 0.5400\n",
            "Epoch 14/30\n",
            "40/40 [==============================] - 0s 6ms/step - loss: 0.5927 - accuracy: 0.7877 - val_loss: 2.1888 - val_accuracy: 0.5600\n",
            "Epoch 15/30\n",
            "40/40 [==============================] - 0s 6ms/step - loss: 0.5172 - accuracy: 0.8276 - val_loss: 2.3060 - val_accuracy: 0.5300\n",
            "Epoch 16/30\n",
            "40/40 [==============================] - 0s 6ms/step - loss: 0.5478 - accuracy: 0.8368 - val_loss: 2.1943 - val_accuracy: 0.5700\n",
            "Epoch 17/30\n",
            "40/40 [==============================] - 0s 6ms/step - loss: 0.5085 - accuracy: 0.8186 - val_loss: 2.2267 - val_accuracy: 0.5500\n",
            "Epoch 18/30\n",
            "40/40 [==============================] - 0s 6ms/step - loss: 0.5212 - accuracy: 0.8193 - val_loss: 2.1438 - val_accuracy: 0.5300\n",
            "Epoch 19/30\n",
            "40/40 [==============================] - 0s 6ms/step - loss: 0.4954 - accuracy: 0.8080 - val_loss: 1.9694 - val_accuracy: 0.5500\n",
            "Epoch 20/30\n",
            "40/40 [==============================] - 0s 6ms/step - loss: 0.5879 - accuracy: 0.8248 - val_loss: 2.3567 - val_accuracy: 0.5600\n",
            "Epoch 21/30\n",
            "40/40 [==============================] - 0s 6ms/step - loss: 0.5076 - accuracy: 0.8471 - val_loss: 2.2424 - val_accuracy: 0.5700\n",
            "Epoch 22/30\n",
            "40/40 [==============================] - 0s 6ms/step - loss: 0.4386 - accuracy: 0.8548 - val_loss: 1.9986 - val_accuracy: 0.5500\n",
            "Epoch 23/30\n",
            "40/40 [==============================] - 0s 6ms/step - loss: 0.5981 - accuracy: 0.8033 - val_loss: 2.7655 - val_accuracy: 0.5200\n",
            "Epoch 24/30\n",
            "40/40 [==============================] - 0s 6ms/step - loss: 0.6162 - accuracy: 0.7900 - val_loss: 3.3025 - val_accuracy: 0.5300\n",
            "Epoch 25/30\n",
            "40/40 [==============================] - 0s 6ms/step - loss: 0.5393 - accuracy: 0.7878 - val_loss: 2.6588 - val_accuracy: 0.4900\n",
            "Epoch 26/30\n",
            "40/40 [==============================] - 0s 5ms/step - loss: 0.7464 - accuracy: 0.7339 - val_loss: 2.5825 - val_accuracy: 0.5100\n",
            "Epoch 27/30\n",
            "40/40 [==============================] - 0s 6ms/step - loss: 0.4745 - accuracy: 0.8301 - val_loss: 3.1958 - val_accuracy: 0.5400\n",
            "Epoch 28/30\n",
            "40/40 [==============================] - 0s 6ms/step - loss: 0.5224 - accuracy: 0.8394 - val_loss: 2.5082 - val_accuracy: 0.5900\n",
            "Epoch 29/30\n",
            "40/40 [==============================] - 0s 6ms/step - loss: 0.5466 - accuracy: 0.8187 - val_loss: 3.7171 - val_accuracy: 0.5000\n",
            "Epoch 30/30\n",
            "40/40 [==============================] - 0s 6ms/step - loss: 0.7800 - accuracy: 0.7482 - val_loss: 2.4365 - val_accuracy: 0.5200\n"
          ],
          "name": "stdout"
        }
      ]
    },
    {
      "cell_type": "code",
      "metadata": {
        "colab": {
          "base_uri": "https://localhost:8080/"
        },
        "id": "B6Kjf2s6UDs1",
        "outputId": "dfac2703-eeb8-4f80-a757-a773abe42022"
      },
      "source": [
        "get_acc(history_ftr_ex)"
      ],
      "execution_count": 50,
      "outputs": [
        {
          "output_type": "stream",
          "text": [
            "Train maximam accuracy achived is  0.8349999785423279\n",
            "Test maximam accuracy achived is  0.5899999737739563\n"
          ],
          "name": "stdout"
        }
      ]
    },
    {
      "cell_type": "code",
      "metadata": {
        "colab": {
          "base_uri": "https://localhost:8080/",
          "height": 307
        },
        "id": "BaIG7pjCUZRd",
        "outputId": "a7aa81cd-b2cb-4e99-b212-6152e6d85e15"
      },
      "source": [
        "get_plot(history_ftr_ex,30)"
      ],
      "execution_count": 58,
      "outputs": [
        {
          "output_type": "display_data",
          "data": {
            "image/png": "[encoded data removed]",
            "text/plain": [
              "<Figure size 864x288 with 2 Axes>"
            ]
          },
          "metadata": {
            "tags": [],
            "needs_background": "light"
          }
        }
      ]
    },
    {
      "cell_type": "markdown",
      "metadata": {
        "id": "IVeLBt-sULeC"
      },
      "source": [
        "in the above model we can see increase in train accuracy as well as test accuracy from the previous model"
      ]
    },
    {
      "cell_type": "markdown",
      "metadata": {
        "id": "sU3uO_Au7TRn"
      },
      "source": [
        "## VGG-16 model with Fine-tuning and Image Augmentation"
      ]
    },
    {
      "cell_type": "markdown",
      "metadata": {
        "id": "ZuBFH7EK7v7j"
      },
      "source": [
        "Using the VGG-16 model and unfreeze convolution blocks 4 and 5 while keeping the first three blocks frozen. "
      ]
    },
    {
      "cell_type": "code",
      "metadata": {
        "id": "SEccIjf_7Uy6"
      },
      "source": [
        "\r\n",
        "input_shape = (250, 250, 3)\r\n",
        "vgg = vgg16.VGG16(include_top=False, weights='imagenet', \r\n",
        "                                     input_shape=input_shape)\r\n",
        "\r\n",
        "output = vgg.layers[-1].output\r\n",
        "output = keras.layers.Flatten()(output)\r\n",
        "vgg_model = Model(vgg.input, output)\r\n",
        "vgg_model.trainable = True\r\n",
        "\r\n",
        "set_trainable = False\r\n",
        "for layer in vgg_model.layers:\r\n",
        "    if layer.name in ['block5_conv1', 'block4_conv1']:\r\n",
        "        set_trainable = True\r\n",
        "    if set_trainable:\r\n",
        "        layer.trainable = True\r\n",
        "    else:\r\n",
        "        layer.trainable = False\r\n",
        "        \r\n",
        "# layers = [(layer, layer.name, layer.trainable) for layer in vgg_model.layers]"
      ],
      "execution_count": 59,
      "outputs": []
    },
    {
      "cell_type": "markdown",
      "metadata": {
        "id": "f21gOtXR8fJJ"
      },
      "source": [
        "Using image augmentation"
      ]
    },
    {
      "cell_type": "code",
      "metadata": {
        "id": "nb_DSjht8d9c"
      },
      "source": [
        "# data_datagen = ImageDataGenerator( zoom_range=0.3, rotation_range=30,\r\n",
        "#                                    width_shift_range=0.1, height_shift_range=0.1,  \r\n",
        "#                                    horizontal_flip=True, fill_mode='nearest')\r\n",
        "# val_datagen = ImageDataGenerator(rescale=1./255)\r\n",
        "\r\n",
        "\r\n",
        "# X_train_raw_tl, X_test_raw_tl, y_train_raw_tl, y_test_raw_tl = train_test_split(all_data, all_labels_enc, test_size=0.25, random_state=42)\r\n",
        "\r\n",
        "# all_data\r\n",
        "# train_generator = train_datagen.flow(X_train_raw_tl, y_train_raw_tl, batch_size=10)\r\n",
        "# val_generator = val_datagen.flow(X_test_raw_tl, y_test_raw_tl, batch_size=5)\r\n",
        "# input_shape = (150, 150, 3)"
      ],
      "execution_count": null,
      "outputs": []
    },
    {
      "cell_type": "code",
      "metadata": {
        "id": "T7CXbOOc8-9d"
      },
      "source": [
        "model_FT_IA = Sequential()\r\n",
        "model_FT_IA.add(vgg_model)\r\n",
        "model_FT_IA.add(Dense(1024, activation='relu'))\r\n",
        "model_FT_IA.add(Dropout(0.5))\r\n",
        "model_FT_IA.add(Dense(18, activation='softmax'))"
      ],
      "execution_count": 60,
      "outputs": []
    },
    {
      "cell_type": "code",
      "metadata": {
        "colab": {
          "base_uri": "https://localhost:8080/"
        },
        "id": "ppsE3jUS9NFc",
        "outputId": "04f1b1fd-7c05-4b9c-e742-cac9a85658fe"
      },
      "source": [
        "model_FT_IA.compile(optimizer='adam', loss='categorical_crossentropy', metrics=['accuracy'])\r\n",
        "model_FT_IA.summary()"
      ],
      "execution_count": 61,
      "outputs": [
        {
          "output_type": "stream",
          "text": [
            "Model: \"sequential_3\"\n",
            "_________________________________________________________________\n",
            "Layer (type)                 Output Shape              Param #   \n",
            "=================================================================\n",
            "model_2 (Functional)         (None, 25088)             14714688  \n",
            "_________________________________________________________________\n",
            "dense_8 (Dense)              (None, 1024)              25691136  \n",
            "_________________________________________________________________\n",
            "dropout_4 (Dropout)          (None, 1024)              0         \n",
            "_________________________________________________________________\n",
            "dense_9 (Dense)              (None, 18)                18450     \n",
            "=================================================================\n",
            "Total params: 40,424,274\n",
            "Trainable params: 38,688,786\n",
            "Non-trainable params: 1,735,488\n",
            "_________________________________________________________________\n"
          ],
          "name": "stdout"
        }
      ]
    },
    {
      "cell_type": "code",
      "metadata": {
        "colab": {
          "base_uri": "https://localhost:8080/"
        },
        "id": "girZXupf9Zzw",
        "outputId": "21d2be85-be6f-4867-e76a-cd07a58bd74f"
      },
      "source": [
        "# history_FT_IA = model_FT_IA.fit_generator(data_datagen.flow(X_train_raw_tl, y_train_raw_tl, batch_size=32), validation_data=(X_test_raw_tl, y_test_raw_tl), epochs=100)\r\n",
        "# X_train_raw_tl, X_test_raw_tl, y_train_raw_tl, y_test_raw_tl\r\n",
        "history_FT_IA = model_FT_IA.fit_generator(train_generator, steps_per_epoch=40, epochs=50,\r\n",
        "                              validation_data=val_generator, validation_steps=10, )  "
      ],
      "execution_count": 62,
      "outputs": [
        {
          "output_type": "stream",
          "text": [
            "/usr/local/lib/python3.6/dist-packages/tensorflow/python/keras/engine/training.py:1844: UserWarning: `Model.fit_generator` is deprecated and will be removed in a future version. Please use `Model.fit`, which supports generators.\n",
            "  warnings.warn('`Model.fit_generator` is deprecated and '\n"
          ],
          "name": "stderr"
        },
        {
          "output_type": "stream",
          "text": [
            "Epoch 1/50\n",
            "40/40 [==============================] - 9s 188ms/step - loss: 5.9029 - accuracy: 0.2433 - val_loss: 2.0907 - val_accuracy: 0.2200\n",
            "Epoch 2/50\n",
            "40/40 [==============================] - 7s 169ms/step - loss: 2.1560 - accuracy: 0.3251 - val_loss: 1.8666 - val_accuracy: 0.4600\n",
            "Epoch 3/50\n",
            "40/40 [==============================] - 7s 172ms/step - loss: 2.0846 - accuracy: 0.3876 - val_loss: 2.6264 - val_accuracy: 0.3600\n",
            "Epoch 4/50\n",
            "40/40 [==============================] - 7s 173ms/step - loss: 2.0836 - accuracy: 0.4001 - val_loss: 2.1611 - val_accuracy: 0.3800\n",
            "Epoch 5/50\n",
            "40/40 [==============================] - 7s 171ms/step - loss: 1.9881 - accuracy: 0.4073 - val_loss: 14.1004 - val_accuracy: 0.0400\n",
            "Epoch 6/50\n",
            "40/40 [==============================] - 7s 171ms/step - loss: 3.2596 - accuracy: 0.3649 - val_loss: 2.0738 - val_accuracy: 0.3800\n",
            "Epoch 7/50\n",
            "40/40 [==============================] - 7s 171ms/step - loss: 2.0279 - accuracy: 0.4008 - val_loss: 2.5021 - val_accuracy: 0.3800\n",
            "Epoch 8/50\n",
            "40/40 [==============================] - 7s 172ms/step - loss: 2.0570 - accuracy: 0.4069 - val_loss: 2.1132 - val_accuracy: 0.4000\n",
            "Epoch 9/50\n",
            "40/40 [==============================] - 7s 171ms/step - loss: 2.0235 - accuracy: 0.4104 - val_loss: 1.9027 - val_accuracy: 0.4200\n",
            "Epoch 10/50\n",
            "40/40 [==============================] - 7s 170ms/step - loss: 2.0069 - accuracy: 0.4108 - val_loss: 2.0498 - val_accuracy: 0.4600\n",
            "Epoch 11/50\n",
            "40/40 [==============================] - 7s 171ms/step - loss: 1.9968 - accuracy: 0.3925 - val_loss: 2.1379 - val_accuracy: 0.4000\n",
            "Epoch 12/50\n",
            "40/40 [==============================] - 7s 171ms/step - loss: 1.9178 - accuracy: 0.4158 - val_loss: 2.1640 - val_accuracy: 0.4400\n",
            "Epoch 13/50\n",
            "40/40 [==============================] - 7s 172ms/step - loss: 2.0474 - accuracy: 0.4504 - val_loss: 2.2231 - val_accuracy: 0.4200\n",
            "Epoch 14/50\n",
            "40/40 [==============================] - 7s 172ms/step - loss: 2.0567 - accuracy: 0.3760 - val_loss: 2.1714 - val_accuracy: 0.4600\n",
            "Epoch 15/50\n",
            "40/40 [==============================] - 7s 172ms/step - loss: 1.9318 - accuracy: 0.4149 - val_loss: 2.0112 - val_accuracy: 0.5000\n",
            "Epoch 16/50\n",
            "40/40 [==============================] - 7s 175ms/step - loss: 1.9812 - accuracy: 0.3807 - val_loss: 2.1091 - val_accuracy: 0.4200\n",
            "Epoch 17/50\n",
            "40/40 [==============================] - 7s 176ms/step - loss: 1.9739 - accuracy: 0.4355 - val_loss: 2.2981 - val_accuracy: 0.3800\n",
            "Epoch 18/50\n",
            "40/40 [==============================] - 7s 175ms/step - loss: 2.0289 - accuracy: 0.3728 - val_loss: 2.2502 - val_accuracy: 0.4200\n",
            "Epoch 19/50\n",
            "40/40 [==============================] - 7s 172ms/step - loss: 1.9236 - accuracy: 0.3974 - val_loss: 2.0174 - val_accuracy: 0.4200\n",
            "Epoch 20/50\n",
            "40/40 [==============================] - 7s 172ms/step - loss: 1.9564 - accuracy: 0.4078 - val_loss: 2.2417 - val_accuracy: 0.3600\n",
            "Epoch 21/50\n",
            "40/40 [==============================] - 7s 174ms/step - loss: 2.0676 - accuracy: 0.3846 - val_loss: 2.3016 - val_accuracy: 0.4000\n",
            "Epoch 22/50\n",
            "40/40 [==============================] - 7s 173ms/step - loss: 2.5612 - accuracy: 0.4166 - val_loss: 2.9901 - val_accuracy: 0.4400\n",
            "Epoch 23/50\n",
            "40/40 [==============================] - 7s 174ms/step - loss: 2.2906 - accuracy: 0.3434 - val_loss: 2.3391 - val_accuracy: 0.3800\n",
            "Epoch 24/50\n",
            "40/40 [==============================] - 7s 174ms/step - loss: 2.0924 - accuracy: 0.4328 - val_loss: 2.2381 - val_accuracy: 0.3800\n",
            "Epoch 25/50\n",
            "40/40 [==============================] - 7s 175ms/step - loss: 1.9374 - accuracy: 0.4284 - val_loss: 2.0996 - val_accuracy: 0.4000\n",
            "Epoch 26/50\n",
            "40/40 [==============================] - 7s 176ms/step - loss: 1.9550 - accuracy: 0.4129 - val_loss: 2.0908 - val_accuracy: 0.4600\n",
            "Epoch 27/50\n",
            "40/40 [==============================] - 7s 176ms/step - loss: 1.9390 - accuracy: 0.4098 - val_loss: 2.1690 - val_accuracy: 0.4400\n",
            "Epoch 28/50\n",
            "40/40 [==============================] - 7s 174ms/step - loss: 1.8878 - accuracy: 0.4198 - val_loss: 2.0843 - val_accuracy: 0.4000\n",
            "Epoch 29/50\n",
            "40/40 [==============================] - 7s 174ms/step - loss: 2.0279 - accuracy: 0.3747 - val_loss: 2.2491 - val_accuracy: 0.4400\n",
            "Epoch 30/50\n",
            "40/40 [==============================] - 7s 175ms/step - loss: 2.0454 - accuracy: 0.3593 - val_loss: 1.8434 - val_accuracy: 0.4200\n",
            "Epoch 31/50\n",
            "40/40 [==============================] - 7s 175ms/step - loss: 1.9431 - accuracy: 0.4058 - val_loss: 2.1700 - val_accuracy: 0.4600\n",
            "Epoch 32/50\n",
            "40/40 [==============================] - 7s 174ms/step - loss: 2.0448 - accuracy: 0.3647 - val_loss: 2.0666 - val_accuracy: 0.4200\n",
            "Epoch 33/50\n",
            "40/40 [==============================] - 7s 177ms/step - loss: 1.9506 - accuracy: 0.4181 - val_loss: 2.3388 - val_accuracy: 0.4000\n",
            "Epoch 34/50\n",
            "40/40 [==============================] - 7s 174ms/step - loss: 2.0559 - accuracy: 0.3591 - val_loss: 1.9839 - val_accuracy: 0.4800\n",
            "Epoch 35/50\n",
            "40/40 [==============================] - 7s 174ms/step - loss: 1.9691 - accuracy: 0.3910 - val_loss: 2.3378 - val_accuracy: 0.3800\n",
            "Epoch 36/50\n",
            "40/40 [==============================] - 7s 175ms/step - loss: 1.9409 - accuracy: 0.4074 - val_loss: 2.1922 - val_accuracy: 0.3400\n",
            "Epoch 37/50\n",
            "40/40 [==============================] - 7s 175ms/step - loss: 1.9104 - accuracy: 0.4317 - val_loss: 2.4876 - val_accuracy: 0.3600\n",
            "Epoch 38/50\n",
            "40/40 [==============================] - 7s 177ms/step - loss: 1.9735 - accuracy: 0.4087 - val_loss: 2.4071 - val_accuracy: 0.3800\n",
            "Epoch 39/50\n",
            "40/40 [==============================] - 7s 175ms/step - loss: 1.9644 - accuracy: 0.3908 - val_loss: 2.2085 - val_accuracy: 0.4600\n",
            "Epoch 40/50\n",
            "40/40 [==============================] - 7s 174ms/step - loss: 1.9718 - accuracy: 0.4009 - val_loss: 1.9493 - val_accuracy: 0.4400\n",
            "Epoch 41/50\n",
            "40/40 [==============================] - 7s 174ms/step - loss: 1.9139 - accuracy: 0.4238 - val_loss: 2.1046 - val_accuracy: 0.4200\n",
            "Epoch 42/50\n",
            "40/40 [==============================] - 7s 174ms/step - loss: 1.9399 - accuracy: 0.3982 - val_loss: 2.1917 - val_accuracy: 0.4400\n",
            "Epoch 43/50\n",
            "40/40 [==============================] - 7s 174ms/step - loss: 1.9751 - accuracy: 0.3978 - val_loss: 2.1541 - val_accuracy: 0.4200\n",
            "Epoch 44/50\n",
            "40/40 [==============================] - 7s 175ms/step - loss: 2.0063 - accuracy: 0.4058 - val_loss: 2.1923 - val_accuracy: 0.3600\n",
            "Epoch 45/50\n",
            "40/40 [==============================] - 7s 174ms/step - loss: 1.9852 - accuracy: 0.3934 - val_loss: 2.0854 - val_accuracy: 0.4000\n",
            "Epoch 46/50\n",
            "40/40 [==============================] - 7s 175ms/step - loss: 1.9489 - accuracy: 0.4077 - val_loss: 2.2631 - val_accuracy: 0.4400\n",
            "Epoch 47/50\n",
            "40/40 [==============================] - 7s 176ms/step - loss: 1.9225 - accuracy: 0.4185 - val_loss: 2.4638 - val_accuracy: 0.3400\n",
            "Epoch 48/50\n",
            "40/40 [==============================] - 7s 174ms/step - loss: 1.9313 - accuracy: 0.4136 - val_loss: 2.2093 - val_accuracy: 0.4000\n",
            "Epoch 49/50\n",
            "40/40 [==============================] - 7s 176ms/step - loss: 1.9857 - accuracy: 0.3919 - val_loss: 2.3173 - val_accuracy: 0.4200\n",
            "Epoch 50/50\n",
            "40/40 [==============================] - 7s 177ms/step - loss: 1.9642 - accuracy: 0.4129 - val_loss: 2.2109 - val_accuracy: 0.4000\n"
          ],
          "name": "stdout"
        }
      ]
    },
    {
      "cell_type": "code",
      "metadata": {
        "colab": {
          "base_uri": "https://localhost:8080/",
          "height": 307
        },
        "id": "qYIgmVrb9q4Q",
        "outputId": "2411246b-db8f-47ab-ca98-00ce218b500a"
      },
      "source": [
        "get_plot(history_FT_IA,50)"
      ],
      "execution_count": 64,
      "outputs": [
        {
          "output_type": "display_data",
          "data": {
            "image/png": "[encoded data removed]",
            "text/plain": [
              "<Figure size 864x288 with 2 Axes>"
            ]
          },
          "metadata": {
            "tags": [],
            "needs_background": "light"
          }
        }
      ]
    },
    {
      "cell_type": "code",
      "metadata": {
        "id": "SdS0du8r_GiS",
        "colab": {
          "base_uri": "https://localhost:8080/"
        },
        "outputId": "41121645-7289-4534-f760-a43feecddf91"
      },
      "source": [
        "get_acc(history_FT_IA)"
      ],
      "execution_count": 65,
      "outputs": [
        {
          "output_type": "stream",
          "text": [
            "Train maximam accuracy achived is  0.41499999165534973\n",
            "Test maximam accuracy achived is  0.5\n"
          ],
          "name": "stdout"
        }
      ]
    },
    {
      "cell_type": "markdown",
      "metadata": {
        "id": "xZMJ8Bz-XP_G"
      },
      "source": [
        "THe above model did not give better result so \r\n",
        "<br>lets try previous model with IA"
      ]
    },
    {
      "cell_type": "code",
      "metadata": {
        "id": "n8_oqCnPN1Fi"
      },
      "source": [
        ""
      ],
      "execution_count": null,
      "outputs": []
    },
    {
      "cell_type": "markdown",
      "metadata": {
        "id": "uYJu_J6_W3So"
      },
      "source": [
        "# VGG16FEx with IA"
      ]
    },
    {
      "cell_type": "markdown",
      "metadata": {
        "id": "Lkf3XnXEZLhC"
      },
      "source": [
        ""
      ]
    },
    {
      "cell_type": "code",
      "metadata": {
        "colab": {
          "base_uri": "https://localhost:8080/"
        },
        "id": "867_9koPdyK-",
        "outputId": "1443d49d-d799-4943-ff70-7929f8cfdb9d"
      },
      "source": [
        "len(train_generator)"
      ],
      "execution_count": 77,
      "outputs": [
        {
          "output_type": "execute_result",
          "data": {
            "text/plain": [
              "40"
            ]
          },
          "metadata": {
            "tags": []
          },
          "execution_count": 77
        }
      ]
    },
    {
      "cell_type": "code",
      "metadata": {
        "id": "v9cFkaWnj_3D"
      },
      "source": [
        "train_fex_Ia = get_bottleneck_features(vgg_model,train_datagen.flow(X_train,batch_size=10))"
      ],
      "execution_count": 78,
      "outputs": []
    },
    {
      "cell_type": "code",
      "metadata": {
        "id": "uivV1-L1kr12"
      },
      "source": [
        "test_fex_Ia = get_bottleneck_features(vgg_model,val_datagen.flow(X_test,batch_size=5))"
      ],
      "execution_count": 79,
      "outputs": []
    },
    {
      "cell_type": "code",
      "metadata": {
        "colab": {
          "base_uri": "https://localhost:8080/"
        },
        "id": "SMgUKNgudxv9",
        "outputId": "7b574e43-80d5-41b1-fb2d-4fdc4280e445"
      },
      "source": [
        "history_FT_IA = model_ftr_ex.fit(x=train_fex_Ia,y=y_train,validation_data=(test_fex_Ia,y_test),epochs=20)"
      ],
      "execution_count": 83,
      "outputs": [
        {
          "output_type": "stream",
          "text": [
            "Epoch 1/20\n",
            "13/13 [==============================] - 0s 13ms/step - loss: 1.9507 - accuracy: 0.4075 - val_loss: 2.2019 - val_accuracy: 0.4100\n",
            "Epoch 2/20\n",
            "13/13 [==============================] - 0s 10ms/step - loss: 1.9449 - accuracy: 0.4075 - val_loss: 2.2015 - val_accuracy: 0.4100\n",
            "Epoch 3/20\n",
            "13/13 [==============================] - 0s 10ms/step - loss: 1.9452 - accuracy: 0.4075 - val_loss: 2.2026 - val_accuracy: 0.4100\n",
            "Epoch 4/20\n",
            "13/13 [==============================] - 0s 10ms/step - loss: 1.9463 - accuracy: 0.4075 - val_loss: 2.2032 - val_accuracy: 0.4100\n",
            "Epoch 5/20\n",
            "13/13 [==============================] - 0s 10ms/step - loss: 1.9614 - accuracy: 0.4075 - val_loss: 2.2019 - val_accuracy: 0.4100\n",
            "Epoch 6/20\n",
            "13/13 [==============================] - 0s 10ms/step - loss: 1.9461 - accuracy: 0.4075 - val_loss: 2.2023 - val_accuracy: 0.4100\n",
            "Epoch 7/20\n",
            "13/13 [==============================] - 0s 10ms/step - loss: 1.9491 - accuracy: 0.4075 - val_loss: 2.2037 - val_accuracy: 0.4100\n",
            "Epoch 8/20\n",
            "13/13 [==============================] - 0s 10ms/step - loss: 1.9566 - accuracy: 0.4075 - val_loss: 2.2034 - val_accuracy: 0.4100\n",
            "Epoch 9/20\n",
            "13/13 [==============================] - 0s 10ms/step - loss: 1.9545 - accuracy: 0.4075 - val_loss: 2.2037 - val_accuracy: 0.4100\n",
            "Epoch 10/20\n",
            "13/13 [==============================] - 0s 10ms/step - loss: 1.9570 - accuracy: 0.4075 - val_loss: 2.2030 - val_accuracy: 0.4100\n",
            "Epoch 11/20\n",
            "13/13 [==============================] - 0s 9ms/step - loss: 1.9463 - accuracy: 0.4075 - val_loss: 2.2035 - val_accuracy: 0.4100\n",
            "Epoch 12/20\n",
            "13/13 [==============================] - 0s 10ms/step - loss: 1.9554 - accuracy: 0.4075 - val_loss: 2.2043 - val_accuracy: 0.4100\n",
            "Epoch 13/20\n",
            "13/13 [==============================] - 0s 10ms/step - loss: 1.9521 - accuracy: 0.4075 - val_loss: 2.2052 - val_accuracy: 0.4100\n",
            "Epoch 14/20\n",
            "13/13 [==============================] - 0s 10ms/step - loss: 1.9590 - accuracy: 0.4075 - val_loss: 2.2055 - val_accuracy: 0.4100\n",
            "Epoch 15/20\n",
            "13/13 [==============================] - 0s 10ms/step - loss: 1.9557 - accuracy: 0.4075 - val_loss: 2.2061 - val_accuracy: 0.4100\n",
            "Epoch 16/20\n",
            "13/13 [==============================] - 0s 10ms/step - loss: 1.9572 - accuracy: 0.4075 - val_loss: 2.2062 - val_accuracy: 0.4100\n",
            "Epoch 17/20\n",
            "13/13 [==============================] - 0s 9ms/step - loss: 1.9531 - accuracy: 0.4075 - val_loss: 2.2068 - val_accuracy: 0.4100\n",
            "Epoch 18/20\n",
            "13/13 [==============================] - 0s 10ms/step - loss: 1.9427 - accuracy: 0.4075 - val_loss: 2.2061 - val_accuracy: 0.4100\n",
            "Epoch 19/20\n",
            "13/13 [==============================] - 0s 10ms/step - loss: 1.9523 - accuracy: 0.4075 - val_loss: 2.2081 - val_accuracy: 0.4100\n",
            "Epoch 20/20\n",
            "13/13 [==============================] - 0s 9ms/step - loss: 1.9469 - accuracy: 0.4075 - val_loss: 2.2079 - val_accuracy: 0.4100\n"
          ],
          "name": "stdout"
        }
      ]
    },
    {
      "cell_type": "code",
      "metadata": {
        "colab": {
          "base_uri": "https://localhost:8080/",
          "height": 365
        },
        "id": "PnkETRCDmKBS",
        "outputId": "a79dfd90-c523-486d-8f23-a7631c189742"
      },
      "source": [
        "history_FT_IA = model_ftr_ex.fit_generator(get_bottleneck_features(vgg_model,train_datagen.flow(X_train,batch_size=10)),\r\n",
        "                                           get_bottleneck_features(vgg_model,val_datagen.flow(X_test,batch_size=5)),epochs=20)"
      ],
      "execution_count": 84,
      "outputs": [
        {
          "output_type": "stream",
          "text": [
            "/usr/local/lib/python3.6/dist-packages/tensorflow/python/keras/engine/training.py:1844: UserWarning: `Model.fit_generator` is deprecated and will be removed in a future version. Please use `Model.fit`, which supports generators.\n",
            "  warnings.warn('`Model.fit_generator` is deprecated and '\n"
          ],
          "name": "stderr"
        },
        {
          "output_type": "error",
          "ename": "ValueError",
          "evalue": "ignored",
          "traceback": [
            "\u001b[0;31m---------------------------------------------------------------------------\u001b[0m",
            "\u001b[0;31mValueError\u001b[0m                                Traceback (most recent call last)",
            "\u001b[0;32m<ipython-input-84-d80cfada357c>\u001b[0m in \u001b[0;36m<module>\u001b[0;34m()\u001b[0m\n\u001b[1;32m      1\u001b[0m history_FT_IA = model_ftr_ex.fit_generator(get_bottleneck_features(vgg_model,train_datagen.flow(X_train,batch_size=10)),\n\u001b[0;32m----> 2\u001b[0;31m                                            get_bottleneck_features(vgg_model,val_datagen.flow(X_test,batch_size=5)),epochs=20)\n\u001b[0m",
            "\u001b[0;32m/usr/local/lib/python3.6/dist-packages/tensorflow/python/keras/engine/training.py\u001b[0m in \u001b[0;36mfit_generator\u001b[0;34m(self, generator, steps_per_epoch, epochs, verbose, callbacks, validation_data, validation_steps, validation_freq, class_weight, max_queue_size, workers, use_multiprocessing, shuffle, initial_epoch)\u001b[0m\n\u001b[1;32m   1859\u001b[0m         \u001b[0muse_multiprocessing\u001b[0m\u001b[0;34m=\u001b[0m\u001b[0muse_multiprocessing\u001b[0m\u001b[0;34m,\u001b[0m\u001b[0;34m\u001b[0m\u001b[0;34m\u001b[0m\u001b[0m\n\u001b[1;32m   1860\u001b[0m         \u001b[0mshuffle\u001b[0m\u001b[0;34m=\u001b[0m\u001b[0mshuffle\u001b[0m\u001b[0;34m,\u001b[0m\u001b[0;34m\u001b[0m\u001b[0;34m\u001b[0m\u001b[0m\n\u001b[0;32m-> 1861\u001b[0;31m         initial_epoch=initial_epoch)\n\u001b[0m\u001b[1;32m   1862\u001b[0m \u001b[0;34m\u001b[0m\u001b[0m\n\u001b[1;32m   1863\u001b[0m   def evaluate_generator(self,\n",
            "\u001b[0;32m/usr/local/lib/python3.6/dist-packages/tensorflow/python/keras/engine/training.py\u001b[0m in \u001b[0;36mfit\u001b[0;34m(self, x, y, batch_size, epochs, verbose, callbacks, validation_split, validation_data, shuffle, class_weight, sample_weight, initial_epoch, steps_per_epoch, validation_steps, validation_batch_size, validation_freq, max_queue_size, workers, use_multiprocessing)\u001b[0m\n\u001b[1;32m   1062\u001b[0m           \u001b[0muse_multiprocessing\u001b[0m\u001b[0;34m=\u001b[0m\u001b[0muse_multiprocessing\u001b[0m\u001b[0;34m,\u001b[0m\u001b[0;34m\u001b[0m\u001b[0;34m\u001b[0m\u001b[0m\n\u001b[1;32m   1063\u001b[0m           \u001b[0mmodel\u001b[0m\u001b[0;34m=\u001b[0m\u001b[0mself\u001b[0m\u001b[0;34m,\u001b[0m\u001b[0;34m\u001b[0m\u001b[0;34m\u001b[0m\u001b[0m\n\u001b[0;32m-> 1064\u001b[0;31m           steps_per_execution=self._steps_per_execution)\n\u001b[0m\u001b[1;32m   1065\u001b[0m \u001b[0;34m\u001b[0m\u001b[0m\n\u001b[1;32m   1066\u001b[0m       \u001b[0;31m# Container that configures and calls `tf.keras.Callback`s.\u001b[0m\u001b[0;34m\u001b[0m\u001b[0;34m\u001b[0m\u001b[0;34m\u001b[0m\u001b[0m\n",
            "\u001b[0;32m/usr/local/lib/python3.6/dist-packages/tensorflow/python/keras/engine/data_adapter.py\u001b[0m in \u001b[0;36m__init__\u001b[0;34m(self, x, y, sample_weight, batch_size, steps_per_epoch, initial_epoch, epochs, shuffle, class_weight, max_queue_size, workers, use_multiprocessing, model, steps_per_execution)\u001b[0m\n\u001b[1;32m   1110\u001b[0m         \u001b[0muse_multiprocessing\u001b[0m\u001b[0;34m=\u001b[0m\u001b[0muse_multiprocessing\u001b[0m\u001b[0;34m,\u001b[0m\u001b[0;34m\u001b[0m\u001b[0;34m\u001b[0m\u001b[0m\n\u001b[1;32m   1111\u001b[0m         \u001b[0mdistribution_strategy\u001b[0m\u001b[0;34m=\u001b[0m\u001b[0mds_context\u001b[0m\u001b[0;34m.\u001b[0m\u001b[0mget_strategy\u001b[0m\u001b[0;34m(\u001b[0m\u001b[0;34m)\u001b[0m\u001b[0;34m,\u001b[0m\u001b[0;34m\u001b[0m\u001b[0;34m\u001b[0m\u001b[0m\n\u001b[0;32m-> 1112\u001b[0;31m         model=model)\n\u001b[0m\u001b[1;32m   1113\u001b[0m \u001b[0;34m\u001b[0m\u001b[0m\n\u001b[1;32m   1114\u001b[0m     \u001b[0mstrategy\u001b[0m \u001b[0;34m=\u001b[0m \u001b[0mds_context\u001b[0m\u001b[0;34m.\u001b[0m\u001b[0mget_strategy\u001b[0m\u001b[0;34m(\u001b[0m\u001b[0;34m)\u001b[0m\u001b[0;34m\u001b[0m\u001b[0;34m\u001b[0m\u001b[0m\n",
            "\u001b[0;32m/usr/local/lib/python3.6/dist-packages/tensorflow/python/keras/engine/data_adapter.py\u001b[0m in \u001b[0;36m__init__\u001b[0;34m(self, x, y, sample_weights, sample_weight_modes, batch_size, epochs, steps, shuffle, **kwargs)\u001b[0m\n\u001b[1;32m    277\u001b[0m     \u001b[0;31m# Default to 32 for backwards compat.\u001b[0m\u001b[0;34m\u001b[0m\u001b[0;34m\u001b[0m\u001b[0;34m\u001b[0m\u001b[0m\n\u001b[1;32m    278\u001b[0m     \u001b[0;32mif\u001b[0m \u001b[0;32mnot\u001b[0m \u001b[0mbatch_size\u001b[0m\u001b[0;34m:\u001b[0m\u001b[0;34m\u001b[0m\u001b[0;34m\u001b[0m\u001b[0m\n\u001b[0;32m--> 279\u001b[0;31m       \u001b[0mbatch_size\u001b[0m \u001b[0;34m=\u001b[0m \u001b[0mint\u001b[0m\u001b[0;34m(\u001b[0m\u001b[0mmath\u001b[0m\u001b[0;34m.\u001b[0m\u001b[0mceil\u001b[0m\u001b[0;34m(\u001b[0m\u001b[0mnum_samples\u001b[0m \u001b[0;34m/\u001b[0m \u001b[0msteps\u001b[0m\u001b[0;34m)\u001b[0m\u001b[0;34m)\u001b[0m \u001b[0;32mif\u001b[0m \u001b[0msteps\u001b[0m \u001b[0;32melse\u001b[0m \u001b[0;36m32\u001b[0m\u001b[0;34m\u001b[0m\u001b[0;34m\u001b[0m\u001b[0m\n\u001b[0m\u001b[1;32m    280\u001b[0m \u001b[0;34m\u001b[0m\u001b[0m\n\u001b[1;32m    281\u001b[0m     \u001b[0mself\u001b[0m\u001b[0;34m.\u001b[0m\u001b[0m_size\u001b[0m \u001b[0;34m=\u001b[0m \u001b[0mint\u001b[0m\u001b[0;34m(\u001b[0m\u001b[0mmath\u001b[0m\u001b[0;34m.\u001b[0m\u001b[0mceil\u001b[0m\u001b[0;34m(\u001b[0m\u001b[0mnum_samples\u001b[0m \u001b[0;34m/\u001b[0m \u001b[0mbatch_size\u001b[0m\u001b[0;34m)\u001b[0m\u001b[0;34m)\u001b[0m\u001b[0;34m\u001b[0m\u001b[0;34m\u001b[0m\u001b[0m\n",
            "\u001b[0;31mValueError\u001b[0m: The truth value of an array with more than one element is ambiguous. Use a.any() or a.all()"
          ]
        }
      ]
    },
    {
      "cell_type": "markdown",
      "metadata": {
        "id": "cH-AGIG6mTpt"
      },
      "source": [
        "# Need to know how to use feature extraction with fit_generator"
      ]
    },
    {
      "cell_type": "code",
      "metadata": {
        "colab": {
          "base_uri": "https://localhost:8080/",
          "height": 207
        },
        "id": "ZvGMHPckW2Tn",
        "outputId": "2764d4f9-3e01-4b4b-fcfe-cf8a82153473"
      },
      "source": [
        "'''\r\n",
        "PPatterns = pattern_model.fit_generator(generator.flow(X_train, y_train, batch_size=32), validation_data=(X_test, y_test), epochs=100)\r\n",
        "def get_bottleneck_features(model, input_imgs):\r\n",
        "    features = model.predict(input_imgs, verbose=0)\r\n",
        "    return features\r\n",
        "    \r\n",
        "train_features_vgg = get_bottleneck_features(vgg_model, X_train) #all_imgs_scaled --> X_train, X_test, y_train, y_test ==> all are scalled\r\n",
        "validation_features_vgg = get_bottleneck_features(vgg_model, X_test)\r\n",
        "'''\r\n",
        "\r\n",
        "# PPatterns = pattern_model.fit_generator(generator.flow(X_train, y_train, batch_size=32), validation_data=(X_test, y_test), epochs=100)\r\n",
        "\r\n",
        "history_FEx_IM = model_ftr_ex.fit_generator(train_generator.flow(X_train, y_train), steps_per_epoch=40, epochs=50,\r\n",
        "                              validation_data=(X_test,y_test), validation_steps=10, )\r\n"
      ],
      "execution_count": 68,
      "outputs": [
        {
          "output_type": "error",
          "ename": "AttributeError",
          "evalue": "ignored",
          "traceback": [
            "\u001b[0;31m---------------------------------------------------------------------------\u001b[0m",
            "\u001b[0;31mAttributeError\u001b[0m                            Traceback (most recent call last)",
            "\u001b[0;32m<ipython-input-68-d905e53be25c>\u001b[0m in \u001b[0;36m<module>\u001b[0;34m()\u001b[0m\n\u001b[1;32m      5\u001b[0m \u001b[0;31m# PPatterns = pattern_model.fit_generator(generator.flow(X_train, y_train, batch_size=32), validation_data=(X_test, y_test), epochs=100)\u001b[0m\u001b[0;34m\u001b[0m\u001b[0;34m\u001b[0m\u001b[0;34m\u001b[0m\u001b[0m\n\u001b[1;32m      6\u001b[0m \u001b[0;34m\u001b[0m\u001b[0m\n\u001b[0;32m----> 7\u001b[0;31m history_FEx_IM = model_ftr_ex.fit_generator(train_generator.flow(X_train, y_train), steps_per_epoch=40, epochs=50,\n\u001b[0m\u001b[1;32m      8\u001b[0m                               validation_data=(X_test,y_test), validation_steps=10, )\n",
            "\u001b[0;31mAttributeError\u001b[0m: 'NumpyArrayIterator' object has no attribute 'flow'"
          ]
        }
      ]
    },
    {
      "cell_type": "code",
      "metadata": {
        "id": "MqBF69o2XlSO"
      },
      "source": [
        ""
      ],
      "execution_count": null,
      "outputs": []
    },
    {
      "cell_type": "code",
      "metadata": {
        "id": "apygUif3mexI"
      },
      "source": [
        ""
      ],
      "execution_count": null,
      "outputs": []
    },
    {
      "cell_type": "code",
      "metadata": {
        "id": "tHGww38emefd"
      },
      "source": [
        ""
      ],
      "execution_count": null,
      "outputs": []
    },
    {
      "cell_type": "markdown",
      "metadata": {
        "id": "JcqojdJcmfSN"
      },
      "source": [
        "# so far best model for label prediction to use for other labes like material and neckline we can train the model using VGG16 feature extractor"
      ]
    },
    {
      "cell_type": "code",
      "metadata": {
        "id": "XyF4DmSkm8gV"
      },
      "source": [
        ""
      ],
      "execution_count": null,
      "outputs": []
    }
  ]
}